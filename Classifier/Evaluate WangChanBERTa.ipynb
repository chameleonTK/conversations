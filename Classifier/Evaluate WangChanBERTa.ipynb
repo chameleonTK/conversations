{
 "cells": [
  {
   "cell_type": "code",
   "execution_count": 2,
   "id": "88f796d7-6702-47c1-82d2-0ac05c2899aa",
   "metadata": {},
   "outputs": [],
   "source": [
    "from data_loader import get_task1_conver, get_task2_conver, preprocess"
   ]
  },
  {
   "cell_type": "code",
   "execution_count": 3,
   "id": "fa4c0275-151d-4ff3-ae10-4d09d2ed11ad",
   "metadata": {},
   "outputs": [],
   "source": [
    "import pandas as pd"
   ]
  },
  {
   "cell_type": "code",
   "execution_count": 4,
   "id": "7be02ae8-20a1-414c-953d-0a03003957cd",
   "metadata": {},
   "outputs": [],
   "source": [
    "import sys\n",
    "sys.path.append('..')\n",
    "\n",
    "from utils import load_jsonl, dump_jsonl, set_random_seed"
   ]
  },
  {
   "cell_type": "code",
   "execution_count": 5,
   "id": "c54a6105-96d7-4a83-9e26-913b9ecbd8bc",
   "metadata": {},
   "outputs": [],
   "source": [
    "import pandas as pd\n",
    "from transformers import AutoTokenizer, AutoModelForSequenceClassification\n",
    "# import wandb\n",
    "# from sklearn.metrics import precision_recall_fscore_support, classification_report\n",
    "# from pythainlp.tokenize import word_tokenize\n",
    "import torch\n",
    "import datasets\n",
    "from datasets import Dataset, DatasetDict\n",
    "from transformers import DataCollatorWithPadding\n",
    "import numpy as np\n",
    "import evaluate\n",
    "from transformers import TrainingArguments, Trainer\n",
    "\n"
   ]
  },
  {
   "cell_type": "code",
   "execution_count": 6,
   "id": "4e49d0db-cc8b-4b4f-8393-20a9d8db100d",
   "metadata": {},
   "outputs": [],
   "source": [
    "from sklearn.utils import compute_class_weight\n",
    "import torch.nn as nn\n",
    "from itertools import groupby\n",
    "import os, shutil\n",
    "    \n",
    "def preprocess(text):\n",
    "    text = text.lower()\n",
    "\n",
    "    # handle repeted charecters\n",
    "    s = \"\"\n",
    "    for k,v in groupby(text):\n",
    "        n = len(list(v))\n",
    "        s += k*min(n, 4)\n",
    "        if n >= 4:\n",
    "          s += \" rep \"\n",
    "\n",
    "    text = s\n",
    "    \n",
    "    return text"
   ]
  },
  {
   "cell_type": "code",
   "execution_count": 7,
   "id": "9530a805-21fa-4131-8f75-b3c31697dffa",
   "metadata": {},
   "outputs": [],
   "source": [
    "from sklearn.metrics import f1_score, precision_recall_fscore_support, confusion_matrix, accuracy_score\n",
    "from tqdm import tqdm\n",
    "\n",
    "def run_eval(best_ckpt_path, df):\n",
    "\n",
    "    # set_random_seed()\n",
    "    device = torch.device('cuda' if torch.cuda.is_available() else 'cpu')\n",
    "    # device = torch.device(\"cpu\")\n",
    "    print(\"START\")\n",
    "    print(\"step 1: load data\")\n",
    "\n",
    "    # print(train.groupby(\"label\").count())\n",
    "    # print(test.groupby(\"label\").count())\n",
    "\n",
    "    print(\"step 2: load tokenizer\")\n",
    "    model_name = \"airesearch/wangchanberta-base-att-spm-uncased\"\n",
    "    tokenizer = AutoTokenizer.from_pretrained(model_name)\n",
    "    num_added_toks = tokenizer.add_special_tokens({\"additional_special_tokens\": [\"usr\", \"sys\", \"rep\"]})\n",
    "\n",
    "    print(\"step 3: init data\")\n",
    "    ds = DatasetDict()\n",
    "    ds['test'] = Dataset.from_pandas(df)\n",
    "\n",
    "    print(\"step 4: load model\")\n",
    "    model = AutoModelForSequenceClassification.from_pretrained(best_ckpt_path);\n",
    "    model = model.to(device)\n",
    "\n",
    "    id2label = model.config.id2label\n",
    "    label2id = model.config.label2id\n",
    "\n",
    "#     def word_tokenize(d, tokenizer=None, label2id=None, max_length=256):\n",
    "#         tokens = tokenizer(d[\"text\"], truncation=True, max_length=max_length)\n",
    "#         tokens[\"label\"] = [label2id[label] for label in d[\"label\"]]\n",
    "#         return tokens\n",
    "\n",
    "#     tokenized_ds = ds.map(word_tokenize, batched=True, fn_kwargs={\"tokenizer\":tokenizer, \"label2id\": label2id, \"max_length\":max_length})\n",
    "#     data_collator = DataCollatorWithPadding(tokenizer=tokenizer)\n",
    "\n",
    "    print(\"step 6: evaluate\")\n",
    "\n",
    "\n",
    "    y_true, y_pred = [], []\n",
    "    for t, l in tqdm(zip(df[\"text\"], df[\"label\"]), total=len(df[\"text\"])):\n",
    "        inputs = tokenizer(preprocess(t), return_tensors=\"pt\", truncation=True, padding=\"max_length\", max_length=max_length).to(device)\n",
    "        with torch.no_grad():\n",
    "            logits = model(**inputs).logits\n",
    "\n",
    "        predicted_class_id = logits.argmax().item()\n",
    "        p = model.config.id2label[predicted_class_id]\n",
    "\n",
    "\n",
    "        y_true.append(l)\n",
    "        y_pred.append(p)\n",
    "    \n",
    "\n",
    "    print(\"F1\", f1_score(y_true, y_pred, average=\"macro\"))\n",
    "    print(\"P/R/F1\", precision_recall_fscore_support(y_true, y_pred, average=\"macro\"))\n",
    "    print(\"Acc\", accuracy_score(y_true, y_pred))\n",
    "    return y_true, y_pred"
   ]
  },
  {
   "cell_type": "code",
   "execution_count": 8,
   "id": "8db3b1da-4a37-436b-bf33-86a629bbdf4d",
   "metadata": {},
   "outputs": [],
   "source": [
    "report = \"none\"\n",
    "batch_size = 16\n",
    "max_length = 128\n",
    "num_epochs = 5"
   ]
  },
  {
   "cell_type": "code",
   "execution_count": 9,
   "id": "6f845d9b-0236-4850-9dc8-3b0af119dd29",
   "metadata": {},
   "outputs": [],
   "source": [
    "# Why are precision, recall and F1 score equal when using micro averaging in a multi-class problem?\n",
    "# https://simonhessner.de/why-are-precision-recall-and-f1-score-equal-when-using-micro-averaging-in-a-multi-class-problem/"
   ]
  },
  {
   "cell_type": "markdown",
   "id": "1c7842eb-6d6a-4af2-8880-75bcce0ffaed",
   "metadata": {},
   "source": [
    "## Task1"
   ]
  },
  {
   "cell_type": "code",
   "execution_count": 98,
   "id": "355c5d6c-85fa-4af1-b5a9-1a1c4a375031",
   "metadata": {},
   "outputs": [
    {
     "name": "stdout",
     "output_type": "stream",
     "text": [
      "Loaded 1234 records from ../Task1/annotated_conersations.jsonl\n",
      "N 1096 60 60\n",
      "Dataset train\n",
      "START\n",
      "step 1: load data\n",
      "step 2: load tokenizer\n",
      "step 3: init data\n",
      "step 4: load model\n",
      "step 6: evaluate\n"
     ]
    },
    {
     "name": "stderr",
     "output_type": "stream",
     "text": [
      "100%|██████████████████████████████████████████████████████████████████████████████████████████████████████████████████████████████████████████████████████████████████| 1096/1096 [00:16<00:00, 67.92it/s]\n"
     ]
    },
    {
     "name": "stdout",
     "output_type": "stream",
     "text": [
      "F1 0.7895186959860322\n",
      "P/R/F1 (0.7980044241249482, 0.7871498187256325, 0.7895186959860322, None)\n",
      "Acc 0.8366788321167883\n",
      "======================\n",
      "Dataset val\n",
      "START\n",
      "step 1: load data\n",
      "step 2: load tokenizer\n",
      "step 3: init data\n",
      "step 4: load model\n",
      "step 6: evaluate\n"
     ]
    },
    {
     "name": "stderr",
     "output_type": "stream",
     "text": [
      "100%|██████████████████████████████████████████████████████████████████████████████████████████████████████████████████████████████████████████████████████████████████████| 60/60 [00:00<00:00, 68.06it/s]\n"
     ]
    },
    {
     "name": "stdout",
     "output_type": "stream",
     "text": [
      "F1 0.5541666666666667\n",
      "P/R/F1 (0.5404761904761904, 0.6129629629629629, 0.5541666666666667, None)\n",
      "Acc 0.7333333333333333\n",
      "======================\n",
      "Dataset test\n",
      "START\n",
      "step 1: load data\n",
      "step 2: load tokenizer\n",
      "step 3: init data\n",
      "step 4: load model\n",
      "step 6: evaluate\n"
     ]
    },
    {
     "name": "stderr",
     "output_type": "stream",
     "text": [
      "100%|██████████████████████████████████████████████████████████████████████████████████████████████████████████████████████████████████████████████████████████████████████| 60/60 [00:00<00:00, 68.00it/s]"
     ]
    },
    {
     "name": "stdout",
     "output_type": "stream",
     "text": [
      "F1 0.3947746195808211\n",
      "P/R/F1 (0.4102564102564103, 0.3871158392434988, 0.3947746195808211, None)\n",
      "Acc 0.6666666666666666\n",
      "======================\n"
     ]
    },
    {
     "name": "stderr",
     "output_type": "stream",
     "text": [
      "\n"
     ]
    }
   ],
   "source": [
    "train, val, test = get_task1_conver(\"../Task1/annotated_conersations.jsonl\", \"closeness\", skips = [\"4. Don't like each other\"], only_user=True)\n",
    "model_path = \"./Models/task1_clse_usr\"\n",
    "for name, df in [(\"train\", train), (\"val\", val), (\"test\", test)]:\n",
    "    print(\"Dataset\", name)\n",
    "    y_true, y_pred = run_eval(f\"{model_path}/best_model\", df);\n",
    "    df[\"predict\"] = y_pred\n",
    "    df.to_csv(f\"{model_path}/{name}.csv\", index=False)\n",
    "    print(\"======================\")"
   ]
  },
  {
   "cell_type": "code",
   "execution_count": 99,
   "id": "a2d7ea5c-a8f8-4756-a9a7-ff01feb22077",
   "metadata": {},
   "outputs": [
    {
     "name": "stdout",
     "output_type": "stream",
     "text": [
      "Loaded 1234 records from ../Task1/annotated_conersations.jsonl\n",
      "N 1098 61 61\n",
      "Dataset train\n",
      "START\n",
      "step 1: load data\n",
      "step 2: load tokenizer\n",
      "step 3: init data\n",
      "step 4: load model\n",
      "step 6: evaluate\n"
     ]
    },
    {
     "name": "stderr",
     "output_type": "stream",
     "text": [
      "100%|██████████████████████████████████████████████████████████████████████████████████████████████████████████████████████████████████████████████████████████████████| 1098/1098 [00:16<00:00, 68.08it/s]\n"
     ]
    },
    {
     "name": "stdout",
     "output_type": "stream",
     "text": [
      "F1 0.5431583686635778\n",
      "P/R/F1 (0.5430539553061182, 0.5717105834350583, 0.5431583686635778, None)\n",
      "Acc 0.5737704918032787\n",
      "======================\n",
      "Dataset val\n",
      "START\n",
      "step 1: load data\n",
      "step 2: load tokenizer\n",
      "step 3: init data\n",
      "step 4: load model\n",
      "step 6: evaluate\n"
     ]
    },
    {
     "name": "stderr",
     "output_type": "stream",
     "text": [
      "100%|██████████████████████████████████████████████████████████████████████████████████████████████████████████████████████████████████████████████████████████████████████| 61/61 [00:00<00:00, 68.10it/s]\n"
     ]
    },
    {
     "name": "stdout",
     "output_type": "stream",
     "text": [
      "F1 0.4399484374017481\n",
      "P/R/F1 (0.44868644868644864, 0.44206349206349205, 0.4399484374017481, None)\n",
      "Acc 0.5573770491803278\n",
      "======================\n",
      "Dataset test\n",
      "START\n",
      "step 1: load data\n",
      "step 2: load tokenizer\n",
      "step 3: init data\n",
      "step 4: load model\n",
      "step 6: evaluate\n"
     ]
    },
    {
     "name": "stderr",
     "output_type": "stream",
     "text": [
      "100%|██████████████████████████████████████████████████████████████████████████████████████████████████████████████████████████████████████████████████████████████████████| 61/61 [00:00<00:00, 68.04it/s]"
     ]
    },
    {
     "name": "stdout",
     "output_type": "stream",
     "text": [
      "F1 0.36638245041606393\n",
      "P/R/F1 (0.37103174603174605, 0.3637037037037037, 0.36638245041606393, None)\n",
      "Acc 0.3770491803278688\n",
      "======================\n"
     ]
    },
    {
     "name": "stderr",
     "output_type": "stream",
     "text": [
      "\n"
     ]
    }
   ],
   "source": [
    "train, val, test = get_task1_conver(\"../Task1/annotated_conersations.jsonl\", \"authority\", skips = [\"3. Not respect\"], only_user=True)\n",
    "model_path = \"./Models/task1_auth_usr\"\n",
    "for name, df in [(\"train\", train), (\"val\", val), (\"test\", test)]:\n",
    "    print(\"Dataset\", name)\n",
    "    y_true, y_pred = run_eval(f\"{model_path}/best_model\", df);\n",
    "    df[\"predict\"] = y_pred\n",
    "    df.to_csv(f\"{model_path}/{name}.csv\", index=False)\n",
    "    print(\"======================\")"
   ]
  },
  {
   "cell_type": "code",
   "execution_count": null,
   "id": "b9be7841-8a96-4f40-8aec-d52038d2857c",
   "metadata": {},
   "outputs": [],
   "source": []
  },
  {
   "cell_type": "markdown",
   "id": "6fdabe3c-b2c6-43b5-b8a1-0ab5efd043b8",
   "metadata": {},
   "source": [
    "## Task2"
   ]
  },
  {
   "cell_type": "code",
   "execution_count": 100,
   "id": "e5d6f365-b848-4646-b49c-6cb1e655b367",
   "metadata": {},
   "outputs": [
    {
     "name": "stdout",
     "output_type": "stream",
     "text": [
      "Loaded 2463 records from ../Task2/annotated/annotated.jsonl\n",
      "N 1495 186 186\n",
      "Dataset train\n",
      "START\n",
      "step 1: load data\n",
      "step 2: load tokenizer\n",
      "step 3: init data\n",
      "step 4: load model\n",
      "step 6: evaluate\n"
     ]
    },
    {
     "name": "stderr",
     "output_type": "stream",
     "text": [
      "100%|██████████████████████████████████████████████████████████████████████████████████████████████████████████████████████████████████████████████████████████████████| 1495/1495 [00:21<00:00, 69.98it/s]\n"
     ]
    },
    {
     "name": "stdout",
     "output_type": "stream",
     "text": [
      "F1 0.6320846447983318\n",
      "P/R/F1 (0.5863550450415173, 0.7598472960767585, 0.6320846447983318, None)\n",
      "Acc 0.7598662207357859\n",
      "======================\n",
      "Dataset val\n",
      "START\n",
      "step 1: load data\n",
      "step 2: load tokenizer\n",
      "step 3: init data\n",
      "step 4: load model\n",
      "step 6: evaluate\n"
     ]
    },
    {
     "name": "stderr",
     "output_type": "stream",
     "text": [
      "100%|████████████████████████████████████████████████████████████████████████████████████████████████████████████████████████████████████████████████████████████████████| 186/186 [00:02<00:00, 69.89it/s]\n"
     ]
    },
    {
     "name": "stdout",
     "output_type": "stream",
     "text": [
      "F1 0.4827057087731245\n",
      "P/R/F1 (0.49442860288155344, 0.515220700152207, 0.4827057087731245, None)\n",
      "Acc 0.6559139784946236\n",
      "======================\n",
      "Dataset test\n",
      "START\n",
      "step 1: load data\n",
      "step 2: load tokenizer\n",
      "step 3: init data\n",
      "step 4: load model\n",
      "step 6: evaluate\n"
     ]
    },
    {
     "name": "stderr",
     "output_type": "stream",
     "text": [
      "100%|████████████████████████████████████████████████████████████████████████████████████████████████████████████████████████████████████████████████████████████████████| 186/186 [00:02<00:00, 70.05it/s]"
     ]
    },
    {
     "name": "stdout",
     "output_type": "stream",
     "text": [
      "F1 0.4694461789009754\n",
      "P/R/F1 (0.4980901451489687, 0.4710466838126413, 0.4694461789009754, None)\n",
      "Acc 0.6182795698924731\n",
      "======================\n"
     ]
    },
    {
     "name": "stderr",
     "output_type": "stream",
     "text": [
      "\n"
     ]
    }
   ],
   "source": [
    "train, val, test = get_task2_conver(\"../Task2/annotated/annotated.jsonl\", \"closeness\", skips = [\"4. Don't like each other\"], only_user=True)\n",
    "model_path = \"./Models/task2_clse_usr\"\n",
    "for name, df in [(\"train\", train), (\"val\", val), (\"test\", test)]:\n",
    "    print(\"Dataset\", name)\n",
    "    y_true, y_pred = run_eval(f\"{model_path}/best_model\", df);\n",
    "    df[\"predict\"] = y_pred\n",
    "    df.to_csv(f\"{model_path}/{name}.csv\", index=False)\n",
    "    print(\"======================\")"
   ]
  },
  {
   "cell_type": "code",
   "execution_count": 101,
   "id": "b2add289-d37a-4071-8f60-f63ef81a9d47",
   "metadata": {},
   "outputs": [
    {
     "name": "stdout",
     "output_type": "stream",
     "text": [
      "Loaded 2463 records from ../Task2/annotated/annotated.jsonl\n",
      "N 1642 205 205\n",
      "Dataset train\n",
      "START\n",
      "step 1: load data\n",
      "step 2: load tokenizer\n",
      "step 3: init data\n",
      "step 4: load model\n",
      "step 6: evaluate\n"
     ]
    },
    {
     "name": "stderr",
     "output_type": "stream",
     "text": [
      "100%|██████████████████████████████████████████████████████████████████████████████████████████████████████████████████████████████████████████████████████████████████| 1642/1642 [00:23<00:00, 70.03it/s]\n"
     ]
    },
    {
     "name": "stdout",
     "output_type": "stream",
     "text": [
      "F1 0.8535997625931794\n",
      "P/R/F1 (0.8125082341261645, 0.915890224106319, 0.8535997625931794, None)\n",
      "Acc 0.8861144945188795\n",
      "======================\n",
      "Dataset val\n",
      "START\n",
      "step 1: load data\n",
      "step 2: load tokenizer\n",
      "step 3: init data\n",
      "step 4: load model\n",
      "step 6: evaluate\n"
     ]
    },
    {
     "name": "stderr",
     "output_type": "stream",
     "text": [
      "100%|████████████████████████████████████████████████████████████████████████████████████████████████████████████████████████████████████████████████████████████████████| 205/205 [00:02<00:00, 69.87it/s]\n"
     ]
    },
    {
     "name": "stdout",
     "output_type": "stream",
     "text": [
      "F1 0.7958696340338852\n",
      "P/R/F1 (0.7944205531840615, 0.8068606825619448, 0.7958696340338852, None)\n",
      "Acc 0.8390243902439024\n",
      "======================\n",
      "Dataset test\n",
      "START\n",
      "step 1: load data\n",
      "step 2: load tokenizer\n",
      "step 3: init data\n",
      "step 4: load model\n",
      "step 6: evaluate\n"
     ]
    },
    {
     "name": "stderr",
     "output_type": "stream",
     "text": [
      "100%|████████████████████████████████████████████████████████████████████████████████████████████████████████████████████████████████████████████████████████████████████| 205/205 [00:02<00:00, 69.87it/s]"
     ]
    },
    {
     "name": "stdout",
     "output_type": "stream",
     "text": [
      "F1 0.7648739164696612\n",
      "P/R/F1 (0.7783709434773264, 0.7665112665112664, 0.7648739164696612, None)\n",
      "Acc 0.7707317073170732\n",
      "======================\n"
     ]
    },
    {
     "name": "stderr",
     "output_type": "stream",
     "text": [
      "\n"
     ]
    }
   ],
   "source": [
    "train, val, test = get_task2_conver(\"../Task2/annotated/annotated.jsonl\", \"authority\", skips = [], only_user=True)\n",
    "model_path = \"./Models/task2_auth_usr\"\n",
    "for name, df in [(\"train\", train), (\"val\", val), (\"test\", test)]:\n",
    "    print(\"Dataset\", name)\n",
    "    y_true, y_pred = run_eval(f\"{model_path}/best_model\", df);\n",
    "    df[\"predict\"] = y_pred\n",
    "    df.to_csv(f\"{model_path}/{name}.csv\", index=False)\n",
    "    print(\"======================\")"
   ]
  },
  {
   "cell_type": "code",
   "execution_count": null,
   "id": "bd66d077-d123-478a-a557-3ab86adf2848",
   "metadata": {},
   "outputs": [],
   "source": []
  },
  {
   "cell_type": "code",
   "execution_count": null,
   "id": "a30c833c-9482-4f37-a61f-a178dc2e7440",
   "metadata": {},
   "outputs": [],
   "source": []
  },
  {
   "cell_type": "markdown",
   "id": "5aff002a-a367-4e27-ae62-a18e14e03f2a",
   "metadata": {},
   "source": [
    "## Tasl3"
   ]
  },
  {
   "cell_type": "code",
   "execution_count": 10,
   "id": "e9ec6395-2f91-4c37-8d40-01305ddaced0",
   "metadata": {},
   "outputs": [
    {
     "name": "stdout",
     "output_type": "stream",
     "text": [
      "Loaded 1221 records from ../Task3/annotated/annotated.jsonl\n",
      "N 1090 60 60\n",
      "Dataset train\n",
      "START\n",
      "step 1: load data\n",
      "step 2: load tokenizer\n",
      "step 3: init data\n",
      "step 4: load model\n",
      "step 6: evaluate\n"
     ]
    },
    {
     "name": "stderr",
     "output_type": "stream",
     "text": [
      "100%|██████████████████████████████████████████████████████████████████████████████████████████████████████████████████████████████████████████████████████████████████| 1090/1090 [00:16<00:00, 67.79it/s]\n"
     ]
    },
    {
     "name": "stdout",
     "output_type": "stream",
     "text": [
      "F1 0.7831724677045807\n",
      "P/R/F1 (0.7548506780118812, 0.8331039521108013, 0.7831724677045807, None)\n",
      "Acc 0.865137614678899\n",
      "======================\n",
      "Dataset val\n",
      "START\n",
      "step 1: load data\n",
      "step 2: load tokenizer\n",
      "step 3: init data\n",
      "step 4: load model\n",
      "step 6: evaluate\n"
     ]
    },
    {
     "name": "stderr",
     "output_type": "stream",
     "text": [
      "100%|██████████████████████████████████████████████████████████████████████████████████████████████████████████████████████████████████████████████████████████████████████| 60/60 [00:00<00:00, 68.12it/s]\n"
     ]
    },
    {
     "name": "stdout",
     "output_type": "stream",
     "text": [
      "F1 0.674883674883675\n",
      "P/R/F1 (0.7015015015015015, 0.6564722617354196, 0.674883674883675, None)\n",
      "Acc 0.75\n",
      "======================\n",
      "Dataset test\n",
      "START\n",
      "step 1: load data\n",
      "step 2: load tokenizer\n",
      "step 3: init data\n",
      "step 4: load model\n",
      "step 6: evaluate\n"
     ]
    },
    {
     "name": "stderr",
     "output_type": "stream",
     "text": [
      "100%|██████████████████████████████████████████████████████████████████████████████████████████████████████████████████████████████████████████████████████████████████████| 60/60 [00:00<00:00, 68.13it/s]\n",
      "/home/imtk/.local/lib/python3.8/site-packages/sklearn/metrics/_classification.py:1318: UndefinedMetricWarning: Recall and F-score are ill-defined and being set to 0.0 in labels with no true samples. Use `zero_division` parameter to control this behavior.\n",
      "  _warn_prf(average, modifier, msg_start, len(result))\n"
     ]
    },
    {
     "name": "stdout",
     "output_type": "stream",
     "text": [
      "F1 0.38003565062388595\n",
      "P/R/F1 (0.39829059829059826, 0.375, 0.38003565062388595, None)\n",
      "Acc 0.65\n",
      "======================\n"
     ]
    }
   ],
   "source": [
    "train, val, test = get_task1_conver(\"../Task3/annotated/annotated.jsonl\", \"closeness\", skips = [\"4. Don't like each other\"], only_user=True)\n",
    "model_path = \"./Models/task3_clse_usr\"\n",
    "for name, df in [(\"train\", train), (\"val\", val), (\"test\", test)]:\n",
    "    print(\"Dataset\", name)\n",
    "    y_true, y_pred = run_eval(f\"{model_path}/best_model\", df);\n",
    "    df[\"predict\"] = y_pred\n",
    "    df.to_csv(f\"{model_path}/{name}.csv\", index=False)\n",
    "    print(\"======================\")"
   ]
  },
  {
   "cell_type": "code",
   "execution_count": 12,
   "id": "16feaff9-649a-4e01-a1d7-f98536f1a2e6",
   "metadata": {},
   "outputs": [
    {
     "name": "stdout",
     "output_type": "stream",
     "text": [
      "Loaded 1221 records from ../Task3/annotated/annotated.jsonl\n",
      "N 1099 61 61\n",
      "Dataset train\n",
      "START\n",
      "step 1: load data\n",
      "step 2: load tokenizer\n",
      "step 3: init data\n",
      "step 4: load model\n",
      "step 6: evaluate\n"
     ]
    },
    {
     "name": "stderr",
     "output_type": "stream",
     "text": [
      "100%|██████████████████████████████████████████████████████████████████████████████████████████████████████████████████████████████████████████████████████████████████| 1099/1099 [00:16<00:00, 67.89it/s]\n"
     ]
    },
    {
     "name": "stdout",
     "output_type": "stream",
     "text": [
      "F1 0.750098843174169\n",
      "P/R/F1 (0.6976094706215709, 0.8554852554852554, 0.750098843174169, None)\n",
      "Acc 0.7989080982711556\n",
      "======================\n",
      "Dataset val\n",
      "START\n",
      "step 1: load data\n",
      "step 2: load tokenizer\n",
      "step 3: init data\n",
      "step 4: load model\n",
      "step 6: evaluate\n"
     ]
    },
    {
     "name": "stderr",
     "output_type": "stream",
     "text": [
      "100%|██████████████████████████████████████████████████████████████████████████████████████████████████████████████████████████████████████████████████████████████████████| 61/61 [00:00<00:00, 67.90it/s]\n"
     ]
    },
    {
     "name": "stdout",
     "output_type": "stream",
     "text": [
      "F1 0.7028909787530476\n",
      "P/R/F1 (0.6583333333333333, 0.7932624113475177, 0.7028909787530476, None)\n",
      "Acc 0.819672131147541\n",
      "======================\n",
      "Dataset test\n",
      "START\n",
      "step 1: load data\n",
      "step 2: load tokenizer\n",
      "step 3: init data\n",
      "step 4: load model\n",
      "step 6: evaluate\n"
     ]
    },
    {
     "name": "stderr",
     "output_type": "stream",
     "text": [
      "100%|██████████████████████████████████████████████████████████████████████████████████████████████████████████████████████████████████████████████████████████████████████| 61/61 [00:00<00:00, 68.01it/s]\n"
     ]
    },
    {
     "name": "stdout",
     "output_type": "stream",
     "text": [
      "F1 0.813040293040293\n",
      "P/R/F1 (0.795791487326638, 0.8916666666666666, 0.813040293040293, None)\n",
      "Acc 0.819672131147541\n",
      "======================\n"
     ]
    }
   ],
   "source": [
    "train, val, test = get_task1_conver(\"../Task3/annotated/annotated.jsonl\", \"authority\", skips = [], only_user=True)\n",
    "model_path = \"./Models/task3_auth_usr\"\n",
    "for name, df in [(\"train\", train), (\"val\", val), (\"test\", test)]:\n",
    "    print(\"Dataset\", name)\n",
    "    y_true, y_pred = run_eval(f\"{model_path}/best_model\", df);\n",
    "    df[\"predict\"] = y_pred\n",
    "    df.to_csv(f\"{model_path}/{name}.csv\", index=False)\n",
    "    print(\"======================\")"
   ]
  },
  {
   "cell_type": "code",
   "execution_count": null,
   "id": "d7aacb9c-9ea0-43b1-88cc-5f0abd25917a",
   "metadata": {},
   "outputs": [],
   "source": []
  }
 ],
 "metadata": {
  "kernelspec": {
   "display_name": "Python 3 (ipykernel)",
   "language": "python",
   "name": "python3"
  },
  "language_info": {
   "codemirror_mode": {
    "name": "ipython",
    "version": 3
   },
   "file_extension": ".py",
   "mimetype": "text/x-python",
   "name": "python",
   "nbconvert_exporter": "python",
   "pygments_lexer": "ipython3",
   "version": "3.8.10"
  }
 },
 "nbformat": 4,
 "nbformat_minor": 5
}
