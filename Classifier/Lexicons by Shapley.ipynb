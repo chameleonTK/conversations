{
 "cells": [
  {
   "cell_type": "code",
   "execution_count": 2,
   "id": "12a2543c-adc6-4ccb-a36a-1cf4a92575e0",
   "metadata": {},
   "outputs": [],
   "source": [
    "# from data_loader import get_task1_conver, get_task2_conver, preprocess\n",
    "\n",
    "# from transformers import AutoTokenizer\n",
    "# import transformers\n",
    "# import torch\n",
    "# import numpy as np\n",
    "# import scipy as sp\n",
    "# import shap\n",
    "\n",
    "# from utils import dump_jsonl, load_jsonl, set_random_seed\n",
    "# import torch\n",
    "# from transformers import AutoModelForSequenceClassification, AdamW, BertConfig"
   ]
  },
  {
   "cell_type": "code",
   "execution_count": 4,
   "id": "df0aab9f-76a7-4133-ad38-64586852c0fb",
   "metadata": {},
   "outputs": [],
   "source": [
    "import pickle\n",
    "def load_obj_values(filepath):\n",
    "    with open(filepath, 'rb') as fin:\n",
    "        obj = pickle.load(fin)\n",
    "    return obj"
   ]
  },
  {
   "cell_type": "code",
   "execution_count": 129,
   "id": "0d320908-70d0-40bd-a9e9-fd12fe85658a",
   "metadata": {},
   "outputs": [],
   "source": [
    "import emoji\n",
    "import pythainlp\n",
    "from emoji import UNICODE_EMOJI\n",
    "\n",
    "def is_emoji(s):\n",
    "    for char in s:\n",
    "        if char in UNICODE_EMOJI[\"en\"]:\n",
    "            return True\n",
    "    return False\n",
    "\n",
    "def print_lexicon(lexicons):\n",
    "    s = \"\"\n",
    "    for label in sorted(lexicons.keys()):\n",
    "        s += \"            \"+label +\" & \"\n",
    "\n",
    "\n",
    "        words = lexicons[label]\n",
    "        sorted_words = dict(sorted(words.items(), key=lambda item: -item[1]))\n",
    "        for k in list(sorted_words.keys())[0:20]:\n",
    "\n",
    "#             unique = True\n",
    "#             for l in lexicons:\n",
    "#                 if l==label:\n",
    "#                     continue\n",
    "\n",
    "#                 if k in lexicons[l]:\n",
    "#                     unique=False\n",
    "                    \n",
    "            unique = False\n",
    "        \n",
    "            if pythainlp.util.isthai(k):\n",
    "                s += \"\\\\thaitext{\"+k+\"}, \"\n",
    "            elif is_emoji(k):\n",
    "                kk = \"\"\n",
    "                for ch in k:\n",
    "                    \n",
    "                    ch = emoji.demojize(ch)\n",
    "                    ch = ch.replace(\"_\", \"-\").replace(\":\", \"\")\n",
    "                    ch = \"\\emoji{\"+ch+\"}\"\n",
    "                    kk += ch\n",
    "                print(kk)\n",
    "                \n",
    "                s += f\"{kk}, \"\n",
    "            else:\n",
    "                s += f\"{k}, \"\n",
    "        s += \"\\\\\\\\\\n\"\n",
    "\n",
    "    s += \"\\hline\"\n",
    "#     print(s)\n",
    "    return s"
   ]
  },
  {
   "cell_type": "code",
   "execution_count": 130,
   "id": "8302ffe5-5ff9-419b-8aeb-34e92bf966dd",
   "metadata": {},
   "outputs": [
    {
     "name": "stdout",
     "output_type": "stream",
     "text": [
      "Loaded 1 records from Lexicons/lexicon_task1_clse.jsonl\n"
     ]
    }
   ],
   "source": [
    "lexicons = load_jsonl(\"Lexicons/lexicon_task1_clse.jsonl\")[0]\n",
    "s1 = print_lexicon(lexicons)"
   ]
  },
  {
   "cell_type": "code",
   "execution_count": 131,
   "id": "ba1c8389-6505-42da-b640-3ef9fdf51a71",
   "metadata": {},
   "outputs": [
    {
     "name": "stdout",
     "output_type": "stream",
     "text": [
      "Loaded 1 records from Lexicons/lexicon_task1_auth.jsonl\n"
     ]
    }
   ],
   "source": [
    "lexicons = load_jsonl(\"Lexicons/lexicon_task1_auth.jsonl\")[0]\n",
    "s2 = print_lexicon(lexicons)"
   ]
  },
  {
   "cell_type": "code",
   "execution_count": 132,
   "id": "7523df15-6a4f-4b0e-940f-35a7e62d0615",
   "metadata": {},
   "outputs": [
    {
     "name": "stdout",
     "output_type": "stream",
     "text": [
      "Loaded 1 records from Lexicons/lexicon_task2_clse.jsonl\n",
      "\\emoji{folded-hands}\\emoji{folded-hands}\\emoji{backhand-index-pointing-down}\\emoji{backhand-index-pointing-down}\\emoji{backhand-index-pointing-down}\\emoji{fire}\\emoji{fire}\n",
      "\\emoji{loudly-crying-face}\\emoji{loudly-crying-face}\\emoji{loudly-crying-face}\n"
     ]
    }
   ],
   "source": [
    "lexicons = load_jsonl(\"Lexicons/lexicon_task2_clse.jsonl\")[0]\n",
    "s3 = print_lexicon(lexicons)"
   ]
  },
  {
   "cell_type": "code",
   "execution_count": 133,
   "id": "b6af203e-3096-4cda-924f-8caec8a2cee0",
   "metadata": {},
   "outputs": [
    {
     "name": "stdout",
     "output_type": "stream",
     "text": [
      "Loaded 1 records from Lexicons/lexicon_task2_auth.jsonl\n",
      "\\emoji{rolling-on-the-floor-laughing}\\emoji{rolling-on-the-floor-laughing}\\emoji{rolling-on-the-floor-laughing}\n",
      "\\emoji{rolling-on-the-floor-laughing}\\emoji{rolling-on-the-floor-laughing}\n",
      "\\emoji{folded-hands}\\emoji{light-skin-tone}\\emoji{pleading-face}\n",
      "\\emoji{pleading-face}\n"
     ]
    }
   ],
   "source": [
    "lexicons = load_jsonl(\"Lexicons/lexicon_task2_auth.jsonl\")[0]\n",
    "s4 = print_lexicon(lexicons)"
   ]
  },
  {
   "cell_type": "code",
   "execution_count": 134,
   "id": "d91a9a3d-c4d2-421f-8be8-5bd9a8647ab1",
   "metadata": {},
   "outputs": [
    {
     "name": "stdout",
     "output_type": "stream",
     "text": [
      "Loaded 1 records from Lexicons/lexicon_task3_clse.jsonl\n"
     ]
    }
   ],
   "source": [
    "lexicons = load_jsonl(\"Lexicons/lexicon_task3_clse.jsonl\")[0]\n",
    "s5 = print_lexicon(lexicons)"
   ]
  },
  {
   "cell_type": "code",
   "execution_count": 135,
   "id": "888e9c2d-7e2f-4b0e-9e5a-46eb8437e03a",
   "metadata": {},
   "outputs": [
    {
     "name": "stdout",
     "output_type": "stream",
     "text": [
      "Loaded 1 records from Lexicons/lexicon_task3_auth.jsonl\n"
     ]
    }
   ],
   "source": [
    "lexicons = load_jsonl(\"Lexicons/lexicon_task3_auth.jsonl\")[0]\n",
    "s6 = print_lexicon(lexicons)"
   ]
  },
  {
   "cell_type": "code",
   "execution_count": 136,
   "id": "98122ef1-8145-4ceb-b923-e983f5ce1047",
   "metadata": {},
   "outputs": [
    {
     "name": "stdout",
     "output_type": "stream",
     "text": [
      "\\subsection{Setting 1: Private Conversations with Self-Reported Labels}\n",
      "\\begin{longtable}[h]{\n",
      "        p{\\dimexpr 0.30\\linewidth-2\\tabcolsep}\n",
      "        p{\\dimexpr 0.70\\linewidth-2\\tabcolsep}\n",
      "    }\n",
      "        \\hline\n",
      "        Relationship Label  & Lexicons\\\\\n",
      "        \\hline\n",
      "        \\endfirsthead\n",
      "        \\endhead\n",
      "\n",
      "\n",
      "        \\multicolumn{2}{l}{\\textit{Closeness}} \\\\\n",
      "            1. Close & \\thaitext{เตี่ย}, \\thaitext{ถนัด}, \\thaitext{ปรับ}, \\thaitext{นอกบ้าน}, \\thaitext{สาระ}, \\thaitext{หลัก}, \\thaitext{ครึ้ม}, \\thaitext{ภา}, \\thaitext{คุณภาพ}, \\thaitext{ป.โท}, \\thaitext{ออน}, \\thaitext{อย่างไรบ้าง}, \\thaitext{จ้า}, \\thaitext{โตมา}, \\thaitext{ห้า}, \\thaitext{เมื่อก่อน}, \\thaitext{สมัย}, \\thaitext{นาวิก}, \\thaitext{หรือยัง}, \\thaitext{โพส}, \\\\\n",
      "            2. Know each other & \\thaitext{ี}, \\thaitext{เมื่อวาน}, \\thaitext{ติ๊ก}, :, \\thaitext{จ้า}, 500, \\thaitext{เป็นไง}, \\thaitext{งะ}, \\thaitext{แนะ}, \\thaitext{ถนัด}, \\thaitext{คับ}, \\thaitext{ติดตาม}, \\thaitext{กี}, \\thaitext{สร}, \\thaitext{ฮัลโหล}, \\thaitext{คู่}, \\thaitext{ทุ่ม}, \\thaitext{เปอร์เซีย}, \\thaitext{ไหนจะ}, \\thaitext{ดูแลตัวเอง}, \\\\\n",
      "            3. Don't know each other & :, \\thaitext{ป่าว}, \\thaitext{ทาม}, \\thaitext{ดีใจ}, \\thaitext{เเต่}, \\thaitext{จ่ะ}, \\thaitext{เลิกงาน}, \\thaitext{จ้า}, \\thaitext{อยากรู้}, \\thaitext{กอ}, \\thaitext{ใช่ไหม}, \\thaitext{ว่ะ}, \\thaitext{อิจฉา}, \\thaitext{ป.โท}, \\thaitext{แอโรบิค}, \\thaitext{ช้า}, \\thaitext{เป็นหวัด}, \\thaitext{จ๊ะ}, \\thaitext{วววว}, \\thaitext{ตรวจ}, \\\\\n",
      "\\hline\n",
      "            \\hline\n",
      "\n",
      "        \\multicolumn{2}{l}{\\textit{Respect}} \\\\\n",
      "            0. Very respect & \\thaitext{คับ}, \\thaitext{วันก่อน}, \\thaitext{คุ}, \\thaitext{เหงื่อ}, \\thaitext{นนน}, \\thaitext{ออม}, \\thaitext{ขนมจีน}, \\thaitext{ทีวี}, \\thaitext{คอมพิวเตอร์}, \\thaitext{เครื่องประดับ}, \\thaitext{ฉัน}, \\thaitext{ปป}, \\thaitext{คนดู}, \\thaitext{ห้ะ}, \\thaitext{เดินทาง}, \\thaitext{เข้ากับ}, \\thaitext{มายัง}, \\thaitext{จองตั๋ว}, \\thaitext{ปอย}, \\thaitext{บ้านเดี่ยว}, \\\\\n",
      "            1. Respect & \\thaitext{ม่วน}, \\thaitext{สมุนไพร}, \\thaitext{แล้}, \\thaitext{ล่า}, \\thaitext{พัน}, !, \\thaitext{เจ}, \\thaitext{ภู}, \\thaitext{เกมส์}, \\thaitext{เกา}, \\thaitext{ชิน}, \\thaitext{ตรงนี้}, \\thaitext{ดี้}, \\thaitext{ครึ้ม}, \\thaitext{จุด}, \\thaitext{ระบาย}, \\thaitext{ป๊า}, \\thaitext{รุ้}, \\thaitext{โคตร}, \\thaitext{เมื่อเช้า}, \\\\\n",
      "            2. Normal & \\thaitext{งะ}, \\thaitext{เน้}, \\thaitext{บ่ายโมง}, \\thaitext{คับ}, netfilx, \\thaitext{แสน}, \\thaitext{ค้าบ}, 500, \\thaitext{ชั่วโมง}, \\thaitext{แอโรบิค}, \\thaitext{ดี้}, \\thaitext{ได้รับ}, \\thaitext{ถึงกับ}, \\thaitext{ตกแต่ง}, \\thaitext{ปืน}, \\thaitext{กล้า}, \\thaitext{กุ้ง}, \\thaitext{นาวิก}, \\thaitext{แย่มาก}, \\thaitext{ดีงาม}, \\\\\n",
      "\\hline\n",
      "            \\hline\n",
      "\\end{longtable}\n",
      "\n",
      "\n",
      "\n",
      "\\subsection{Setting 2: Public Conversations with Labels from 3rd Party }\n",
      "\\begin{longtable}[h]{\n",
      "        p{\\dimexpr 0.30\\linewidth-2\\tabcolsep}\n",
      "        p{\\dimexpr 0.70\\linewidth-2\\tabcolsep}\n",
      "    }\n",
      "        \\hline\n",
      "        Relationship Label  & Lexicons\\\\\n",
      "        \\hline\n",
      "        \\endfirsthead\n",
      "        \\endhead\n",
      "\n",
      "\n",
      "        \\multicolumn{2}{l}{\\textit{Closeness}} \\\\\n",
      "            1. Close & \\thaitext{เรา}, \\thaitext{ผช}, \\thaitext{ขยะ}, \\thaitext{เมน}, \\thaitext{รูป}, \\thaitext{อ่า}, \\thaitext{ค่ะ}, !!!!, \\thaitext{กล้า}, mewgulfdestinywuv, \\thaitext{เด}, \\thaitext{ฮิปโป}, \\thaitext{เหี้ย}, \\thaitext{ฝ่าย}, \\thaitext{เกิด}, url, \\thaitext{นึกถึง}, \\thaitext{นี่แหละ}, \\thaitext{แดก}, \\thaitext{กู}, \\\\\n",
      "            2. Know each other & \\thaitext{หนู}, \\thaitext{รี}, \\thaitext{แหละ}, \\thaitext{เรา}, \\thaitext{ถูกต้อง}, \\thaitext{การ์ด}, \\thaitext{เบอร์}, \\thaitext{ออ}, \\thaitext{ตัวละคร}, \\thaitext{เค้า}, \\thaitext{เดา}, \\thaitext{ได้ยิน}, \\thaitext{งับ}, \\thaitext{อยากรู้}, \\thaitext{หนึ่ง}, \\thaitext{เด}, \\thaitext{กระติก}, \\thaitext{เป็นไปได้}, \\thaitext{หนวกหู}, \\thaitext{ค่ะ}, \\\\\n",
      "            3. Don't know each other & \\thaitext{เรา}, pastelxbambam, \\thaitext{หนู}, \\thaitext{เมน}, waanjaimewgulfday, \\thaitext{ดูออก}, shopeethxnctdream, pocket, mewgulfdestinywuv, \\emoji{folded-hands}\\emoji{folded-hands}\\emoji{backhand-index-pointing-down}\\emoji{backhand-index-pointing-down}\\emoji{backhand-index-pointing-down}\\emoji{fire}\\emoji{fire}, \\thaitext{จิต}, pastel, \\thaitext{น่ากลัว}, \\thaitext{มุมมอง}, \\thaitext{ค่ะ}, \\thaitext{มะม่วงหิมพานต์}, \\thaitext{เครียด}, \\thaitext{ร้า}, \\emoji{loudly-crying-face}\\emoji{loudly-crying-face}\\emoji{loudly-crying-face}, \\thaitext{โห}, \\\\\n",
      "\\hline\n",
      "            \\hline\n",
      "\n",
      "        \\multicolumn{2}{l}{\\textit{Respect}} \\\\\n",
      "            1. Respect & \\thaitext{ร้า}, \\thaitext{ควาย}, \\thaitext{อี}, \\emoji{rolling-on-the-floor-laughing}\\emoji{rolling-on-the-floor-laughing}\\emoji{rolling-on-the-floor-laughing}, \\thaitext{คู}, \\thaitext{กล้า}, \\thaitext{สม}, \\emoji{rolling-on-the-floor-laughing}\\emoji{rolling-on-the-floor-laughing}, \\thaitext{รึเปล่า}, \\thaitext{บางคน}, \\thaitext{หรอ}, \\thaitext{เชิญ}, \\thaitext{บริหาร}, \\emoji{folded-hands}\\emoji{light-skin-tone}\\emoji{pleading-face}, \\thaitext{อดทน}, \\thaitext{บ้า}, \\thaitext{เน็ต}, \\thaitext{พัฒนา}, \\thaitext{เดินทาง}, \\thaitext{กระแส}, \\\\\n",
      "            2. Normal & \\thaitext{ส้นตีน}, \\thaitext{หี}, \\thaitext{แถ}, \\thaitext{คู}, \\thaitext{เสือก}, \\thaitext{แซะ}, \\thaitext{เงี่ยน}, \\thaitext{เดินทาง}, \\thaitext{กะลา}, \\thaitext{เข้าข้าง}, \\thaitext{มีสติ}, \\thaitext{มั่ว}, \\thaitext{สันดาน}, \\thaitext{ขวาง}, dm, \\thaitext{แต่ละคน}, \\thaitext{นี่เอง}, \\emoji{pleading-face}, \\thaitext{เลือกตั้ง}, \\thaitext{ว่ะ}, \\\\\n",
      "            3. Not respect & \\thaitext{ป้า}, \\thaitext{ส้นตีน}, \\thaitext{นิด}, \\thaitext{ตรรกะ}, \\thaitext{บาด}, \\thaitext{ควย}, \\thaitext{เสียเวลา}, \\thaitext{มั่ว}, \\thaitext{เพ้อเจ้อ}, \\thaitext{ผช.}, \\thaitext{มีสติ}, \\thaitext{เหี้ย}, \\thaitext{เเบบ}, \\thaitext{อีกแล้ว}, \\thaitext{แก่}, \\thaitext{นี่แหละ}, \\thaitext{ภาษาไทย}, \\thaitext{ทน}, \\thaitext{เกิน}, \\thaitext{ยุ}, \\\\\n",
      "\\hline\n",
      "            \\hline\n",
      "\\end{longtable}\n",
      "\n",
      "\n",
      "\n",
      "\\subsection{Setting 3: Private Conversations with Labels from 3rd Party }\n",
      "\\begin{longtable}[h]{\n",
      "        p{\\dimexpr 0.30\\linewidth-2\\tabcolsep}\n",
      "        p{\\dimexpr 0.70\\linewidth-2\\tabcolsep}\n",
      "    }\n",
      "        \\hline\n",
      "        Relationship Label  & Lexicons\\\\\n",
      "        \\hline\n",
      "        \\endfirsthead\n",
      "        \\endhead\n",
      "\n",
      "\n",
      "        \\multicolumn{2}{l}{\\textit{Closeness}} \\\\\n",
      "            1. Close & \\thaitext{จ๊ะ}, \\thaitext{งะ}, \\thaitext{เจ้}, \\thaitext{ุ}, \\thaitext{ถนัด}, \\thaitext{เลิก}, \\thaitext{พี่เลี้ยง}, \\thaitext{บ่อยๆ}, \\thaitext{หุ่น}, \\thaitext{เอฟ}, \\thaitext{สาระ}, \\thaitext{รูป}, \\thaitext{ป๊า}, \\thaitext{ทุ่ม}, \\thaitext{สู}, \\thaitext{ซ่อม}, \\thaitext{ทีวี}, \\thaitext{เตี่ย}, \\thaitext{นาวิก}, \\thaitext{ตรงนี้}, \\\\\n",
      "            2. Know each other & \\thaitext{เว้ย}, \\thaitext{มึง}, \\thaitext{นี่เอง}, \\thaitext{เฮ้ย}, \\thaitext{ทุ่ม}, \\thaitext{ก๊อ}, \\thaitext{เมน}, \\thaitext{โครงการ}, \\thaitext{โหล}, \\thaitext{เสียภาษี}, \\thaitext{จ่ะ}, \\thaitext{เปน}, \\thaitext{เปอร์เซีย}, \\thaitext{เป็นไร}, \\thaitext{ช้า}, \\thaitext{มินิ}, \\thaitext{เพราะอะไร}, \\thaitext{ควาย}, \\thaitext{เอ้ย}, \\thaitext{เลิกงาน}, \\\\\n",
      "            3. Don't know each other & \\thaitext{นั่ง}, \\thaitext{ทัก}, \\thaitext{อินเดีย}, \\thaitext{หนัง}, \\thaitext{สนุก}, \\thaitext{ลอง}, \\thaitext{ส่วนมาก}, \\thaitext{เลี้ยงสัตว์}, \\thaitext{ต่างจังหวัด}, \\thaitext{บ่อย}, \\thaitext{ปีก่อน}, \\thaitext{ใหม}, \\thaitext{จ้า}, \\thaitext{สวัสดี}, \\thaitext{ยังเลย}, \\thaitext{เปล่า}, \\thaitext{นานา}, \\thaitext{ครั้งแรก}, \\thaitext{ควัน}, \\thaitext{หลายอย่าง}, \\\\\n",
      "\\hline\n",
      "            \\hline\n",
      "\n",
      "        \\multicolumn{2}{l}{\\textit{Respect}} \\\\\n",
      "            1. Respect & \\thaitext{สวัสดี}, \\thaitext{เด้ง}, \\thaitext{คอนโด}, \\thaitext{ชิม}, \\thaitext{ทัก}, \\thaitext{มหาลัย}, \\thaitext{เหมือนกับ}, \\thaitext{ยินดี}, \\thaitext{อย่างไรบ้าง}, \\thaitext{ทุ}, \\thaitext{ทีวี}, \\thaitext{ลาบ}, \\thaitext{สบายดี}, \\thaitext{แต่ละ}, \\thaitext{ของกิน}, \\thaitext{จ้า}, \\thaitext{ที่ไหน}, \\thaitext{เกี่ยว}, \\thaitext{บังคับ}, \\thaitext{รักษาสุขภาพ}, \\\\\n",
      "            2. Normal & \\thaitext{สวัสดี}, \\thaitext{มึง}, \\thaitext{จ๊ะ}, \\thaitext{เลิก}, \\thaitext{เหมียว}, \\thaitext{นิ่ง}, \\thaitext{ทัก}, \\thaitext{โคล}, \\thaitext{ที่รัก}, \\thaitext{ชิบหาย}, \\thaitext{จ้า}, \\thaitext{หุ่น}, \\thaitext{รุ้}, \\thaitext{นาที}, \\thaitext{กู}, \\thaitext{สบายดี}, \\thaitext{โหล}, \\thaitext{อย่างงี้}, \\thaitext{ยินดี}, \\thaitext{ห่า}, \\\\\n",
      "            3. Not respect & \\thaitext{มอง}, \\thaitext{เอ้อ}, \\thaitext{หนึ่ง}, \\thaitext{กลางคืน}, \\thaitext{ค้าง}, \\thaitext{ช่าย}, \\thaitext{นอน}, \\thaitext{สบายดี}, \\thaitext{เปล่า}, \\thaitext{หมู}, \\thaitext{อายุ}, \\thaitext{ฝึก}, \\thaitext{หอ}, \\thaitext{เป็นการ}, \\thaitext{สัส}, \\thaitext{เล็ก}, \\thaitext{หมา}, \\thaitext{หมัก}, \\thaitext{น่าสนุก}, \\thaitext{เต้น}, \\\\\n",
      "\\hline\n",
      "            \\hline\n",
      "\\end{longtable}\n",
      "\n",
      "\n",
      "\n",
      "\n"
     ]
    }
   ],
   "source": [
    "sections = [\n",
    "    \"Setting 1: Private Conversations with Self-Reported Labels\",\n",
    "    \"Setting 2: Public Conversations with Labels from 3rd Party \",\n",
    "    \"Setting 3: Private Conversations with Labels from 3rd Party \",\n",
    "]\n",
    "\n",
    "table_contents = [\n",
    "    (s1, s2),\n",
    "    (s3, s4),\n",
    "    (s5, s6),\n",
    "]\n",
    "\n",
    "printed_text = \"\"\n",
    "for section, (t1, t2) in zip(sections, table_contents):\n",
    "    \n",
    "    printed_text += \"\\subsection{\"+section+\"}\"\n",
    "    \n",
    "    printed_text += '''\n",
    "\\\\begin{longtable}[h]{\n",
    "        p{\\dimexpr 0.30\\linewidth-2\\\\tabcolsep}\n",
    "        p{\\dimexpr 0.70\\linewidth-2\\\\tabcolsep}\n",
    "    }\n",
    "        \\hline\n",
    "        Relationship Label  & Lexicons\\\\\\\\\n",
    "        \\hline\n",
    "        \\endfirsthead\n",
    "        \\endhead\n",
    "\n",
    "\n",
    "        \\multicolumn{2}{l}{\\\\textit{Closeness}} \\\\\\\\\n",
    "'''\n",
    "    printed_text += t1\n",
    "    printed_text += '''\n",
    "            \\hline\n",
    "\n",
    "        \\multicolumn{2}{l}{\\\\textit{Respect}} \\\\\\\\\n",
    "'''\n",
    "    \n",
    "    printed_text += t2\n",
    "    printed_text += '''\n",
    "            \\hline\n",
    "\\end{longtable}\n",
    "\\n\\n\n",
    "'''\n",
    "    \n",
    "print(printed_text)"
   ]
  },
  {
   "cell_type": "code",
   "execution_count": null,
   "id": "316ec1ec-dc25-42f4-87d0-784fb39ce092",
   "metadata": {},
   "outputs": [],
   "source": []
  },
  {
   "cell_type": "code",
   "execution_count": null,
   "id": "56404aea-e87b-4672-acd9-cfd337d45460",
   "metadata": {},
   "outputs": [],
   "source": []
  },
  {
   "cell_type": "code",
   "execution_count": null,
   "id": "420ee96d-4d5e-4f97-9651-b706c5cde1e9",
   "metadata": {},
   "outputs": [],
   "source": []
  },
  {
   "cell_type": "code",
   "execution_count": 137,
   "id": "440b2123-4393-4a0d-99ad-053aa728d4e6",
   "metadata": {},
   "outputs": [],
   "source": [
    "# from scipy import stats\n",
    "# import pandas as pd\n",
    "\n",
    "# def cal_corr(shap_lexicons, weights, label_fn):\n",
    "#     df = []\n",
    "#     for label in shap_lexicons:\n",
    "#         count = defaultdict(int)\n",
    "#         for w in shap_lexicons[label]:\n",
    "#             if w not in lexicons:\n",
    "#                 continue\n",
    "\n",
    "#             for t in lexicons[w]:\n",
    "#                 count[t] += 1\n",
    "\n",
    "#         l = label_fn(label)\n",
    "#         A = []\n",
    "#         B = []\n",
    "#         for feat in count:\n",
    "#             k = (l, feat)\n",
    "#             if k in weights and weights[k]!=\"\":\n",
    "#                 A.append(weights[k])\n",
    "#                 B.append(count[feat])\n",
    "\n",
    "#         spm = stats.spearmanr(A, B)\n",
    "#         df.append({\n",
    "#             \"label\": label,\n",
    "#             \"N\": len(A),\n",
    "#             \"spearman\": spm.statistic,\n",
    "#             \"pvalue\": spm.pvalue\n",
    "#         })\n",
    "\n",
    "#     return pd.DataFrame(df)"
   ]
  },
  {
   "cell_type": "code",
   "execution_count": 138,
   "id": "a1fe937c-da1f-4854-b4cb-057c5ea3e41a",
   "metadata": {},
   "outputs": [],
   "source": [
    "# shap_lexicons = load_jsonl(\"Classifier/lexicon_task1_clse.jsonl\")[0]\n",
    "# weights = load_obj_values(\"linear_weights_task1_clse.pkl\")\n",
    "\n",
    "# cal_corr(shap_lexicons, weights, closeness_to_eng1)"
   ]
  },
  {
   "cell_type": "code",
   "execution_count": null,
   "id": "4a40ee15-75cd-462a-9f47-a10d61c9477d",
   "metadata": {},
   "outputs": [],
   "source": []
  }
 ],
 "metadata": {
  "kernelspec": {
   "display_name": "Python 3 (ipykernel)",
   "language": "python",
   "name": "python3"
  },
  "language_info": {
   "codemirror_mode": {
    "name": "ipython",
    "version": 3
   },
   "file_extension": ".py",
   "mimetype": "text/x-python",
   "name": "python",
   "nbconvert_exporter": "python",
   "pygments_lexer": "ipython3",
   "version": "3.8.10"
  }
 },
 "nbformat": 4,
 "nbformat_minor": 5
}
