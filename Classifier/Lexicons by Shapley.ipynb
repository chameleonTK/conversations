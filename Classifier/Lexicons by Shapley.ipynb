{
 "cells": [
  {
   "cell_type": "code",
   "execution_count": 25,
   "id": "12a2543c-adc6-4ccb-a36a-1cf4a92575e0",
   "metadata": {},
   "outputs": [],
   "source": [
    "from data_loader import get_task1_conver, get_task2_conver, preprocess\n",
    "\n",
    "from transformers import AutoTokenizer\n",
    "import transformers\n",
    "import torch\n",
    "import numpy as np\n",
    "import scipy as sp\n",
    "import shap\n",
    "\n",
    "from utils import dump_jsonl, load_jsonl, set_random_seed\n",
    "import torch\n",
    "from transformers import AutoModelForSequenceClassification, AdamW, BertConfig"
   ]
  },
  {
   "cell_type": "code",
   "execution_count": 26,
   "id": "df0aab9f-76a7-4133-ad38-64586852c0fb",
   "metadata": {},
   "outputs": [],
   "source": [
    "import pickle\n",
    "def load_obj_values(filepath):\n",
    "    with open(filepath, 'rb') as fin:\n",
    "        obj = pickle.load(fin)\n",
    "    return obj"
   ]
  },
  {
   "cell_type": "code",
   "execution_count": 27,
   "id": "0d320908-70d0-40bd-a9e9-fd12fe85658a",
   "metadata": {},
   "outputs": [],
   "source": [
    "import emoji\n",
    "import pythainlp\n",
    "from emoji import UNICODE_EMOJI\n",
    "\n",
    "def is_emoji(s):\n",
    "    for char in s:\n",
    "        if char in UNICODE_EMOJI[\"en\"]:\n",
    "            return True\n",
    "    return False\n",
    "\n",
    "def print_lexicon(lexicons):\n",
    "    s = \"\"\n",
    "    for label in sorted(lexicons.keys()):\n",
    "        s += \"            \"+label +\" & \"\n",
    "\n",
    "\n",
    "        words = lexicons[label]\n",
    "        sorted_words = dict(sorted(words.items(), key=lambda item: -item[1]))\n",
    "        for k in list(sorted_words.keys())[0:20]:\n",
    "\n",
    "#             unique = True\n",
    "#             for l in lexicons:\n",
    "#                 if l==label:\n",
    "#                     continue\n",
    "\n",
    "#                 if k in lexicons[l]:\n",
    "#                     unique=False\n",
    "                    \n",
    "            unique = False\n",
    "        \n",
    "            if pythainlp.util.isthai(k):\n",
    "                s += \"\\\\thaitext{\"+k+\"}, \"\n",
    "            elif is_emoji(k):\n",
    "                kk = \"\"\n",
    "                for ch in k:\n",
    "                    \n",
    "                    ch = emoji.demojize(ch)\n",
    "                    ch = ch.replace(\"_\", \"-\").replace(\":\", \"\")\n",
    "                    ch = \"\\emoji{\"+ch+\"}\"\n",
    "                    kk += ch\n",
    "                print(kk)\n",
    "                \n",
    "                s += f\"{kk}, \"\n",
    "            else:\n",
    "                s += f\"{k}, \"\n",
    "        s += \"\\\\\\\\\\n\"\n",
    "\n",
    "    s += \"\\hline\"\n",
    "#     print(s)\n",
    "    return s"
   ]
  },
  {
   "cell_type": "code",
   "execution_count": 29,
   "id": "8302ffe5-5ff9-419b-8aeb-34e92bf966dd",
   "metadata": {},
   "outputs": [
    {
     "name": "stdout",
     "output_type": "stream",
     "text": [
      "Loaded 1 records from Lexicons/v2/lexicon_task1_clse.jsonl\n"
     ]
    }
   ],
   "source": [
    "lexicons = load_jsonl(\"Lexicons/v2/lexicon_task1_clse.jsonl\")[0]\n",
    "s1 = print_lexicon(lexicons)"
   ]
  },
  {
   "cell_type": "code",
   "execution_count": 30,
   "id": "ba1c8389-6505-42da-b640-3ef9fdf51a71",
   "metadata": {},
   "outputs": [
    {
     "name": "stdout",
     "output_type": "stream",
     "text": [
      "Loaded 1 records from Lexicons/v2/lexicon_task1_auth.jsonl\n",
      "\\emoji{smiling-face-with-smiling-eyes}\n",
      "\\emoji{face-with-tears-of-joy}\\emoji{face-with-tears-of-joy}\\emoji{face-with-tears-of-joy}\n",
      "\\emoji{face-with-tears-of-joy}\\emoji{face-with-tears-of-joy}\\emoji{face-with-tears-of-joy}\n"
     ]
    }
   ],
   "source": [
    "lexicons = load_jsonl(\"Lexicons/v2/lexicon_task1_auth.jsonl\")[0]\n",
    "s2 = print_lexicon(lexicons)"
   ]
  },
  {
   "cell_type": "code",
   "execution_count": 31,
   "id": "7523df15-6a4f-4b0e-940f-35a7e62d0615",
   "metadata": {},
   "outputs": [
    {
     "name": "stdout",
     "output_type": "stream",
     "text": [
      "Loaded 1 records from Lexicons/v2/lexicon_task2_clse.jsonl\n",
      "\\emoji{rolling-on-the-floor-laughing}\\emoji{rolling-on-the-floor-laughing}\\emoji{rolling-on-the-floor-laughing}\n",
      "\\emoji{rolling-on-the-floor-laughing}\\emoji{rolling-on-the-floor-laughing}\\emoji{rolling-on-the-floor-laughing}\n"
     ]
    }
   ],
   "source": [
    "lexicons = load_jsonl(\"Lexicons/v2/lexicon_task2_clse.jsonl\")[0]\n",
    "s3 = print_lexicon(lexicons)"
   ]
  },
  {
   "cell_type": "code",
   "execution_count": 32,
   "id": "b6af203e-3096-4cda-924f-8caec8a2cee0",
   "metadata": {},
   "outputs": [
    {
     "name": "stdout",
     "output_type": "stream",
     "text": [
      "Loaded 1 records from Lexicons/v2/lexicon_task2_auth.jsonl\n",
      "\\emoji{smiling-face-with-heart-eyes}\n",
      "\\emoji{face-with-rolling-eyes}\n"
     ]
    }
   ],
   "source": [
    "lexicons = load_jsonl(\"Lexicons/v2/lexicon_task2_auth.jsonl\")[0]\n",
    "s4 = print_lexicon(lexicons)"
   ]
  },
  {
   "cell_type": "code",
   "execution_count": 33,
   "id": "d91a9a3d-c4d2-421f-8be8-5bd9a8647ab1",
   "metadata": {},
   "outputs": [
    {
     "name": "stdout",
     "output_type": "stream",
     "text": [
      "Loaded 1 records from Lexicons/v2/lexicon_task3_clse.jsonl\n"
     ]
    }
   ],
   "source": [
    "lexicons = load_jsonl(\"Lexicons/v2/lexicon_task3_clse.jsonl\")[0]\n",
    "s5 = print_lexicon(lexicons)"
   ]
  },
  {
   "cell_type": "code",
   "execution_count": 34,
   "id": "888e9c2d-7e2f-4b0e-9e5a-46eb8437e03a",
   "metadata": {},
   "outputs": [
    {
     "name": "stdout",
     "output_type": "stream",
     "text": [
      "Loaded 1 records from Lexicons/v2/lexicon_task3_auth.jsonl\n"
     ]
    }
   ],
   "source": [
    "lexicons = load_jsonl(\"Lexicons/v2/lexicon_task3_auth.jsonl\")[0]\n",
    "s6 = print_lexicon(lexicons)"
   ]
  },
  {
   "cell_type": "code",
   "execution_count": 35,
   "id": "98122ef1-8145-4ceb-b923-e983f5ce1047",
   "metadata": {},
   "outputs": [
    {
     "name": "stdout",
     "output_type": "stream",
     "text": [
      "\\subsection{Setting 1: Private Conversations with Self-Reported Labels}\n",
      "\\begin{longtable}[h]{\n",
      "        p{\\dimexpr 0.30\\linewidth-2\\tabcolsep}\n",
      "        p{\\dimexpr 0.70\\linewidth-2\\tabcolsep}\n",
      "    }\n",
      "        \\hline\n",
      "        Relationship Label  & Lexicons\\\\\n",
      "        \\hline\n",
      "        \\endfirsthead\n",
      "        \\endhead\n",
      "\n",
      "\n",
      "        \\multicolumn{2}{l}{\\textit{Closeness}} \\\\\n",
      "            1. Close & \\thaitext{เตี่ย}, \\thaitext{ประสบการณ์}, \\thaitext{ฟาง}, \\thaitext{เป็นไร}, \\thaitext{เกมส์}, \\thaitext{ภาษา}, \\thaitext{แนะ}, \\thaitext{ลอก}, \\thaitext{โฆษณา}, \\thaitext{ที่รัก}, \\thaitext{เต}, \\thaitext{เมีย}, \\thaitext{หรือไม่}, \\thaitext{ลมแรง}, the, \\thaitext{เชียว}, \\thaitext{สามี}, \\thaitext{ข้าวผัด}, \\thaitext{หลัก}, \\thaitext{ตรงไหน}, \\\\\n",
      "            2. Know each other & \\thaitext{นนท์}, \\thaitext{พันธ์}, \\thaitext{ถนัด}, 500, \\thaitext{ล่า}, \\thaitext{คับ}, \\thaitext{ดูแลตัวเอง}, \\thaitext{แนะ}, \\thaitext{อาศัย}, \\thaitext{ถ่าย}, \\thaitext{ช่องทาง}, \\thaitext{โบว์}, \\thaitext{ย่อย}, \\thaitext{ทันที}, \\thaitext{ค่อย}, \\thaitext{คลายเครียด}, \\thaitext{โชคดี}, \\thaitext{เสียภาษี}, \\thaitext{หหห}, \\thaitext{มั่ว}, \\\\\n",
      "            3. Don't know each other & \\thaitext{มายัง}, \\thaitext{หน้าตา}, \\thaitext{สอบถาม}, \\thaitext{จ่ะ}, \\thaitext{เช่นกัน}, \\thaitext{ช่วยกัน}, \\thaitext{กิจกรรม}, \\thaitext{เสมอ}, \\thaitext{ข้างๆ}, \\thaitext{ปทุมธานี}, \\thaitext{โบว์}, \\thaitext{โรงภาพยนตร์}, \\thaitext{แสดงว่า}, \\thaitext{หัด}, \\thaitext{เงียบ}, \\thaitext{อาชีพ}, \\thaitext{จ้า}, \\thaitext{กทม.}, \\thaitext{เป็นไง}, \\thaitext{จ๊ะ}, \\\\\n",
      "\\hline\n",
      "            \\hline\n",
      "\n",
      "        \\multicolumn{2}{l}{\\textit{Respect}} \\\\\n",
      "            0. Very respect & \\thaitext{โชค}, \\thaitext{เตี่ย}, \\thaitext{ง่ะ}, \\thaitext{ใจดี}, \\thaitext{เจ้}, \\thaitext{เล่า}, \\thaitext{ทันที}, \\thaitext{ปราสาท}, \\thaitext{บางอย่าง}, \\thaitext{ตอบ}, \\thaitext{แน่}, \\thaitext{อัง}, \\thaitext{ขอบใจ}, \\thaitext{ค่าใช้จ่าย}, \\emoji{smiling-face-with-smiling-eyes}, ^^, \\emoji{face-with-tears-of-joy}\\emoji{face-with-tears-of-joy}\\emoji{face-with-tears-of-joy}, \\thaitext{คนดู}, \\thaitext{หหห}, \\thaitext{แกงเขียวหวาน}, \\\\\n",
      "            1. Respect & \\thaitext{อันตราย}, \\thaitext{คิดไม่ออก}, \\thaitext{พิม}, \\thaitext{ตรุษจีน}, \\thaitext{ชิน}, \\thaitext{เต้นท์}, \\thaitext{เที่ยง}, \\thaitext{ใช้เวลา}, \\thaitext{ขอบใจ}, \\thaitext{วัย}, \\thaitext{มะละกอ}, \\thaitext{เหมือนกับ}, \\thaitext{นักร้อง}, \\thaitext{นางเอก}, \\thaitext{อย่างงี้}, \\thaitext{เงียบ}, k-pop, \\thaitext{เปิดร้าน}, \\thaitext{บัวลอย}, \\thaitext{มายัง}, \\\\\n",
      "            2. Normal & \\thaitext{เสียภาษี}, \\emoji{face-with-tears-of-joy}\\emoji{face-with-tears-of-joy}\\emoji{face-with-tears-of-joy}, netfilx, \\thaitext{วัย}, \\thaitext{เหมียว}, \\thaitext{คับ}, \\thaitext{ค่า}, \\thaitext{..}, \\thaitext{มงคล}, \\thaitext{แกงเขียวหวาน}, \\thaitext{ป.โท}, \\thaitext{เชฟ}, \\thaitext{ง่ะ}, \\thaitext{ใจดี}, \\thaitext{เฟอร์นิเจอร์}, \\thaitext{กทม.}, \\thaitext{เกี่ยว}, \\thaitext{ตัวเล็ก}, \\thaitext{แอโรบิค}, \\thaitext{ลลล}, \\\\\n",
      "\\hline\n",
      "            \\hline\n",
      "\\end{longtable}\n",
      "\n",
      "\n",
      "\n",
      "\\subsection{Setting 2: Public Conversations with Labels from 3rd Party }\n",
      "\\begin{longtable}[h]{\n",
      "        p{\\dimexpr 0.30\\linewidth-2\\tabcolsep}\n",
      "        p{\\dimexpr 0.70\\linewidth-2\\tabcolsep}\n",
      "    }\n",
      "        \\hline\n",
      "        Relationship Label  & Lexicons\\\\\n",
      "        \\hline\n",
      "        \\endfirsthead\n",
      "        \\endhead\n",
      "\n",
      "\n",
      "        \\multicolumn{2}{l}{\\textit{Closeness}} \\\\\n",
      "            1. Close & \\thaitext{เค}, \\thaitext{ว่ะ}, \\thaitext{เห}, \\thaitext{วะ}, \\thaitext{คนสวย}, \\thaitext{เออ}, \\thaitext{เเบบ}, \\thaitext{ไอ้}, \\thaitext{เก็บ}, \\thaitext{กู}, :, \\thaitext{มึง}, \\thaitext{ทา}, \\thaitext{สม}, \\thaitext{จ้า}, \\thaitext{ไร}, \\thaitext{เหี้ย}, \\thaitext{ตะโกน}, \\thaitext{ยื่น}, good, \\\\\n",
      "            2. Know each other & cutiepiefinalep, \\thaitext{แมส}, \\thaitext{ปวด}, \\thaitext{ขยะ}, \\thaitext{ผญ}, \\thaitext{เดา}, \\thaitext{เจ็บปวด}, \\thaitext{กี้}, \\thaitext{ยาดม}, \\thaitext{คนสวย}, \\thaitext{เด}, \\thaitext{จ้า}, \\thaitext{ชี}, \\emoji{rolling-on-the-floor-laughing}\\emoji{rolling-on-the-floor-laughing}\\emoji{rolling-on-the-floor-laughing}, \\thaitext{งี้}, \\thaitext{สวัสดี}, \\thaitext{หนวกหู}, \\thaitext{ชา}, \\thaitext{เดินทาง}, \\thaitext{ป์}, \\\\\n",
      "            3. Don't know each other & \\thaitext{ว่ะ}, \\thaitext{เค}, \\thaitext{มึง}, \\thaitext{น้อน}, \\thaitext{คนสวย}, \\thaitext{เดินทาง}, \\thaitext{เหี้ย}, \\thaitext{ฮิปโป}, \\emoji{rolling-on-the-floor-laughing}\\emoji{rolling-on-the-floor-laughing}\\emoji{rolling-on-the-floor-laughing}, \\thaitext{รุ้}, \\thaitext{วว}, \\thaitext{เเบบ}, cutiepiefinalep, \\thaitext{กี้}, \\thaitext{ยย}, \\thaitext{รู}, \\thaitext{ยยย}, \\thaitext{บัดซบ}, \\thaitext{วะ}, \\thaitext{กุ}, \\\\\n",
      "\\hline\n",
      "            \\hline\n",
      "\n",
      "        \\multicolumn{2}{l}{\\textit{Respect}} \\\\\n",
      "            1. Respect & \\thaitext{ร้า}, \\thaitext{คนสวย}, \\thaitext{น่ารัก}, \\thaitext{เก}, \\thaitext{เด้อ}, \\thaitext{สวย}, \\thaitext{สาว}, \\thaitext{ขออนุญาต}, ^^, \\thaitext{มง}, \\thaitext{ญาติ}, \\thaitext{กล้า}, \\thaitext{จ้า}, \\thaitext{ลง}, \\thaitext{งง}, \\thaitext{ขับรถ}, \\thaitext{ๆๆๆๆ}, \\thaitext{นิด}, \\thaitext{เก่ง}, \\thaitext{คู}, \\\\\n",
      "            2. Normal & \\thaitext{หล่อ}, \\thaitext{น่ารัก}, \\thaitext{ตอแหล}, \\thaitext{มารยาท}, \\thaitext{เสือก}, \\emoji{smiling-face-with-heart-eyes}, \\thaitext{หี}, \\thaitext{หมาย}, waanjaimewgulfday, \\thaitext{ขออนุญาต}, \\emoji{face-with-rolling-eyes}, \\thaitext{ทุเรศ}, \\thaitext{เหี้ย}, \\thaitext{อดทน}, \\thaitext{ประเภท}, \\thaitext{บัดซบ}, \\thaitext{นี้แหละ}, \\thaitext{เมิง}, \\thaitext{สิ่ง}, \\thaitext{แปลกใจ}, \\\\\n",
      "            3. Not respect & \\thaitext{มีสติ}, \\thaitext{ตอแหล}, \\thaitext{ควย}, \\thaitext{มารยาท}, \\thaitext{ซวย}, \\thaitext{เพ้อเจ้อ}, \\thaitext{ปลาร้า}, \\thaitext{มีความสุข}, \\thaitext{ป้า}, \\thaitext{ขยะ}, \\thaitext{ปัญญาอ่อน}, \\thaitext{คู}, \\thaitext{ภาษาไทย}, \\thaitext{อ๋อ}, \\thaitext{ป่าว}, \\thaitext{ตอบแทน}, \\thaitext{แก่}, \\thaitext{บริหาร}, \\thaitext{ค้า}, \\thaitext{นิดนึง}, \\\\\n",
      "\\hline\n",
      "            \\hline\n",
      "\\end{longtable}\n",
      "\n",
      "\n",
      "\n",
      "\\subsection{Setting 3: Private Conversations with Labels from 3rd Party }\n",
      "\\begin{longtable}[h]{\n",
      "        p{\\dimexpr 0.30\\linewidth-2\\tabcolsep}\n",
      "        p{\\dimexpr 0.70\\linewidth-2\\tabcolsep}\n",
      "    }\n",
      "        \\hline\n",
      "        Relationship Label  & Lexicons\\\\\n",
      "        \\hline\n",
      "        \\endfirsthead\n",
      "        \\endhead\n",
      "\n",
      "\n",
      "        \\multicolumn{2}{l}{\\textit{Closeness}} \\\\\n",
      "            1. Close & \\thaitext{แอโรบิค}, \\thaitext{ข้าวผัด}, \\thaitext{ค่อยๆ}, \\thaitext{รถติด}, \\thaitext{ถนัด}, \\thaitext{ตุ}, \\thaitext{ฮัลโหล}, \\thaitext{ยี่ห้อ}, \\thaitext{โรงภาพยนตร์}, \\thaitext{หลายอย่าง}, \\thaitext{ฟาง}, \\thaitext{..}, \\thaitext{เทรนเนอร์}, \\thaitext{เป็นหวัด}, \\thaitext{กรอบ}, \\thaitext{ตลาดนัด}, \\thaitext{ทาส}, \\thaitext{ทุ}, \\thaitext{คลุม}, \\thaitext{หุงข้าว}, \\\\\n",
      "            2. Know each other & \\thaitext{แอโรบิค}, \\thaitext{บ่ายโมง}, \\thaitext{ยอด}, \\thaitext{รถกระบะ}, \\thaitext{กล้ามเนื้อ}, \\thaitext{ขั้นตอน}, \\thaitext{ขยัน}, \\thaitext{ภา}, \\thaitext{หหห}, netfilx, \\thaitext{ป.โท}, \\thaitext{เจ้}, \\thaitext{แฟชั่น}, \\thaitext{แกงเขียวหวาน}, \\thaitext{แต่ก่อน}, \\thaitext{แค}, \\thaitext{บอ}, \\thaitext{เรื่องเล่า}, \\thaitext{าาา}, \\thaitext{แขน}, \\\\\n",
      "            3. Don't know each other & \\thaitext{หอม}, \\thaitext{ชวน}, \\thaitext{อย่างไรบ้าง}, \\thaitext{เยี่ยม}, \\thaitext{คิว}, \\thaitext{สี}, \\thaitext{หา}, \\thaitext{เพิ่ม}, \\thaitext{ทัก}, \\thaitext{อย่างไร}, \\thaitext{นคะ}, \\thaitext{พันธ์}, \\thaitext{เลี้ยงสัตว์}, \\thaitext{ออกมา}, \\thaitext{จน}, \\thaitext{แถวๆ}, \\thaitext{เป็นหวัด}, \\thaitext{ไห}, \\thaitext{นาย}, \\thaitext{นค}, \\\\\n",
      "\\hline\n",
      "            \\hline\n",
      "\n",
      "        \\multicolumn{2}{l}{\\textit{Respect}} \\\\\n",
      "            1. Respect & \\thaitext{คุย}, \\thaitext{ส่วนมาก}, \\thaitext{ภาพยนตร์}, \\thaitext{ตุ๊กตา}, \\thaitext{สวัสดี}, \\thaitext{งานอดิเรก}, \\thaitext{มีความสุข}, \\thaitext{หัวข้อ}, \\thaitext{ครั้งแรก}, \\thaitext{ล่าสุด}, \\thaitext{จ้า}, \\thaitext{ค่า}, \\thaitext{สบายดี}, \\thaitext{เช่น}, \\thaitext{เจอกัน}, \\thaitext{ขับรถ}, \\thaitext{คุณแม่}, \\thaitext{มากกว่า}, \\thaitext{อ่านหนังสือ}, \\thaitext{เนม}, \\\\\n",
      "            2. Normal & \\thaitext{มึง}, \\thaitext{สวัสดี}, \\thaitext{สบายดี}, \\thaitext{กู}, \\thaitext{เนม}, \\thaitext{สัส}, \\thaitext{แอโรบิค}, \\thaitext{ท่าทาง}, \\thaitext{ดูแลตัวเอง}, \\thaitext{ชิบหาย}, \\thaitext{เหี้ย}, \\thaitext{นิ่ง}, \\thaitext{ทู}, \\thaitext{เพิ่มเติม}, netfilx, \\thaitext{วะ}, \\thaitext{รักษาสุขภาพ}, \\thaitext{หหห}, \\thaitext{กุ}, \\thaitext{โบว์}, \\\\\n",
      "            3. Not respect & \\thaitext{สบายดี}, \\thaitext{มึง}, \\thaitext{สัส}, \\thaitext{เหอะ}, \\thaitext{นาวิก}, \\thaitext{เสียภาษี}, \\thaitext{โอ๊ย}, \\thaitext{ขอบ}, \\thaitext{ชิบหาย}, \\thaitext{หวัด}, \\thaitext{เที่ยว}, \\thaitext{เหี้ย}, \\thaitext{แดก}, \\thaitext{หมัก}, \\thaitext{อยู่แล้ว}, \\thaitext{อะดิ}, \\thaitext{รู้สึก}, \\thaitext{ลัค}, \\thaitext{กู}, \\thaitext{จาก}, \\\\\n",
      "\\hline\n",
      "            \\hline\n",
      "\\end{longtable}\n",
      "\n",
      "\n",
      "\n",
      "\n"
     ]
    }
   ],
   "source": [
    "sections = [\n",
    "    \"Setting 1: Private Conversations with Self-Reported Labels\",\n",
    "    \"Setting 2: Public Conversations with Labels from 3rd Party \",\n",
    "    \"Setting 3: Private Conversations with Labels from 3rd Party \",\n",
    "]\n",
    "\n",
    "table_contents = [\n",
    "    (s1, s2),\n",
    "    (s3, s4),\n",
    "    (s5, s6),\n",
    "]\n",
    "\n",
    "printed_text = \"\"\n",
    "for section, (t1, t2) in zip(sections, table_contents):\n",
    "    \n",
    "    printed_text += \"\\subsection{\"+section+\"}\"\n",
    "    \n",
    "    printed_text += '''\n",
    "\\\\begin{longtable}[h]{\n",
    "        p{\\dimexpr 0.30\\linewidth-2\\\\tabcolsep}\n",
    "        p{\\dimexpr 0.70\\linewidth-2\\\\tabcolsep}\n",
    "    }\n",
    "        \\hline\n",
    "        Relationship Label  & Lexicons\\\\\\\\\n",
    "        \\hline\n",
    "        \\endfirsthead\n",
    "        \\endhead\n",
    "\n",
    "\n",
    "        \\multicolumn{2}{l}{\\\\textit{Closeness}} \\\\\\\\\n",
    "'''\n",
    "    printed_text += t1\n",
    "    printed_text += '''\n",
    "            \\hline\n",
    "\n",
    "        \\multicolumn{2}{l}{\\\\textit{Respect}} \\\\\\\\\n",
    "'''\n",
    "    \n",
    "    printed_text += t2\n",
    "    printed_text += '''\n",
    "            \\hline\n",
    "\\end{longtable}\n",
    "\\n\\n\n",
    "'''\n",
    "    \n",
    "print(printed_text)"
   ]
  },
  {
   "cell_type": "code",
   "execution_count": null,
   "id": "316ec1ec-dc25-42f4-87d0-784fb39ce092",
   "metadata": {},
   "outputs": [],
   "source": []
  },
  {
   "cell_type": "code",
   "execution_count": null,
   "id": "56404aea-e87b-4672-acd9-cfd337d45460",
   "metadata": {},
   "outputs": [],
   "source": []
  },
  {
   "cell_type": "code",
   "execution_count": null,
   "id": "420ee96d-4d5e-4f97-9651-b706c5cde1e9",
   "metadata": {},
   "outputs": [],
   "source": []
  },
  {
   "cell_type": "code",
   "execution_count": 137,
   "id": "440b2123-4393-4a0d-99ad-053aa728d4e6",
   "metadata": {},
   "outputs": [],
   "source": [
    "# from scipy import stats\n",
    "# import pandas as pd\n",
    "\n",
    "# def cal_corr(shap_lexicons, weights, label_fn):\n",
    "#     df = []\n",
    "#     for label in shap_lexicons:\n",
    "#         count = defaultdict(int)\n",
    "#         for w in shap_lexicons[label]:\n",
    "#             if w not in lexicons:\n",
    "#                 continue\n",
    "\n",
    "#             for t in lexicons[w]:\n",
    "#                 count[t] += 1\n",
    "\n",
    "#         l = label_fn(label)\n",
    "#         A = []\n",
    "#         B = []\n",
    "#         for feat in count:\n",
    "#             k = (l, feat)\n",
    "#             if k in weights and weights[k]!=\"\":\n",
    "#                 A.append(weights[k])\n",
    "#                 B.append(count[feat])\n",
    "\n",
    "#         spm = stats.spearmanr(A, B)\n",
    "#         df.append({\n",
    "#             \"label\": label,\n",
    "#             \"N\": len(A),\n",
    "#             \"spearman\": spm.statistic,\n",
    "#             \"pvalue\": spm.pvalue\n",
    "#         })\n",
    "\n",
    "#     return pd.DataFrame(df)"
   ]
  },
  {
   "cell_type": "code",
   "execution_count": 138,
   "id": "a1fe937c-da1f-4854-b4cb-057c5ea3e41a",
   "metadata": {},
   "outputs": [],
   "source": [
    "# shap_lexicons = load_jsonl(\"Classifier/lexicon_task1_clse.jsonl\")[0]\n",
    "# weights = load_obj_values(\"linear_weights_task1_clse.pkl\")\n",
    "\n",
    "# cal_corr(shap_lexicons, weights, closeness_to_eng1)"
   ]
  },
  {
   "cell_type": "code",
   "execution_count": null,
   "id": "4a40ee15-75cd-462a-9f47-a10d61c9477d",
   "metadata": {},
   "outputs": [],
   "source": []
  }
 ],
 "metadata": {
  "kernelspec": {
   "display_name": "Python 3 (ipykernel)",
   "language": "python",
   "name": "python3"
  },
  "language_info": {
   "codemirror_mode": {
    "name": "ipython",
    "version": 3
   },
   "file_extension": ".py",
   "mimetype": "text/x-python",
   "name": "python",
   "nbconvert_exporter": "python",
   "pygments_lexer": "ipython3",
   "version": "3.9.7"
  }
 },
 "nbformat": 4,
 "nbformat_minor": 5
}
