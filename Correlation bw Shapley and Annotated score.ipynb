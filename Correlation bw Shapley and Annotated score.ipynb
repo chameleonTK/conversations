{
 "cells": [
  {
   "cell_type": "code",
   "execution_count": 1,
   "id": "9d376cc7",
   "metadata": {},
   "outputs": [],
   "source": [
    "import sys\n",
    "sys.path.append('Classifier')"
   ]
  },
  {
   "cell_type": "code",
   "execution_count": null,
   "id": "53fe75c6",
   "metadata": {},
   "outputs": [],
   "source": []
  },
  {
   "cell_type": "code",
   "execution_count": 2,
   "id": "af758d6f",
   "metadata": {},
   "outputs": [],
   "source": [
    "from data_loader import get_task1_conver, get_task2_conver\n",
    "from utils import dump_jsonl, load_jsonl\n",
    "\n",
    "\n",
    "import pickle\n",
    "\n",
    "def load_shap_values(filepath):\n",
    "  with open(filepath, 'rb') as fin:\n",
    "    obj = pickle.load(fin)\n",
    "  return obj\n",
    "\n",
    "def save_shap_values(filepath, obj):\n",
    "  with open(filepath, 'wb') as fin:\n",
    "    pickle.dump(obj, fin)"
   ]
  },
  {
   "cell_type": "code",
   "execution_count": 3,
   "id": "9a58ac89",
   "metadata": {},
   "outputs": [],
   "source": [
    "import pandas as pd"
   ]
  },
  {
   "cell_type": "code",
   "execution_count": 4,
   "id": "10c6eb4e",
   "metadata": {},
   "outputs": [],
   "source": [
    "from pythainlp.tokenize import word_tokenize\n",
    "import numpy as np"
   ]
  },
  {
   "cell_type": "code",
   "execution_count": 5,
   "id": "c4c54324",
   "metadata": {},
   "outputs": [],
   "source": [
    "import json\n",
    "with open(\"words.json\", encoding=\"utf-8\") as fin:\n",
    "    raw = json.load(fin)\n",
    "    thaidict_royal = set()\n",
    "    for k in raw:\n",
    "        thaidict_royal.update(raw[k])"
   ]
  },
  {
   "cell_type": "code",
   "execution_count": 6,
   "id": "8ea9b888",
   "metadata": {},
   "outputs": [
    {
     "name": "stdout",
     "output_type": "stream",
     "text": [
      "Loaded 25573 records from lexicons.jsonl\n"
     ]
    }
   ],
   "source": [
    "lexicons_arr = load_jsonl(\"lexicons.jsonl\")"
   ]
  },
  {
   "cell_type": "code",
   "execution_count": 7,
   "id": "00ec757f",
   "metadata": {},
   "outputs": [],
   "source": [
    "from collections import defaultdict\n",
    "tags = set()\n",
    "lexicons = {}\n",
    "lexicons_keys = defaultdict(list)\n",
    "\n",
    "for key, values  in lexicons_arr:\n",
    "    if len(key) <= 1:\n",
    "        continue\n",
    "        \n",
    "    key = key.lower()\n",
    "    if key.endswith(\"rep\"):\n",
    "        key = key.replace(\"rep\", \"\")\n",
    "        \n",
    "    w = word_tokenize(key)\n",
    "    \n",
    "    lexicons_keys[w[0]].append(key)\n",
    "    \n",
    "    tag = [t for t in values[\"tags\"] if not t.startswith(\"cat:\")]\n",
    "    lexicons[key] = tag\n",
    "    tags.update(tag)"
   ]
  },
  {
   "cell_type": "code",
   "execution_count": 8,
   "id": "357437c6",
   "metadata": {},
   "outputs": [],
   "source": [
    "metric_names = {\n",
    "    \"Reference\" : {\n",
    "        \"all\": \"All words\",\n",
    "#         \"pertoken\": \"Average per token\"\n",
    "    },\n",
    "    \"Linguistic Complexity\" : {\n",
    "#         \"nunique\": \"Vocabulary size\",\n",
    "        \"nthai\": \"Thai words\",\n",
    "        \"nnotthai\": \"Non-Thai words\",\n",
    "        \"nlongword\": \"Long words\",\n",
    "        \"ndict\": \"Dictionary words\",\n",
    "        \"transliterated\": \"Transliteration\",\n",
    "    },\n",
    "    \"Pronoun\": {\n",
    "        \"pronoun\": \"All pronoun\",\n",
    "        \"pronoun_1st\": \">> 1st person pronoun\",\n",
    "        \"pronoun_2nd\": \">> 2nd person pronoun\",\n",
    "        \"pronoun_3rd\": \">> 3rd person pronoun\",\n",
    "        \"pronoun_misspelling\": \">> Pronoun in non-standard spelling\",\n",
    "    },\n",
    "    \n",
    "    \"Sentence-ending Particles\": {\n",
    "        \"particles\": \"All particles\",\n",
    "        \"particles_SARP\": \">> Socially-related particles\",\n",
    "        \"particles_notSARP\": \">> Non-socially-related particles\",\n",
    "        \"particles_misspelling\": \">> Particle in non-standard spelling\",\n",
    "    },\n",
    "    \n",
    "    \"Sentiment-related\": {\n",
    "        \"sentiment\": \"Sentiment words\",\n",
    "        \"sentiment_positive\": \">> Positive words\",\n",
    "        \"sentiment_negative\": \">> Negative words\",\n",
    "    },\n",
    "    \n",
    "    \"Spelling Variation\": {\n",
    "        \"misspelling\": \"All spelling variation\",\n",
    "        \"misspelling_common\": \">> Common misspelt words\",\n",
    "        \"misspelling_intention\": \">> Morphophonemic variation\",\n",
    "        \"misspelling_shorten\": \">> Simplified variation\",\n",
    "        \"nrepeat\": \">> Repeated characters\",\n",
    "        \"nemoji\": \">> Emoji\",\n",
    "        \"abbr\": \"Abbreviation\",\n",
    "#         \"slang\": \"Slang\",\n",
    "        \"swear\": \"Swear words\"\n",
    "    }\n",
    "}"
   ]
  },
  {
   "cell_type": "code",
   "execution_count": 9,
   "id": "c1099390",
   "metadata": {},
   "outputs": [],
   "source": [
    "def map_token_2_words(words, shap_tokens, debug=False):\n",
    "    tokens = [w for w, _ in  shap_tokens]\n",
    "    values = np.array([v for _, v in  shap_tokens])\n",
    "    \n",
    "    idxs = []\n",
    "    sidx = 0\n",
    "    windows = 10\n",
    "        \n",
    "    newwords = []\n",
    "    newtokens = []\n",
    "    newvalues = []\n",
    "    \n",
    "    \n",
    "    widx = 0\n",
    "    w = \"\"\n",
    "    while widx < len(words):\n",
    "        w += words[widx]\n",
    "        if sidx >= len(tokens):\n",
    "#             print(newwords)\n",
    "#             assert(False)\n",
    "            break\n",
    "            \n",
    "#         print(widx, w, sidx, tokens[sidx])\n",
    "#         break\n",
    "        s = \"\"\n",
    "        matched = False\n",
    "        for tidx in range(sidx, min(sidx+windows, len(tokens))):\n",
    "            s += tokens[tidx]\n",
    "            if s==w:\n",
    "                matched = True\n",
    "                break\n",
    "                \n",
    "        if matched:\n",
    "            if debug:\n",
    "                print(\"MATCHED\", w)\n",
    "            idxs.append([sidx, tidx+1])\n",
    "            newwords.append(w)\n",
    "            newtokens.append(\"\".join(tokens[sidx:tidx+1]))\n",
    "            newvalues.append(values[sidx:tidx+1].sum())\n",
    "            sidx = tidx+1\n",
    "            w = \"\"\n",
    "            widx += 1\n",
    "            continue\n",
    "        \n",
    "        if debug:\n",
    "            print(\"NOT MATCHED\", w, s)\n",
    "            \n",
    "        if not s.startswith(w):\n",
    "            sidx += 1\n",
    "            w = \"\"\n",
    "#             print(\"SKIP TOKEN\")\n",
    "            continue\n",
    "        else:                \n",
    "            widx += 1\n",
    "#             print(\"MERGE WORDS\")\n",
    "            continue\n",
    "            \n",
    "    if debug:    \n",
    "        print(newwords)\n",
    "        print(newtokens)\n",
    "    \n",
    "    \n",
    "    return newtokens, newvalues\n",
    "\n",
    "def get_shap_lexicons(df, raw_shap_values):\n",
    "    shap_lexicons = {}\n",
    "    label_values = df[\"label\"].unique()\n",
    "    \n",
    "\n",
    "    _tmp = raw_shap_values[:, :]\n",
    "    shap_data = _tmp.data\n",
    "    shap_values = _tmp.values\n",
    "\n",
    "    for _, label in enumerate(label_values):\n",
    "        feats = []\n",
    "        for idx, row in df.iterrows():\n",
    "            if row[\"label\"]!=label:\n",
    "                continue\n",
    "            \n",
    "            text = row[\"text\"]\n",
    "            words = word_tokenize(preprocess(row[\"text\"]))\n",
    "            words = [w.strip() for w in words if len(w.strip())>0]\n",
    "            \n",
    "            shap_tokens = [(w.strip(), v) for w,v in zip(shap_data[idx], shap_values[idx]) if len(w.strip())>0]\n",
    "            shap_tokens = map_token_2_words(words, shap_tokens, debug=False)\n",
    "            feats.append(shap_tokens)\n",
    "        shap_lexicons[label] = feats\n",
    "    return shap_lexicons"
   ]
  },
  {
   "cell_type": "code",
   "execution_count": 10,
   "id": "676b7cfb",
   "metadata": {},
   "outputs": [],
   "source": [
    "from pythainlp.util import countthai\n",
    "import re \n",
    "import emoji\n",
    "\n",
    "def get_lexicon_feats(token, ref_text):\n",
    "    feats = [\"all\"]\n",
    "    \n",
    "    if token==\"rep\":\n",
    "        feats.append(\"nrepeat\")\n",
    "        \n",
    "    if token in lexicons_keys:\n",
    "        for l in lexicons_keys[token]:\n",
    "            if not ref_text.startswith(l):\n",
    "                continue\n",
    "\n",
    "            feats.extend(lexicons[l])\n",
    "            \n",
    "    if token in thaidict_royal:\n",
    "        feats.append(\"ndict\")\n",
    "    \n",
    "    if len(token) > 7:\n",
    "        feats.append(\"nlongword\")\n",
    "    \n",
    "    if countthai(token) < 50:\n",
    "        nt = re.sub(r'\\W+', '', token)\n",
    "        if token not in [\"usr\", \"sys\", \"rep\"] and len(nt) > 0 and not nt.isnumeric():\n",
    "            feats.append(\"nnotthai\")\n",
    "    else:\n",
    "        feats.append(\"nthai\")\n",
    "    \n",
    "    if \"particles\" in feats and \"particles_SARP\" not in feats:\n",
    "        feats.append(\"particles_notSARP\")\n",
    "    \n",
    "    if emoji.emoji_count(token) > 0:\n",
    "        feats.append(\"nemoji\")\n",
    "    \n",
    "    return feats\n"
   ]
  },
  {
   "cell_type": "code",
   "execution_count": 11,
   "id": "2d2dce19",
   "metadata": {},
   "outputs": [],
   "source": [
    "# def get_all_shap_feats(shap_lexicons):\n",
    "#     output = {}\n",
    "#     for label in shap_lexicons:\n",
    "#         all_shap_feats = []\n",
    "#         for tokens, values in shap_lexicons[label]:\n",
    "#             shap_feats = defaultdict(list)\n",
    "#             for tidx, (t, v) in enumerate(zip(tokens, values)):\n",
    "#                 feats = get_lexicon_feats(t, \"\".join(tokens[tidx:]))\n",
    "                    \n",
    "#                 for f in feats:\n",
    "#                     shap_feats[f].append(v)\n",
    "            \n",
    "#             shap_feats[\"pertoken\"] = values\n",
    "#             all_shap_feats.append(shap_feats)\n",
    "            \n",
    "#         mean_shap_feats = {}\n",
    "#         for g in metric_names:\n",
    "#             for m in metric_names[g]:\n",
    "#                 values = []\n",
    "#                 for feats in all_shap_feats:\n",
    "#                     if m in feats:\n",
    "#                         absum = np.sum(np.abs(np.array(feats[m])))\n",
    "#                         values += [absum]\n",
    "#                         #values.append(feats[m])\n",
    "                \n",
    "#                 if len(values)==0:\n",
    "#                     mean_shap_feats[m] = (0, 0)\n",
    "#                     continue\n",
    "                    \n",
    "#                 rms = np.mean(np.array(values))\n",
    "#                 mean_shap_feats[m] = (rms, len(values))\n",
    "        \n",
    "#         output[label] = mean_shap_feats\n",
    "#     return output\n",
    "\n",
    "# def get_shap_feats(shap_lexicons):\n",
    "#     output = {}\n",
    "#     for label in shap_lexicons:\n",
    "#         all_shap_feats = []\n",
    "#         for tokens, values in shap_lexicons[label]:\n",
    "#             # shap_feats is per conversation\n",
    "#             shap_feats = defaultdict(list)\n",
    "#             for tidx, (t, v) in enumerate(zip(tokens, values)):\n",
    "#                 feats = get_lexicon_feats(t, \"\".join(tokens[tidx:]))\n",
    "                    \n",
    "#                 for f in feats:\n",
    "#                     shap_feats[f].append(v)\n",
    "            \n",
    "# #             shap_feats[\"pertoken\"] = sum(values)/len(values)\n",
    "#             shap_feats[\"pertoken\"] = values\n",
    "#             all_shap_feats.append(shap_feats)\n",
    "            \n",
    "#         mean_shap_feats = {}\n",
    "#         for g in metric_names:\n",
    "#             for m in metric_names[g]:\n",
    "#                 values = []\n",
    "#                 for feats in all_shap_feats:\n",
    "#                     if m in feats:\n",
    "#                         values += feats[m]\n",
    "                \n",
    "#                 if len(values)==0:\n",
    "#                     mean_shap_feats[m] = (0, 0)\n",
    "#                     continue\n",
    "                    \n",
    "#                 values = np.array(values)\n",
    "#                 rms = np.sqrt(np.mean(values**2))\n",
    "#                 mean_shap_feats[m] = (rms, len(values))\n",
    "        \n",
    "#         output[label] = mean_shap_feats\n",
    "#     return output"
   ]
  },
  {
   "cell_type": "code",
   "execution_count": 12,
   "id": "35ebf7a9",
   "metadata": {},
   "outputs": [],
   "source": [
    "from collections import defaultdict\n",
    "from pythainlp.tokenize import word_tokenize\n",
    "import itertools\n",
    "from tqdm import tqdm"
   ]
  },
  {
   "cell_type": "code",
   "execution_count": 13,
   "id": "c0ec4319",
   "metadata": {},
   "outputs": [],
   "source": [
    "from itertools import groupby\n",
    "from data_loader import preprocess\n",
    "\n",
    "def run_preprocess(train, val, test):\n",
    "    train[\"text\"] = train[\"text\"].apply(preprocess)\n",
    "    val[\"text\"] = val[\"text\"].apply(preprocess)\n",
    "    test[\"text\"] = test[\"text\"].apply(preprocess)\n",
    "    return train, val, test"
   ]
  },
  {
   "cell_type": "code",
   "execution_count": 14,
   "id": "3961225c",
   "metadata": {},
   "outputs": [],
   "source": [
    "def run_lexicons(df, shap_path):\n",
    "    train, val, test = df\n",
    "    train[\"split\"] = \"train\"\n",
    "    val[\"split\"] = \"val\"\n",
    "    test[\"split\"] = \"test\"\n",
    "\n",
    "    df = pd.concat([train, test, val])\n",
    "    shap_values = load_shap_values(shap_path)\n",
    "\n",
    "    assert(len(df)==len(shap_values))\n",
    "    \n",
    "    shap_lexicons = get_shap_lexicons(df, shap_values)\n",
    "    shap_feats = get_shap_feats(shap_lexicons)\n",
    "    all_shap_feats = get_all_shap_feats(shap_lexicons)\n",
    "    \n",
    "    return shap_feats, all_shap_feats"
   ]
  },
  {
   "cell_type": "code",
   "execution_count": 15,
   "id": "79640432",
   "metadata": {},
   "outputs": [],
   "source": [
    "# import matplotlib.pyplot as plt\n",
    "# from collections import defaultdict\n",
    "    \n",
    "# def get_avg_shap_by_lexicons(reformatted_shap_values):\n",
    "    \n",
    "    \n",
    "#     shap_by_lexicons = defaultdict(list)\n",
    "#     for cat in reformatted_shap_values:\n",
    "#         for words, shp_values in reformatted_shap_values[cat]:\n",
    "#             shp_values = np.array(shp_values)\n",
    "#             abs_shp_values = np.abs(shp_values)\n",
    "#             mn = min(abs_shp_values)\n",
    "#             mx = max(abs_shp_values)\n",
    "\n",
    "# #             normed_shp_values = (abs_shp_values-mn)/(mx-mn)\n",
    "#             normed_shp_values = abs_shp_values/sum(abs_shp_values)\n",
    "\n",
    "#             for w, s in zip(words, normed_shp_values):\n",
    "#                 shap_by_lexicons[w].append(s)\n",
    "\n",
    "#     avg_shap_by_lexicons = {}\n",
    "#     for w in shap_by_lexicons:\n",
    "#         values = shap_by_lexicons[w]\n",
    "#         if len(values) > 10 and w not in [\"usr\", \"sys\"]:\n",
    "#             avg_shap_by_lexicons[w] = np.mean(values)\n",
    "    \n",
    "#     avg_shap_by_lexicons = dict(sorted(avg_shap_by_lexicons.items(), key=lambda item: -item[1]))\n",
    "#     return avg_shap_by_lexicons\n",
    "\n",
    "# v1 = get_avg_shap_by_lexicons(reformatted_shap_values)\n",
    "# # v1"
   ]
  },
  {
   "cell_type": "code",
   "execution_count": 16,
   "id": "cf483677",
   "metadata": {},
   "outputs": [],
   "source": [
    "# def get_avg_annoated_score_by_lexicons(reformatted_shap_values, label_fn):\n",
    "    \n",
    "#     score_by_lexicons = defaultdict(list)\n",
    "#     for cat in reformatted_shap_values:\n",
    "#         score = label_fn(cat)\n",
    "#         for words, _ in reformatted_shap_values[cat]:\n",
    "#             for w in words:\n",
    "#                 score_by_lexicons[w].append(score)\n",
    "\n",
    "#     avg_score_by_lexicons = {}\n",
    "#     for w in score_by_lexicons:\n",
    "#         values = score_by_lexicons[w]\n",
    "#         if len(values) > 10 and w not in [\"usr\", \"sys\"]:\n",
    "#             avg_score_by_lexicons[w] = np.mean(values)\n",
    "    \n",
    "#     avg_score_by_lexicons = dict(sorted(avg_score_by_lexicons.items(), key=lambda item: -item[1]))\n",
    "#     return avg_score_by_lexicons\n",
    "\n",
    "# v2 = get_avg_annoated_score_by_lexicons(reformatted_shap_values, closeness_label_fn)"
   ]
  },
  {
   "cell_type": "code",
   "execution_count": null,
   "id": "cb81f150",
   "metadata": {},
   "outputs": [],
   "source": []
  },
  {
   "cell_type": "code",
   "execution_count": null,
   "id": "e7ffca91",
   "metadata": {},
   "outputs": [],
   "source": []
  },
  {
   "cell_type": "code",
   "execution_count": 17,
   "id": "c1302910",
   "metadata": {},
   "outputs": [],
   "source": [
    "# from scipy import stats\n",
    "# def cal_spearman_corr(v1, v2):\n",
    "#     words = set(v1.keys()).union(set(v2.keys()))\n",
    "#     feats_by_words = {}\n",
    "#     for w in words:\n",
    "#         feats_by_words[w] = get_lexicon_feats(w, w)\n",
    "    \n",
    "#     data = []\n",
    "#     for g in metric_names:    \n",
    "#         for m in metric_names[g]:\n",
    "#             X1 = []\n",
    "#             X2 = []\n",
    "#             for w in words:\n",
    "#                 feats = feats_by_words[w]\n",
    "#                 if m not in feats:\n",
    "#                     continue\n",
    "\n",
    "#                 if w in v1 and w in v2:\n",
    "#                     X1.append(v1[w])\n",
    "#                     X2.append(v2[w])\n",
    "            \n",
    "# #             if len(X1) > 10:\n",
    "#             res = stats.spearmanr(X1, X2)\n",
    "    \n",
    "#             data.append({\n",
    "#                 \"feat\": metric_names[g][m],\n",
    "#                 \"n\":len(X1),\n",
    "#                 \"corr\": res.statistic,\n",
    "#                 \"pvalue\": res.pvalue\n",
    "#             })\n",
    "# #             print(f\"{metric_names[g][m]} n:{len(X1)} Corr:{res.statistic:.3f} pvalue:{res.pvalue:.3f}\")\n",
    "        \n",
    "#     return pd.DataFrame(data)\n",
    "# cal_spearman_corr(v1, v2)"
   ]
  },
  {
   "cell_type": "code",
   "execution_count": null,
   "id": "6f4df4be",
   "metadata": {},
   "outputs": [],
   "source": []
  },
  {
   "cell_type": "code",
   "execution_count": null,
   "id": "f92eb529",
   "metadata": {},
   "outputs": [],
   "source": []
  },
  {
   "cell_type": "code",
   "execution_count": 18,
   "id": "4743a501",
   "metadata": {},
   "outputs": [],
   "source": [
    "import matplotlib.pyplot as plt\n",
    "from collections import defaultdict\n",
    "from scipy import stats\n",
    "\n",
    "def get_corr_by_lexicons(reformatted_shap_values, label_fn, minfreq=50):\n",
    "    \n",
    "    \n",
    "    shap_by_lexicons = defaultdict(list)\n",
    "    score_by_lexicons = defaultdict(list)\n",
    "    for cat in reformatted_shap_values:\n",
    "        score = label_fn(cat)\n",
    "        for words, shp_values in reformatted_shap_values[cat]:\n",
    "            shp_values = np.array(shp_values)\n",
    "#             abs_shp_values = np.abs(shp_values)\n",
    "            abs_shp_values = shp_values\n",
    "            mn = min(abs_shp_values)\n",
    "            mx = max(abs_shp_values)\n",
    "            \n",
    "            if mx-mn == 0:\n",
    "                continue\n",
    "                \n",
    "            normed_shp_values = (mn - abs_shp_values)/(mx-mn)\n",
    "#             normed_shp_values = abs_shp_values/sum(abs_shp_values)\n",
    "#             normed_shp_values = shp_values\n",
    "\n",
    "            for w, s in zip(words, normed_shp_values):\n",
    "                shap_by_lexicons[w].append(s)\n",
    "                score_by_lexicons[w].append(score)\n",
    "                \n",
    "                \n",
    "    words = shap_by_lexicons.keys()\n",
    "    feats_by_words = {}\n",
    "    for w in words:\n",
    "        feats_by_words[w] = get_lexicon_feats(w, w)\n",
    "    \n",
    "    corr = {}\n",
    "    for g in metric_names:    \n",
    "        for m in metric_names[g]:\n",
    "            X1 = []\n",
    "            X2 = []\n",
    "            for w in words:\n",
    "                feats = feats_by_words[w]\n",
    "                if m not in feats:\n",
    "                    continue\n",
    "                \n",
    "                if len(shap_by_lexicons[w]) <= minfreq:\n",
    "                    continue\n",
    "                    \n",
    "                X1 += shap_by_lexicons[w]\n",
    "                X2 += score_by_lexicons[w]\n",
    "            \n",
    "#             print(\"n\", len(X1))\n",
    "#             if len(X1) > 10:\n",
    "            res = stats.spearmanr(X1, X2)\n",
    "    \n",
    "#             print(m, len(X1))\n",
    "        \n",
    "            corr[metric_names[g][m]] = {\n",
    "#                 \"feat\": metric_names[g][m],\n",
    "                \"n\":len(X1),\n",
    "                \"corr\": res.statistic,\n",
    "                \"pvalue\": res.pvalue\n",
    "            }\n",
    "#             print(f\"{metric_names[g][m]} n:{len(X1)} Corr:{res.statistic:.3f} pvalue:{res.pvalue:.3f}\")\n",
    "\n",
    "    corr_by_words = {}\n",
    "    for w in words:\n",
    "        X1 = shap_by_lexicons[w]\n",
    "        X2 = score_by_lexicons[w]\n",
    "        \n",
    "        if len(X1) > minfreq:\n",
    "            res = stats.spearmanr(X1, X2)\n",
    "            corr_by_words[w] = {\n",
    "                \"n\":len(X1),\n",
    "                \"avg_shap\": np.mean(X1),\n",
    "                \"avg_score\": np.mean(X2),\n",
    "                \"corr\": (res.statistic),\n",
    "                \"pvalue\": res.pvalue\n",
    "            }\n",
    "            \n",
    "        \n",
    "    return pd.DataFrame(corr).T, pd.DataFrame(corr_by_words).T\n",
    "# cal_spearman_corr(v1, v2)"
   ]
  },
  {
   "cell_type": "code",
   "execution_count": null,
   "id": "1258e9ef",
   "metadata": {},
   "outputs": [],
   "source": []
  },
  {
   "cell_type": "code",
   "execution_count": 19,
   "id": "910612fa",
   "metadata": {},
   "outputs": [],
   "source": [
    "def authority1_label_fn(label):\n",
    "    if label == '0. Very respect':\n",
    "        return 1\n",
    "    elif label =='1. Respect':\n",
    "        return 0.5\n",
    "    elif label == \"2. Normal\":\n",
    "        return 0\n",
    "    elif type(label)==str:\n",
    "        assert(False)\n",
    "\n",
    "def authority2_label_fn(label):\n",
    "    if label == '1. Respect':\n",
    "        return 1\n",
    "    elif label =='2. Normal':\n",
    "        return 0.5\n",
    "    elif label == \"3. Not respect\":\n",
    "        return 0\n",
    "    elif type(label)==str:\n",
    "        assert(False)\n",
    "\n",
    "def closeness_label_fn(label):\n",
    "    if label == '1. Close':\n",
    "        return 1\n",
    "    elif label =='2. Know each other':\n",
    "        return 0.5\n",
    "    elif label == \"3. Don't know each other\":\n",
    "        return 0\n",
    "    elif type(label)==str:\n",
    "        assert(False)\n",
    "\n",
    "def get_corr(df, label_fn, shap_path):\n",
    "    train, val, test = df\n",
    "    train[\"split\"] = \"train\"\n",
    "    val[\"split\"] = \"val\"\n",
    "    test[\"split\"] = \"test\"\n",
    "\n",
    "    df = pd.concat([train, test, val])\n",
    "    shap_values = load_shap_values(shap_path)\n",
    "\n",
    "    assert(len(df)==len(shap_values))\n",
    "\n",
    "    reformatted_shap_values = get_shap_lexicons(df, shap_values)\n",
    "\n",
    "    return get_corr_by_lexicons(reformatted_shap_values, label_fn)"
   ]
  },
  {
   "cell_type": "code",
   "execution_count": 20,
   "id": "33c776b0",
   "metadata": {},
   "outputs": [
    {
     "name": "stdout",
     "output_type": "stream",
     "text": [
      "Loaded 1234 records from Task1/annotated_conersations.jsonl\n",
      "N 1096 60 60\n"
     ]
    },
    {
     "name": "stderr",
     "output_type": "stream",
     "text": [
      "Creating an ndarray from ragged nested sequences (which is a list-or-tuple of lists-or-tuples-or ndarrays with different lengths or shapes) is deprecated. If you meant to do this, you must specify 'dtype=object' when creating the ndarray.\n"
     ]
    },
    {
     "data": {
      "text/plain": [
       "185"
      ]
     },
     "execution_count": 20,
     "metadata": {},
     "output_type": "execute_result"
    }
   ],
   "source": [
    "df = get_task1_conver(\"Task1/annotated_conersations.jsonl\", \"closeness\", skips = [\"4. Don't like each other\"], only_user=True)\n",
    "df = run_preprocess(*df)\n",
    "corr1, corr_by_words1 = get_corr(df, closeness_label_fn, f\"./Classifier/ShapleyValues/task1_clse_regressor.pkl\")\n",
    "len(corr_by_words1)"
   ]
  },
  {
   "cell_type": "code",
   "execution_count": 21,
   "id": "99ad0a81",
   "metadata": {},
   "outputs": [
    {
     "name": "stdout",
     "output_type": "stream",
     "text": [
      "Loaded 1234 records from Task1/annotated_conersations.jsonl\n",
      "N 1098 61 61\n"
     ]
    },
    {
     "name": "stderr",
     "output_type": "stream",
     "text": [
      "Creating an ndarray from ragged nested sequences (which is a list-or-tuple of lists-or-tuples-or ndarrays with different lengths or shapes) is deprecated. If you meant to do this, you must specify 'dtype=object' when creating the ndarray.\n"
     ]
    }
   ],
   "source": [
    "df = get_task1_conver(\"Task1/annotated_conersations.jsonl\", \"authority\", skips = [\"3. Not respect\"], only_user=True)\n",
    "df = run_preprocess(*df)\n",
    "corr2, corr_by_words2 = get_corr(df, authority1_label_fn, f\"./Classifier/ShapleyValues/task1_auth_regressor.pkl\")"
   ]
  },
  {
   "cell_type": "code",
   "execution_count": null,
   "id": "4f51104e",
   "metadata": {},
   "outputs": [],
   "source": []
  },
  {
   "cell_type": "code",
   "execution_count": null,
   "id": "e46486b0",
   "metadata": {},
   "outputs": [],
   "source": []
  },
  {
   "cell_type": "code",
   "execution_count": 22,
   "id": "a3e3ce41",
   "metadata": {},
   "outputs": [
    {
     "name": "stdout",
     "output_type": "stream",
     "text": [
      "Loaded 2486 records from Task2/annotated/annotated.jsonl\n",
      "N 1495 186 186\n"
     ]
    },
    {
     "name": "stderr",
     "output_type": "stream",
     "text": [
      "Creating an ndarray from ragged nested sequences (which is a list-or-tuple of lists-or-tuples-or ndarrays with different lengths or shapes) is deprecated. If you meant to do this, you must specify 'dtype=object' when creating the ndarray.\n",
      "An input array is constant; the correlation coefficient is not defined.\n"
     ]
    }
   ],
   "source": [
    "df = df = get_task2_conver(\"Task2/annotated/annotated.jsonl\", \"closeness\", skips = [\"4. Don't like each other\"], only_user=True)\n",
    "df = run_preprocess(*df)\n",
    "corr3, corr_by_words3 = get_corr(df, closeness_label_fn, f\"./Classifier/ShapleyValues/task2_clse_regressor.pkl\")"
   ]
  },
  {
   "cell_type": "code",
   "execution_count": 23,
   "id": "6ec6e893",
   "metadata": {},
   "outputs": [
    {
     "name": "stdout",
     "output_type": "stream",
     "text": [
      "Loaded 2486 records from Task2/annotated/annotated.jsonl\n",
      "N 1876 234 234\n"
     ]
    },
    {
     "name": "stderr",
     "output_type": "stream",
     "text": [
      "Creating an ndarray from ragged nested sequences (which is a list-or-tuple of lists-or-tuples-or ndarrays with different lengths or shapes) is deprecated. If you meant to do this, you must specify 'dtype=object' when creating the ndarray.\n",
      "An input array is constant; the correlation coefficient is not defined.\n"
     ]
    }
   ],
   "source": [
    "df = get_task2_conver(\"Task2/annotated/annotated.jsonl\", \"authority\", skips = [], only_user=True)\n",
    "df = run_preprocess(*df)\n",
    "corr4, corr_by_words4 = get_corr(df, authority2_label_fn, f\"./Classifier/ShapleyValues/task2_auth_regressor.pkl\")"
   ]
  },
  {
   "cell_type": "code",
   "execution_count": null,
   "id": "3190e5ab",
   "metadata": {},
   "outputs": [],
   "source": []
  },
  {
   "cell_type": "code",
   "execution_count": 24,
   "id": "8c980cd5",
   "metadata": {},
   "outputs": [
    {
     "name": "stdout",
     "output_type": "stream",
     "text": [
      "Loaded 1221 records from Task3/annotated/annotated.jsonl\n",
      "N 1090 60 60\n"
     ]
    },
    {
     "name": "stderr",
     "output_type": "stream",
     "text": [
      "Creating an ndarray from ragged nested sequences (which is a list-or-tuple of lists-or-tuples-or ndarrays with different lengths or shapes) is deprecated. If you meant to do this, you must specify 'dtype=object' when creating the ndarray.\n"
     ]
    }
   ],
   "source": [
    "df = get_task1_conver(\"Task3/annotated/annotated.jsonl\", \"closeness\", skips = [\"4. Don't like each other\"], only_user=True)\n",
    "df = run_preprocess(*df)\n",
    "corr5, corr_by_words5 = get_corr(df, closeness_label_fn, f\"./Classifier/ShapleyValues/task3_clse_regressor.pkl\")"
   ]
  },
  {
   "cell_type": "code",
   "execution_count": 26,
   "id": "b7959d7f",
   "metadata": {},
   "outputs": [
    {
     "name": "stdout",
     "output_type": "stream",
     "text": [
      "Loaded 1221 records from Task3/annotated/annotated.jsonl\n",
      "N 1099 61 61\n"
     ]
    },
    {
     "name": "stderr",
     "output_type": "stream",
     "text": [
      "Creating an ndarray from ragged nested sequences (which is a list-or-tuple of lists-or-tuples-or ndarrays with different lengths or shapes) is deprecated. If you meant to do this, you must specify 'dtype=object' when creating the ndarray.\n",
      "An input array is constant; the correlation coefficient is not defined.\n"
     ]
    }
   ],
   "source": [
    "df = get_task1_conver(\"Task3/annotated/annotated.jsonl\", \"authority\", skips = [], only_user=True)\n",
    "df = run_preprocess(*df)\n",
    "corr6, corr_by_words6 = get_corr(df, authority2_label_fn, f\"./Classifier/ShapleyValues/task3_auth_regressor.pkl\")"
   ]
  },
  {
   "cell_type": "code",
   "execution_count": 164,
   "id": "ef657aae",
   "metadata": {},
   "outputs": [],
   "source": [
    "# corr6"
   ]
  },
  {
   "cell_type": "markdown",
   "id": "028ae483",
   "metadata": {},
   "source": [
    "## Print Results"
   ]
  },
  {
   "cell_type": "code",
   "execution_count": 31,
   "id": "b9708d2b",
   "metadata": {},
   "outputs": [],
   "source": [
    "sections = [\n",
    "    \"Setting 1: Private Conversations with Self-Reported Labels\",\n",
    "    \"Setting 2: Public Conversations with Labels from 3rd Party \",\n",
    "    \"Setting 3: Private Conversations with Labels from 3rd Party \",\n",
    "]"
   ]
  },
  {
   "cell_type": "code",
   "execution_count": 32,
   "id": "ec98ee86",
   "metadata": {},
   "outputs": [],
   "source": [
    "o = corr1.to_dict()"
   ]
  },
  {
   "cell_type": "code",
   "execution_count": null,
   "id": "cb77299a",
   "metadata": {},
   "outputs": [],
   "source": []
  },
  {
   "cell_type": "code",
   "execution_count": 33,
   "id": "064eca97",
   "metadata": {},
   "outputs": [],
   "source": [
    "printed_text = \"\" \n",
    "printed_text += \"\\subsection{Closeness}\"+\"\\n\"\n",
    "outputs = [\n",
    "    corr1.to_dict(),\n",
    "    corr3.to_dict(),\n",
    "    corr5.to_dict()\n",
    "]\n",
    "\n",
    "printed_text += \"\\\\begin{longtable}[h]{\"+\"\\n\"\n",
    "printed_text += \"    p{\\dimexpr 0.40\\linewidth-2\\\\tabcolsep}|\"+\"\\n\"\n",
    "\n",
    "printed_text += \"    p{\\dimexpr 0.15\\linewidth-2\\\\tabcolsep}\"+\"\\n\"\n",
    "printed_text += \"    p{\\dimexpr 0.15\\linewidth-2\\\\tabcolsep}\"+\"\\n\"\n",
    "printed_text += \"    p{\\dimexpr 0.15\\linewidth-2\\\\tabcolsep}\"+\"\\n\"\n",
    "\n",
    "printed_text += \"}\"+\"\\n\"\n",
    "printed_text += \"    \\hline\"+\"\\n\"\n",
    "printed_text += \"    Lexical Features & Setting 1  & Setting 2 & Setting 3 \\\\\\\\\"+\"\\n\"\n",
    "printed_text += \"    \\hline\"+\"\\n\"\n",
    "#     printed_text += \"    \\endfirsthead\"+\"\\n\"\n",
    "#     printed_text += \"\"+\"\\n\"\n",
    "printed_text += \"    \\endhead\"+\"\\n\"\n",
    "printed_text += \"\"+\"\\n\"\n",
    "\n",
    "# for sec, results in zip(sections, outputs):\n",
    "for g in metric_names:\n",
    "    printed_text += \"    \\multicolumn{4}{l}{\\\\textit{\"+g+\"}} \\\\\\\\\"+\"\\n\"\n",
    "    printed_text += \"    \\hline\"+\"\\n\"\n",
    "\n",
    "    for m in metric_names[g]:\n",
    "        s = f\"        {metric_names[g][m]} \"\n",
    "        mlabel = metric_names[g][m]\n",
    "        for out in outputs:\n",
    "            if mlabel not in out[\"corr\"]:\n",
    "                s += f\"& - \"\n",
    "            else:\n",
    "                val = out[\"corr\"][mlabel]\n",
    "                pval = out[\"pvalue\"][mlabel]\n",
    "\n",
    "                if pval < 0.05:\n",
    "                    s += \"& \\cellcolor{gray!25} \"+f\"{val:.2f} \"\n",
    "                else:\n",
    "                    s += f\"& {val:.2f} \"\n",
    "        s += \"\\\\\\\\\"\n",
    "        # print(s)\n",
    "        printed_text += s+\"\\n\"\n",
    "\n",
    "\n",
    "    printed_text += \"        &  & &\\\\\\\\\"+\"\\n\"\n",
    "    printed_text += \"    \\hline\"+\"\\n\"\n",
    "    printed_text += \"\"+\"\\n\"\n",
    "printed_text += \"\\label{closeness_shap_corr}\"+\"\\n\"\n",
    "printed_text += \"\\end{longtable}\"+\"\\n\"\n",
    "printed_text += \"\\clearpage\"+\"\\n\"\n",
    "\n"
   ]
  },
  {
   "cell_type": "code",
   "execution_count": 34,
   "id": "1adde511",
   "metadata": {},
   "outputs": [],
   "source": [
    "printed_text += \"\\subsection{Respect}\"+\"\\n\"\n",
    "outputs = [\n",
    "    corr2.to_dict(),\n",
    "    corr4.to_dict(),\n",
    "    corr6.to_dict()\n",
    "]\n",
    "\n",
    "printed_text += \"\\\\begin{longtable}[h]{\"+\"\\n\"\n",
    "printed_text += \"    p{\\dimexpr 0.40\\linewidth-2\\\\tabcolsep}|\"+\"\\n\"\n",
    "\n",
    "printed_text += \"    p{\\dimexpr 0.15\\linewidth-2\\\\tabcolsep}\"+\"\\n\"\n",
    "printed_text += \"    p{\\dimexpr 0.15\\linewidth-2\\\\tabcolsep}\"+\"\\n\"\n",
    "printed_text += \"    p{\\dimexpr 0.15\\linewidth-2\\\\tabcolsep}\"+\"\\n\"\n",
    "\n",
    "printed_text += \"}\"+\"\\n\"\n",
    "printed_text += \"    \\hline\"+\"\\n\"\n",
    "printed_text += \"    Lexical Features & Setting 1  & Setting 2 & Setting 3 \\\\\\\\\"+\"\\n\"\n",
    "printed_text += \"    \\hline\"+\"\\n\"\n",
    "#     printed_text += \"    \\endfirsthead\"+\"\\n\"\n",
    "#     printed_text += \"\"+\"\\n\"\n",
    "printed_text += \"    \\endhead\"+\"\\n\"\n",
    "printed_text += \"\"+\"\\n\"\n",
    "\n",
    "# for sec, results in zip(sections, outputs):\n",
    "for g in metric_names:\n",
    "    printed_text += \"    \\multicolumn{4}{l}{\\\\textit{\"+g+\"}} \\\\\\\\\"+\"\\n\"\n",
    "    printed_text += \"    \\hline\"+\"\\n\"\n",
    "\n",
    "    for m in metric_names[g]:\n",
    "        s = f\"        {metric_names[g][m]} \"\n",
    "        mlabel = metric_names[g][m]\n",
    "        for out in outputs:\n",
    "            if mlabel not in out[\"corr\"]:\n",
    "                s += f\"& - \"\n",
    "            else:\n",
    "                val = out[\"corr\"][mlabel]\n",
    "                pval = out[\"pvalue\"][mlabel]\n",
    "\n",
    "                if pval < 0.05:\n",
    "                    s += \"& \\cellcolor{gray!25} \"+f\"{val:.2f} \"\n",
    "                else:\n",
    "                    s += f\"& {val:.2f} \"\n",
    "        s += \"\\\\\\\\\"\n",
    "        # print(s)\n",
    "        printed_text += s+\"\\n\"\n",
    "\n",
    "\n",
    "    printed_text += \"        &  & &\\\\\\\\\"+\"\\n\"\n",
    "    printed_text += \"    \\hline\"+\"\\n\"\n",
    "    printed_text += \"\"+\"\\n\"\n",
    "printed_text += \"\\label{respect_shap_corr}\"+\"\\n\"\n",
    "printed_text += \"\\end{longtable}\"+\"\\n\"\n",
    "\n"
   ]
  },
  {
   "cell_type": "code",
   "execution_count": 35,
   "id": "f1cf86fe",
   "metadata": {},
   "outputs": [],
   "source": [
    "# print(printed_text)"
   ]
  },
  {
   "cell_type": "code",
   "execution_count": null,
   "id": "8e0bce37",
   "metadata": {},
   "outputs": [],
   "source": []
  },
  {
   "cell_type": "markdown",
   "id": "1ae746da",
   "metadata": {},
   "source": [
    "## Print Lexicons"
   ]
  },
  {
   "cell_type": "code",
   "execution_count": 79,
   "id": "efcbfe96",
   "metadata": {},
   "outputs": [],
   "source": [
    "import emoji\n",
    "import pythainlp\n",
    "from emoji import UNICODE_EMOJI\n",
    "\n",
    "def is_emoji(s):\n",
    "    for char in s:\n",
    "        if char in UNICODE_EMOJI[\"en\"]:\n",
    "            return True\n",
    "    return False\n",
    "\n",
    "table_contents = [\n",
    "    (corr_by_words1, corr_by_words2),\n",
    "    (corr_by_words3, corr_by_words4),\n",
    "    (corr_by_words5, corr_by_words6),\n",
    "]\n",
    "\n",
    "def to_latex(p, init=\"\"):\n",
    "    s = init\n",
    "#     cc = 0\n",
    "    for k in p.index[0:20]:\n",
    "        if k in [\"usr\", \"sys\"]:\n",
    "            continue\n",
    "            \n",
    "        if pythainlp.util.isthai(k):\n",
    "            s += \"\\\\thaitext{\"+k+\"}, \"\n",
    "        elif is_emoji(k):\n",
    "            kk = \"\"\n",
    "            for ch in k:\n",
    "\n",
    "                ch = emoji.demojize(ch)\n",
    "                ch = ch.replace(\"_\", \"-\").replace(\":\", \"\")\n",
    "                ch = \"\\emoji{\"+ch+\"}\"\n",
    "                kk += ch\n",
    "            print(kk)\n",
    "\n",
    "            s += f\"{kk}, \"\n",
    "        else:\n",
    "            s += f\"{k}, \"\n",
    "        \n",
    "        \n",
    "    \n",
    "    s += \"\\\\\\\\\\n\"\n",
    "    return s\n",
    "        \n",
    "printed_text = \"\"\n",
    "for section, (corr_by_words_clse, corr_by_words_auth) in zip(sections, table_contents):\n",
    "    \n",
    "    printed_text += \"\\subsection{\"+section+\"}\"\n",
    "    \n",
    "    printed_text += '''\n",
    "\\\\begin{longtable}[h]{\n",
    "        p{\\dimexpr 0.15\\linewidth-2\\\\tabcolsep}\n",
    "        p{\\dimexpr 0.15\\linewidth-2\\\\tabcolsep}\n",
    "        p{\\dimexpr 0.70\\linewidth-2\\\\tabcolsep}\n",
    "    }\n",
    "        \\hline\n",
    "        Annotated Score & $|Corr|$  & Lexicons\\\\\\\\\n",
    "        \\hline\n",
    "        %  \\endfirsthead\n",
    "        \\endhead\n",
    "\n",
    "\n",
    "        \\multicolumn{3}{l}{\\\\textit{Closeness}} \\\\\\\\\n",
    "'''\n",
    "    d = corr_by_words_clse.dropna(subset=[\"corr\", \"avg_score\"])\n",
    "    corr_75 = np.quantile(d[\"corr\"], q=0.75)\n",
    "    corr_25 = np.quantile(d[\"corr\"], q=0.25)\n",
    "\n",
    "    score_75 = np.quantile(d[\"avg_score\"], q=0.75)\n",
    "    score_25 = np.quantile(d[\"avg_score\"], q=0.25)\n",
    "    \n",
    "    p1 = d[(d[\"avg_score\"] >= score_75) & (d[\"corr\"] >= corr_75)].sort_values(by=\"avg_score\", ascending=False)\n",
    "    p2 = d[(d[\"avg_score\"] >= score_75) & (d[\"corr\"] < corr_25)].sort_values(by=\"avg_score\", ascending=False)\n",
    "    p3 = d[(d[\"avg_score\"] < score_25) & (d[\"corr\"] >= corr_75)].sort_values(by=\"avg_score\", ascending=False)\n",
    "    p4 = d[(d[\"avg_score\"] < score_25) & (d[\"corr\"] < corr_25)].sort_values(by=\"avg_score\", ascending=False)\n",
    "    \n",
    "#     print(\"clse\", len(d), len(p1), len(p2), len(p3), len(p4))\n",
    "\n",
    "    printed_text += \"            \"+to_latex(p1, \"$ \\geq Q_3 $ & $ \\geq Q_3 $ & \")\n",
    "    printed_text += \"            \"+to_latex(p2, \"$ \\geq Q_3 $ & $ < Q_1 $ & \")\n",
    "    printed_text += \"            \"+to_latex(p3, \"$ < Q_1 $ & $ \\geq Q_3 $ & \")\n",
    "    printed_text += \"            \"+to_latex(p4, \"$ < Q_1 $ & $ < Q_1 $ & \")\n",
    "    printed_text += '''\n",
    "        \\hline\n",
    "\n",
    "        \\multicolumn{2}{l}{\\\\textit{Respect}} \\\\\\\\\n",
    "'''\n",
    "    d = corr_by_words_auth.dropna(subset=[\"corr\", \"avg_score\"])\n",
    "    corr_75 = np.quantile(d[\"corr\"], q=0.75)\n",
    "    corr_25 = np.quantile(d[\"corr\"], q=0.25)\n",
    "\n",
    "    score_75 = np.quantile(d[\"avg_score\"], q=0.75)\n",
    "    score_25 = np.quantile(d[\"avg_score\"], q=0.25)\n",
    "    \n",
    "    p1 = d[(d[\"avg_score\"] >= score_75) & (d[\"corr\"] >= corr_75)].sort_values(by=\"avg_score\", ascending=False)\n",
    "    p2 = d[(d[\"avg_score\"] >= score_75) & (d[\"corr\"] < corr_25)].sort_values(by=\"avg_score\", ascending=False)\n",
    "    p3 = d[(d[\"avg_score\"] < score_25) & (d[\"corr\"] >= corr_75)].sort_values(by=\"avg_score\", ascending=False)\n",
    "    p4 = d[(d[\"avg_score\"] < score_25) & (d[\"corr\"] < corr_25)].sort_values(by=\"avg_score\", ascending=False)\n",
    "    \n",
    "#     print(\"auth xx\", \n",
    "#       len(d), \n",
    "#       len(d[d[\"avg_score\"] >= score_75]),\n",
    "#       len(d[d[\"avg_score\"] < score_75]),\n",
    "#       len(d[d[\"corr\"] >= corr_75]),\n",
    "#       len(d[d[\"corr\"] < corr_75]),\n",
    "#          )\n",
    "        \n",
    "#     print(\"auth\", len(d), len(p1), len(p2), len(p3), len(p4))\n",
    "    printed_text += \"            \"+to_latex(p1, \"$ \\geq Q_3 $ & $ \\geq Q_3 $ & \")\n",
    "    printed_text += \"            \"+to_latex(p2, \"$ \\geq Q_3 $ & $ < Q_1 $ & \")\n",
    "    printed_text += \"            \"+to_latex(p3, \"$ < Q_1 $ & $ \\geq Q_3 $ & \")\n",
    "    printed_text += \"            \"+to_latex(p4, \"$ < Q_1 $ & $ < Q_1 $ & \")\n",
    "\n",
    "    printed_text += '''\n",
    "        \\hline\n",
    "\\end{longtable}\n",
    "\\n\\n\n",
    "'''\n",
    "#     break\n",
    "#     print(\"===========\")\n",
    "    \n",
    "# print(printed_text)"
   ]
  },
  {
   "cell_type": "code",
   "execution_count": null,
   "id": "a1aacffa",
   "metadata": {},
   "outputs": [],
   "source": []
  },
  {
   "cell_type": "markdown",
   "id": "732aacff",
   "metadata": {},
   "source": [
    "## Print Histrogram"
   ]
  },
  {
   "cell_type": "code",
   "execution_count": 80,
   "id": "f59fa13f",
   "metadata": {},
   "outputs": [],
   "source": []
  },
  {
   "cell_type": "code",
   "execution_count": 146,
   "id": "e9c1e337",
   "metadata": {},
   "outputs": [],
   "source": [
    "# len(corr_by_words1)"
   ]
  },
  {
   "cell_type": "code",
   "execution_count": 145,
   "id": "04802584",
   "metadata": {},
   "outputs": [
    {
     "data": {
      "image/png": "[encoded data removed]",
      "text/plain": [
       "<Figure size 432x288 with 1 Axes>"
      ]
     },
     "metadata": {},
     "output_type": "display_data"
    },
    {
     "data": {
      "image/png": "[encoded data removed]",
      "text/plain": [
       "<Figure size 432x288 with 1 Axes>"
      ]
     },
     "metadata": {},
     "output_type": "display_data"
    },
    {
     "data": {
      "image/png": "[encoded data removed]",
      "text/plain": [
       "<Figure size 432x288 with 1 Axes>"
      ]
     },
     "metadata": {},
     "output_type": "display_data"
    },
    {
     "data": {
      "image/png": "[encoded data removed]",
      "text/plain": [
       "<Figure size 432x288 with 1 Axes>"
      ]
     },
     "metadata": {},
     "output_type": "display_data"
    },
    {
     "data": {
      "image/png": "[encoded data removed]",
      "text/plain": [
       "<Figure size 432x288 with 1 Axes>"
      ]
     },
     "metadata": {},
     "output_type": "display_data"
    },
    {
     "data": {
      "image/png": "[encoded data removed]",
      "text/plain": [
       "<Figure size 432x288 with 1 Axes>"
      ]
     },
     "metadata": {},
     "output_type": "display_data"
    }
   ],
   "source": [
    "import matplotlib.pyplot as plt\n",
    "import seaborn as sns\n",
    "from matplotlib.ticker import MaxNLocator\n",
    "\n",
    "sns.set_style('darkgrid')\n",
    "plt.rcParams.update({'font.size': 18})\n",
    "\n",
    "table_contents = [\n",
    "    (corr_by_words1, corr_by_words2),\n",
    "    (corr_by_words3, corr_by_words4),\n",
    "    (corr_by_words5, corr_by_words6),\n",
    "]\n",
    "    \n",
    "for tidx, (corr_by_words_clse, corr_by_words_auth) in enumerate(table_contents):\n",
    "    fig = plt.figure()\n",
    "    x = corr_by_words_clse[\"corr\"]\n",
    "    ax = sns.distplot(x)\n",
    "#     ax2 = ax.twinx()\n",
    "#     sns.boxplot(x=x, ax=ax2)\n",
    "#     ax2.set(ylim=(-1, 10))\n",
    "#     plt.hist(x, bins=20)\n",
    "    plt.xlim([-1, 1])\n",
    "    plt.xlabel(f\"μ={np.mean(x):.3f}, σ={np.std(x):.3f}\")\n",
    "    plt.gca().yaxis.set_major_locator(MaxNLocator(integer=True))\n",
    "    plt.savefig(f'Figures/task{tidx+1}-clse-corr.png', bbox_inches='tight', dpi=150)\n",
    "# #     plt.show() \n",
    "    \n",
    "    fig = plt.figure()\n",
    "    x = corr_by_words_auth[\"corr\"]\n",
    "#     plt.hist(x, bins=20)\n",
    "    sns.distplot(x)\n",
    "    plt.xlabel(f\"μ={np.mean(x):.3f}, σ={np.std(x):.3f}\")\n",
    "    plt.xlim([-1, 1])\n",
    "    plt.gca().yaxis.set_major_locator(MaxNLocator(integer=True))\n",
    "    plt.savefig(f'Figures/task{tidx+1}-auth-corr.png', bbox_inches='tight', dpi=150)"
   ]
  },
  {
   "cell_type": "code",
   "execution_count": null,
   "id": "b2fa4e7c",
   "metadata": {},
   "outputs": [],
   "source": []
  },
  {
   "cell_type": "code",
   "execution_count": null,
   "id": "71d7b6fa",
   "metadata": {},
   "outputs": [],
   "source": []
  },
  {
   "cell_type": "code",
   "execution_count": null,
   "id": "46be82bf",
   "metadata": {},
   "outputs": [],
   "source": []
  }
 ],
 "metadata": {
  "kernelspec": {
   "display_name": "Python 3 (ipykernel)",
   "language": "python",
   "name": "python3"
  },
  "language_info": {
   "codemirror_mode": {
    "name": "ipython",
    "version": 3
   },
   "file_extension": ".py",
   "mimetype": "text/x-python",
   "name": "python",
   "nbconvert_exporter": "python",
   "pygments_lexer": "ipython3",
   "version": "3.9.7"
  }
 },
 "nbformat": 4,
 "nbformat_minor": 5
}
