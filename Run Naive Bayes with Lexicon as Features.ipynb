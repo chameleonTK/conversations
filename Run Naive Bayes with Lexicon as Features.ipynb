{
 "cells": [
  {
   "cell_type": "markdown",
   "id": "1877f9b4",
   "metadata": {},
   "source": [
    "## Load Conversations"
   ]
  },
  {
   "cell_type": "code",
   "execution_count": 22,
   "id": "93deeee9",
   "metadata": {},
   "outputs": [],
   "source": [
    "import sys\n",
    "sys.path.append('.')\n",
    "\n",
    "import pandas as pd\n",
    "from utils import load_jsonl, dump_jsonl\n",
    "# import numpy as np"
   ]
  },
  {
   "cell_type": "code",
   "execution_count": null,
   "id": "1c87c53b",
   "metadata": {},
   "outputs": [],
   "source": []
  },
  {
   "cell_type": "code",
   "execution_count": 23,
   "id": "79f99623",
   "metadata": {},
   "outputs": [],
   "source": [
    "def get_task1_conver(in_dir, col_label, skips=[]):\n",
    "    conversations = load_jsonl(f\"{in_dir}\")\n",
    "    \n",
    "    \n",
    "    def to_message_str(messages, users):\n",
    "        s = []\n",
    "        u = []\n",
    "        for m in messages:\n",
    "            if users[m['user_id']] == \"SYS\":\n",
    "                s.append(m['text'])\n",
    "            else:\n",
    "                u.append(m['text'])\n",
    "                \n",
    "        return s, u\n",
    "        \n",
    "    newdata = []\n",
    "    for row in conversations:\n",
    "        row[\"messages\"].sort(key=lambda x: x[\"date_created\"], reverse=False)\n",
    "        \n",
    "        users = {}\n",
    "        for m in row[\"messages\"]:\n",
    "            if m[\"user_id\"] not in users:\n",
    "#                 username = \"USR\"+str(len(users)+1) if len(users.keys())==0 else \"SYS\"\n",
    "                username = \"USR\" if len(users.keys())==0 else \"SYS\"\n",
    "                users[m[\"user_id\"]] = username\n",
    "                \n",
    "#         if len(users)>2:\n",
    "#             print(\"More than 1 users\", len(users))\n",
    "        \n",
    "        \n",
    "        messages = row[\"messages\"]\n",
    "        chunk_size = 100\n",
    "        for i in range(0, len(messages), chunk_size):\n",
    "            sub_messages = messages[i:i+chunk_size]\n",
    "            s, u = to_message_str(sub_messages, users)\n",
    "            \n",
    "            if pd.isna(row[col_label]):\n",
    "                continue\n",
    "            \n",
    "            if row[col_label] in skips:\n",
    "                continue\n",
    "                \n",
    "            label = row[col_label]\n",
    "                \n",
    "            newdata.append({\n",
    "                \"user\": u,\n",
    "                \"sys\": s,\n",
    "                \"label\": label,\n",
    "                \"nturn\": len(sub_messages)\n",
    "            })\n",
    "        \n",
    "#     n_val = int(len(newdata)*0.05)\n",
    "#     n_test = n_val\n",
    "    \n",
    "#     test = newdata[0:n_test]\n",
    "#     val = newdata[n_test:n_test+n_val]\n",
    "#     train = newdata[n_test+n_val:]\n",
    "    \n",
    "    return pd.DataFrame(newdata)"
   ]
  },
  {
   "cell_type": "code",
   "execution_count": 24,
   "id": "92feb049",
   "metadata": {},
   "outputs": [
    {
     "name": "stdout",
     "output_type": "stream",
     "text": [
      "Loaded 1234 records from ./Task1/annotated_conersations.jsonl\n"
     ]
    },
    {
     "data": {
      "text/html": [
       "<div>\n",
       "<style scoped>\n",
       "    .dataframe tbody tr th:only-of-type {\n",
       "        vertical-align: middle;\n",
       "    }\n",
       "\n",
       "    .dataframe tbody tr th {\n",
       "        vertical-align: top;\n",
       "    }\n",
       "\n",
       "    .dataframe thead th {\n",
       "        text-align: right;\n",
       "    }\n",
       "</style>\n",
       "<table border=\"1\" class=\"dataframe\">\n",
       "  <thead>\n",
       "    <tr style=\"text-align: right;\">\n",
       "      <th></th>\n",
       "      <th>user</th>\n",
       "      <th>sys</th>\n",
       "      <th>label</th>\n",
       "      <th>nturn</th>\n",
       "    </tr>\n",
       "  </thead>\n",
       "  <tbody>\n",
       "    <tr>\n",
       "      <th>0</th>\n",
       "      <td>[ดีๆวาย, เป็นยังไงบ้างช่วงนี้, รวยๆ เฮงๆ , เหม...</td>\n",
       "      <td>[ว่าไงปราง, เหมือนเดิม ขายของ นอนตื่น ขายของ ช...</td>\n",
       "      <td>1. Close</td>\n",
       "      <td>35</td>\n",
       "    </tr>\n",
       "    <tr>\n",
       "      <th>1</th>\n",
       "      <td>[วันนี้เรามาพูดถึงเรื่องภาพยนตร์กัน, ปกฅิแล้วค...</td>\n",
       "      <td>[โอเคค่ะ, ที่บ้านค่ะ, ดูแทบทุกวันเลย, ดูได้ทุก...</td>\n",
       "      <td>1. Close</td>\n",
       "      <td>39</td>\n",
       "    </tr>\n",
       "    <tr>\n",
       "      <th>2</th>\n",
       "      <td>[เธอ, สรุป อ้วนจะซื้อรถเมื่อไหร่, แล้วอ้วนดูรถ...</td>\n",
       "      <td>[อะไรหมู, กลางปี, ว่าจะเอา  ativ ตัวใหม่, ว่าจ...</td>\n",
       "      <td>1. Close</td>\n",
       "      <td>40</td>\n",
       "    </tr>\n",
       "    <tr>\n",
       "      <th>3</th>\n",
       "      <td>[มึง, แมวมึงเป็นไงกันบ้างอ่ะ, ตอนนี้มีกี่ตัวนะ...</td>\n",
       "      <td>[ว่า, เด็กๆหรอ, ซนปกติเลยมึง, 5ตัว, แค่บ้านกูน...</td>\n",
       "      <td>1. Close</td>\n",
       "      <td>35</td>\n",
       "    </tr>\n",
       "    <tr>\n",
       "      <th>4</th>\n",
       "      <td>[อ้วน, อยากได้แมว, อยากเลี้ยง, เอาไว้ตอนตัวไม่...</td>\n",
       "      <td>[ไรหมู, เอาไปทำไมแมว, จะหาจากไหน, เดี๋ยวถามให้...</td>\n",
       "      <td>1. Close</td>\n",
       "      <td>39</td>\n",
       "    </tr>\n",
       "  </tbody>\n",
       "</table>\n",
       "</div>"
      ],
      "text/plain": [
       "                                                user  \\\n",
       "0  [ดีๆวาย, เป็นยังไงบ้างช่วงนี้, รวยๆ เฮงๆ , เหม...   \n",
       "1  [วันนี้เรามาพูดถึงเรื่องภาพยนตร์กัน, ปกฅิแล้วค...   \n",
       "2  [เธอ, สรุป อ้วนจะซื้อรถเมื่อไหร่, แล้วอ้วนดูรถ...   \n",
       "3  [มึง, แมวมึงเป็นไงกันบ้างอ่ะ, ตอนนี้มีกี่ตัวนะ...   \n",
       "4  [อ้วน, อยากได้แมว, อยากเลี้ยง, เอาไว้ตอนตัวไม่...   \n",
       "\n",
       "                                                 sys     label  nturn  \n",
       "0  [ว่าไงปราง, เหมือนเดิม ขายของ นอนตื่น ขายของ ช...  1. Close     35  \n",
       "1  [โอเคค่ะ, ที่บ้านค่ะ, ดูแทบทุกวันเลย, ดูได้ทุก...  1. Close     39  \n",
       "2  [อะไรหมู, กลางปี, ว่าจะเอา  ativ ตัวใหม่, ว่าจ...  1. Close     40  \n",
       "3  [ว่า, เด็กๆหรอ, ซนปกติเลยมึง, 5ตัว, แค่บ้านกูน...  1. Close     35  \n",
       "4  [ไรหมู, เอาไปทำไมแมว, จะหาจากไหน, เดี๋ยวถามให้...  1. Close     39  "
      ]
     },
     "execution_count": 24,
     "metadata": {},
     "output_type": "execute_result"
    }
   ],
   "source": [
    "df = get_task1_conver(\"./Task1/annotated_conersations.jsonl\", \"closeness\", skips = [])\n",
    "df.head()"
   ]
  },
  {
   "cell_type": "code",
   "execution_count": null,
   "id": "ac9e31cf-71f1-4fdb-b865-2f8b37eca3a0",
   "metadata": {},
   "outputs": [],
   "source": []
  },
  {
   "cell_type": "code",
   "execution_count": 25,
   "id": "554617d6-e691-4d93-acd3-bd65c7e93cb9",
   "metadata": {},
   "outputs": [
    {
     "data": {
      "text/html": [
       "<div>\n",
       "<style scoped>\n",
       "    .dataframe tbody tr th:only-of-type {\n",
       "        vertical-align: middle;\n",
       "    }\n",
       "\n",
       "    .dataframe tbody tr th {\n",
       "        vertical-align: top;\n",
       "    }\n",
       "\n",
       "    .dataframe thead th {\n",
       "        text-align: right;\n",
       "    }\n",
       "</style>\n",
       "<table border=\"1\" class=\"dataframe\">\n",
       "  <thead>\n",
       "    <tr style=\"text-align: right;\">\n",
       "      <th></th>\n",
       "      <th>user</th>\n",
       "      <th>sys</th>\n",
       "      <th>nturn</th>\n",
       "    </tr>\n",
       "    <tr>\n",
       "      <th>label</th>\n",
       "      <th></th>\n",
       "      <th></th>\n",
       "      <th></th>\n",
       "    </tr>\n",
       "  </thead>\n",
       "  <tbody>\n",
       "    <tr>\n",
       "      <th>1. Close</th>\n",
       "      <td>551</td>\n",
       "      <td>551</td>\n",
       "      <td>551</td>\n",
       "    </tr>\n",
       "    <tr>\n",
       "      <th>2. Know each other</th>\n",
       "      <td>230</td>\n",
       "      <td>230</td>\n",
       "      <td>230</td>\n",
       "    </tr>\n",
       "    <tr>\n",
       "      <th>3. Don't know each other</th>\n",
       "      <td>435</td>\n",
       "      <td>435</td>\n",
       "      <td>435</td>\n",
       "    </tr>\n",
       "    <tr>\n",
       "      <th>4. Don't like each other</th>\n",
       "      <td>5</td>\n",
       "      <td>5</td>\n",
       "      <td>5</td>\n",
       "    </tr>\n",
       "  </tbody>\n",
       "</table>\n",
       "</div>"
      ],
      "text/plain": [
       "                          user  sys  nturn\n",
       "label                                     \n",
       "1. Close                   551  551    551\n",
       "2. Know each other         230  230    230\n",
       "3. Don't know each other   435  435    435\n",
       "4. Don't like each other     5    5      5"
      ]
     },
     "execution_count": 25,
     "metadata": {},
     "output_type": "execute_result"
    }
   ],
   "source": [
    "df.groupby(\"label\").count()"
   ]
  },
  {
   "cell_type": "code",
   "execution_count": 26,
   "id": "b648fb53",
   "metadata": {},
   "outputs": [],
   "source": [
    "# df.groupby(\"label\").count()"
   ]
  },
  {
   "cell_type": "code",
   "execution_count": 27,
   "id": "fc25201a",
   "metadata": {},
   "outputs": [],
   "source": [
    "def get_task2_conver(in_dir, col_label, skips=[]):\n",
    "    conversations = load_jsonl(f\"{in_dir}\")\n",
    "        \n",
    "    newdata = []\n",
    "    for row in conversations:\n",
    "        row[\"messages\"].sort(key=lambda x: x[\"created_at\"], reverse=False)\n",
    "        \n",
    "        users = {}\n",
    "        for m in row[\"messages\"]:\n",
    "            if m[\"user_id\"] not in users:\n",
    "#                 username = \"USR\"+str(len(users)+1) if len(users.keys())==0 else \"SYS\"\n",
    "                username = \"USR\" if len(users.keys())!=0 else \"SYS\"\n",
    "                users[m[\"user_id\"]] = username\n",
    "                \n",
    "        if len(users)>2:\n",
    "            print(\"More than 1 users\", len(users))\n",
    "        \n",
    "        \n",
    "        \n",
    "        messages = row[\"messages\"]\n",
    "        s = []\n",
    "        u = []\n",
    "        for m in messages:\n",
    "            text = m['text'].replace(\"[USR]\", \"\").replace(\"[URL]\", \"URL\")\n",
    "            if users[m['user_id']] == \"SYS\":\n",
    "                s.append(text)\n",
    "            else:\n",
    "                u.append(text)\n",
    "        \n",
    "        label = row[col_label]\n",
    "            \n",
    "        if pd.isna(label):\n",
    "            continue\n",
    "        \n",
    "        if label in skips:\n",
    "            continue\n",
    "                \n",
    "        newdata.append({\n",
    "            \"user\": u,\n",
    "            \"sys\": s,\n",
    "            \"label\": label,\n",
    "            \"nturn\": len(messages)\n",
    "        })\n",
    "                \n",
    "            \n",
    "    n_val = int(len(newdata)*0.1)\n",
    "    n_test = n_val\n",
    "    \n",
    "    test = newdata[0:n_test]\n",
    "    val = newdata[n_test:n_test+n_val]\n",
    "    train = newdata[n_test+n_val:]\n",
    "    \n",
    "    return pd.DataFrame(newdata)"
   ]
  },
  {
   "cell_type": "code",
   "execution_count": 28,
   "id": "b980cc1a",
   "metadata": {},
   "outputs": [
    {
     "name": "stdout",
     "output_type": "stream",
     "text": [
      "Loaded 2486 records from ./Task2/annotated/annotated.jsonl\n"
     ]
    },
    {
     "data": {
      "text/html": [
       "<div>\n",
       "<style scoped>\n",
       "    .dataframe tbody tr th:only-of-type {\n",
       "        vertical-align: middle;\n",
       "    }\n",
       "\n",
       "    .dataframe tbody tr th {\n",
       "        vertical-align: top;\n",
       "    }\n",
       "\n",
       "    .dataframe thead th {\n",
       "        text-align: right;\n",
       "    }\n",
       "</style>\n",
       "<table border=\"1\" class=\"dataframe\">\n",
       "  <thead>\n",
       "    <tr style=\"text-align: right;\">\n",
       "      <th></th>\n",
       "      <th>user</th>\n",
       "      <th>sys</th>\n",
       "      <th>label</th>\n",
       "      <th>nturn</th>\n",
       "    </tr>\n",
       "  </thead>\n",
       "  <tbody>\n",
       "    <tr>\n",
       "      <th>0</th>\n",
       "      <td>[ แตงโม ชวนแฟนไปค่ะ ไม่ใช่กระติกชวนไป กลับไปหา...</td>\n",
       "      <td>[ทบทวน\\nงานคืนนั้น #กระติก ชวนแฟนพี่ตม.ไปด้วยน...</td>\n",
       "      <td>3. Not respect</td>\n",
       "      <td>3</td>\n",
       "    </tr>\n",
       "    <tr>\n",
       "      <th>1</th>\n",
       "      <td>[   รูปนี้จ้า ยัยน้องตัวเล็กของพี่มิว☀️🌻\\n \\n#...</td>\n",
       "      <td>[เนื่ิองจากวันนี้...เป็นวันครบรอบ 3 ปี\\nมาเล่น...</td>\n",
       "      <td>1. Respect</td>\n",
       "      <td>3</td>\n",
       "    </tr>\n",
       "    <tr>\n",
       "      <th>2</th>\n",
       "      <td>[ แอบคิดเหมือนกัน้ลยค่ะว่าจะมีอีกรอบ]</td>\n",
       "      <td>[เธรดนี้จะมาวิเคราะห์น้ำท่วมปี54 ที่จริงมันอาจ...</td>\n",
       "      <td>2. Normal</td>\n",
       "      <td>3</td>\n",
       "    </tr>\n",
       "    <tr>\n",
       "      <th>3</th>\n",
       "      <td>[ เนี่ยสิ่งที่กูพูด URL]</td>\n",
       "      <td>[มาดิ้นควยไรชองมึง\\nมึงอ่ะโชว์โง่ไอ้สัตว์ เสร่...</td>\n",
       "      <td>3. Not respect</td>\n",
       "      <td>3</td>\n",
       "    </tr>\n",
       "    <tr>\n",
       "      <th>4</th>\n",
       "      <td>[ สรุปปวินนี่บล็อกคนด้วยมั้ย?,  สรุป ที่น่าโมโ...</td>\n",
       "      <td>[แต่ปวินกับไพรวัลย์ก็ไม่เข้าใจนะเหมือนเจ้เกลีย...</td>\n",
       "      <td>2. Normal</td>\n",
       "      <td>5</td>\n",
       "    </tr>\n",
       "  </tbody>\n",
       "</table>\n",
       "</div>"
      ],
      "text/plain": [
       "                                                user  \\\n",
       "0  [ แตงโม ชวนแฟนไปค่ะ ไม่ใช่กระติกชวนไป กลับไปหา...   \n",
       "1  [   รูปนี้จ้า ยัยน้องตัวเล็กของพี่มิว☀️🌻\\n \\n#...   \n",
       "2              [ แอบคิดเหมือนกัน้ลยค่ะว่าจะมีอีกรอบ]   \n",
       "3                           [ เนี่ยสิ่งที่กูพูด URL]   \n",
       "4  [ สรุปปวินนี่บล็อกคนด้วยมั้ย?,  สรุป ที่น่าโมโ...   \n",
       "\n",
       "                                                 sys           label  nturn  \n",
       "0  [ทบทวน\\nงานคืนนั้น #กระติก ชวนแฟนพี่ตม.ไปด้วยน...  3. Not respect      3  \n",
       "1  [เนื่ิองจากวันนี้...เป็นวันครบรอบ 3 ปี\\nมาเล่น...      1. Respect      3  \n",
       "2  [เธรดนี้จะมาวิเคราะห์น้ำท่วมปี54 ที่จริงมันอาจ...       2. Normal      3  \n",
       "3  [มาดิ้นควยไรชองมึง\\nมึงอ่ะโชว์โง่ไอ้สัตว์ เสร่...  3. Not respect      3  \n",
       "4  [แต่ปวินกับไพรวัลย์ก็ไม่เข้าใจนะเหมือนเจ้เกลีย...       2. Normal      5  "
      ]
     },
     "execution_count": 28,
     "metadata": {},
     "output_type": "execute_result"
    }
   ],
   "source": [
    "df = get_task2_conver(\"./Task2/annotated/annotated.jsonl\", \"authority\")\n",
    "df.head()"
   ]
  },
  {
   "cell_type": "code",
   "execution_count": null,
   "id": "9ecc1405-7676-4a1d-b2a7-894083116d5c",
   "metadata": {},
   "outputs": [],
   "source": []
  },
  {
   "cell_type": "code",
   "execution_count": 29,
   "id": "27de11af",
   "metadata": {},
   "outputs": [
    {
     "data": {
      "text/html": [
       "<div>\n",
       "<style scoped>\n",
       "    .dataframe tbody tr th:only-of-type {\n",
       "        vertical-align: middle;\n",
       "    }\n",
       "\n",
       "    .dataframe tbody tr th {\n",
       "        vertical-align: top;\n",
       "    }\n",
       "\n",
       "    .dataframe thead th {\n",
       "        text-align: right;\n",
       "    }\n",
       "</style>\n",
       "<table border=\"1\" class=\"dataframe\">\n",
       "  <thead>\n",
       "    <tr style=\"text-align: right;\">\n",
       "      <th></th>\n",
       "      <th>user</th>\n",
       "      <th>sys</th>\n",
       "      <th>nturn</th>\n",
       "    </tr>\n",
       "    <tr>\n",
       "      <th>label</th>\n",
       "      <th></th>\n",
       "      <th></th>\n",
       "      <th></th>\n",
       "    </tr>\n",
       "  </thead>\n",
       "  <tbody>\n",
       "    <tr>\n",
       "      <th>1. Respect</th>\n",
       "      <td>319</td>\n",
       "      <td>319</td>\n",
       "      <td>319</td>\n",
       "    </tr>\n",
       "    <tr>\n",
       "      <th>2. Normal</th>\n",
       "      <td>1661</td>\n",
       "      <td>1661</td>\n",
       "      <td>1661</td>\n",
       "    </tr>\n",
       "    <tr>\n",
       "      <th>3. Not respect</th>\n",
       "      <td>364</td>\n",
       "      <td>364</td>\n",
       "      <td>364</td>\n",
       "    </tr>\n",
       "  </tbody>\n",
       "</table>\n",
       "</div>"
      ],
      "text/plain": [
       "                user   sys  nturn\n",
       "label                            \n",
       "1. Respect       319   319    319\n",
       "2. Normal       1661  1661   1661\n",
       "3. Not respect   364   364    364"
      ]
     },
     "execution_count": 29,
     "metadata": {},
     "output_type": "execute_result"
    }
   ],
   "source": [
    "df.groupby(\"label\").count()"
   ]
  },
  {
   "cell_type": "code",
   "execution_count": null,
   "id": "d27dfc40",
   "metadata": {},
   "outputs": [],
   "source": []
  },
  {
   "cell_type": "code",
   "execution_count": 30,
   "id": "8a566de9",
   "metadata": {},
   "outputs": [
    {
     "name": "stdout",
     "output_type": "stream",
     "text": [
      "Loaded 1221 records from ./Task3/annotated/annotated.jsonl\n"
     ]
    },
    {
     "data": {
      "text/html": [
       "<div>\n",
       "<style scoped>\n",
       "    .dataframe tbody tr th:only-of-type {\n",
       "        vertical-align: middle;\n",
       "    }\n",
       "\n",
       "    .dataframe tbody tr th {\n",
       "        vertical-align: top;\n",
       "    }\n",
       "\n",
       "    .dataframe thead th {\n",
       "        text-align: right;\n",
       "    }\n",
       "</style>\n",
       "<table border=\"1\" class=\"dataframe\">\n",
       "  <thead>\n",
       "    <tr style=\"text-align: right;\">\n",
       "      <th></th>\n",
       "      <th>user</th>\n",
       "      <th>sys</th>\n",
       "      <th>label</th>\n",
       "      <th>nturn</th>\n",
       "    </tr>\n",
       "  </thead>\n",
       "  <tbody>\n",
       "    <tr>\n",
       "      <th>0</th>\n",
       "      <td>[ดีๆวาย, เป็นยังไงบ้างช่วงนี้, รวยๆ เฮงๆ , เหม...</td>\n",
       "      <td>[ว่าไงปราง, เหมือนเดิม ขายของ นอนตื่น ขายของ ช...</td>\n",
       "      <td>1. Close</td>\n",
       "      <td>35</td>\n",
       "    </tr>\n",
       "    <tr>\n",
       "      <th>1</th>\n",
       "      <td>[วันนี้เรามาพูดถึงเรื่องภาพยนตร์กัน, ปกฅิแล้วค...</td>\n",
       "      <td>[โอเคค่ะ, ที่บ้านค่ะ, ดูแทบทุกวันเลย, ดูได้ทุก...</td>\n",
       "      <td>2. Know each other</td>\n",
       "      <td>39</td>\n",
       "    </tr>\n",
       "    <tr>\n",
       "      <th>2</th>\n",
       "      <td>[เธอ, สรุป อ้วนจะซื้อรถเมื่อไหร่, แล้วอ้วนดูรถ...</td>\n",
       "      <td>[อะไรหมู, กลางปี, ว่าจะเอา  ativ ตัวใหม่, ว่าจ...</td>\n",
       "      <td>2. Know each other</td>\n",
       "      <td>40</td>\n",
       "    </tr>\n",
       "    <tr>\n",
       "      <th>3</th>\n",
       "      <td>[มึง, แมวมึงเป็นไงกันบ้างอ่ะ, ตอนนี้มีกี่ตัวนะ...</td>\n",
       "      <td>[ว่า, เด็กๆหรอ, ซนปกติเลยมึง, 5ตัว, แค่บ้านกูน...</td>\n",
       "      <td>1. Close</td>\n",
       "      <td>35</td>\n",
       "    </tr>\n",
       "    <tr>\n",
       "      <th>4</th>\n",
       "      <td>[อ้วน, อยากได้แมว, อยากเลี้ยง, เอาไว้ตอนตัวไม่...</td>\n",
       "      <td>[ไรหมู, เอาไปทำไมแมว, จะหาจากไหน, เดี๋ยวถามให้...</td>\n",
       "      <td>1. Close</td>\n",
       "      <td>39</td>\n",
       "    </tr>\n",
       "  </tbody>\n",
       "</table>\n",
       "</div>"
      ],
      "text/plain": [
       "                                                user  \\\n",
       "0  [ดีๆวาย, เป็นยังไงบ้างช่วงนี้, รวยๆ เฮงๆ , เหม...   \n",
       "1  [วันนี้เรามาพูดถึงเรื่องภาพยนตร์กัน, ปกฅิแล้วค...   \n",
       "2  [เธอ, สรุป อ้วนจะซื้อรถเมื่อไหร่, แล้วอ้วนดูรถ...   \n",
       "3  [มึง, แมวมึงเป็นไงกันบ้างอ่ะ, ตอนนี้มีกี่ตัวนะ...   \n",
       "4  [อ้วน, อยากได้แมว, อยากเลี้ยง, เอาไว้ตอนตัวไม่...   \n",
       "\n",
       "                                                 sys               label  \\\n",
       "0  [ว่าไงปราง, เหมือนเดิม ขายของ นอนตื่น ขายของ ช...            1. Close   \n",
       "1  [โอเคค่ะ, ที่บ้านค่ะ, ดูแทบทุกวันเลย, ดูได้ทุก...  2. Know each other   \n",
       "2  [อะไรหมู, กลางปี, ว่าจะเอา  ativ ตัวใหม่, ว่าจ...  2. Know each other   \n",
       "3  [ว่า, เด็กๆหรอ, ซนปกติเลยมึง, 5ตัว, แค่บ้านกูน...            1. Close   \n",
       "4  [ไรหมู, เอาไปทำไมแมว, จะหาจากไหน, เดี๋ยวถามให้...            1. Close   \n",
       "\n",
       "   nturn  \n",
       "0     35  \n",
       "1     39  \n",
       "2     40  \n",
       "3     35  \n",
       "4     39  "
      ]
     },
     "execution_count": 30,
     "metadata": {},
     "output_type": "execute_result"
    }
   ],
   "source": [
    "df = get_task1_conver(\"./Task3/annotated/annotated.jsonl\", \"closeness\")\n",
    "df.head()"
   ]
  },
  {
   "cell_type": "code",
   "execution_count": 31,
   "id": "282e5a5b-4206-46bd-ae7f-604b8c24574a",
   "metadata": {},
   "outputs": [
    {
     "data": {
      "text/html": [
       "<div>\n",
       "<style scoped>\n",
       "    .dataframe tbody tr th:only-of-type {\n",
       "        vertical-align: middle;\n",
       "    }\n",
       "\n",
       "    .dataframe tbody tr th {\n",
       "        vertical-align: top;\n",
       "    }\n",
       "\n",
       "    .dataframe thead th {\n",
       "        text-align: right;\n",
       "    }\n",
       "</style>\n",
       "<table border=\"1\" class=\"dataframe\">\n",
       "  <thead>\n",
       "    <tr style=\"text-align: right;\">\n",
       "      <th></th>\n",
       "      <th>user</th>\n",
       "      <th>sys</th>\n",
       "      <th>nturn</th>\n",
       "    </tr>\n",
       "    <tr>\n",
       "      <th>label</th>\n",
       "      <th></th>\n",
       "      <th></th>\n",
       "      <th></th>\n",
       "    </tr>\n",
       "  </thead>\n",
       "  <tbody>\n",
       "    <tr>\n",
       "      <th>1. Close</th>\n",
       "      <td>462</td>\n",
       "      <td>462</td>\n",
       "      <td>462</td>\n",
       "    </tr>\n",
       "    <tr>\n",
       "      <th>2. Know each other</th>\n",
       "      <td>696</td>\n",
       "      <td>696</td>\n",
       "      <td>696</td>\n",
       "    </tr>\n",
       "    <tr>\n",
       "      <th>3. Don't know each other</th>\n",
       "      <td>52</td>\n",
       "      <td>52</td>\n",
       "      <td>52</td>\n",
       "    </tr>\n",
       "    <tr>\n",
       "      <th>4. Don't like each other</th>\n",
       "      <td>11</td>\n",
       "      <td>11</td>\n",
       "      <td>11</td>\n",
       "    </tr>\n",
       "  </tbody>\n",
       "</table>\n",
       "</div>"
      ],
      "text/plain": [
       "                          user  sys  nturn\n",
       "label                                     \n",
       "1. Close                   462  462    462\n",
       "2. Know each other         696  696    696\n",
       "3. Don't know each other    52   52     52\n",
       "4. Don't like each other    11   11     11"
      ]
     },
     "execution_count": 31,
     "metadata": {},
     "output_type": "execute_result"
    }
   ],
   "source": [
    "df.groupby(\"label\").count()"
   ]
  },
  {
   "cell_type": "code",
   "execution_count": null,
   "id": "f4f7dc09",
   "metadata": {},
   "outputs": [],
   "source": []
  },
  {
   "cell_type": "markdown",
   "id": "418ecb0f",
   "metadata": {},
   "source": [
    "## Naive Bayes"
   ]
  },
  {
   "cell_type": "code",
   "execution_count": 32,
   "id": "63a42643-11c4-427c-b3c5-662a21a5af31",
   "metadata": {},
   "outputs": [],
   "source": [
    "import pickle\n",
    "def save_obj_values(filepath, obj):\n",
    "  with open(filepath, 'wb') as fin:\n",
    "    pickle.dump(obj, fin)\n",
    "    \n",
    "def load_obj_values(filepath):\n",
    "  with open(filepath, 'rb') as fin:\n",
    "    obj = pickle.load(fin)\n",
    "  return obj"
   ]
  },
  {
   "cell_type": "code",
   "execution_count": null,
   "id": "33d21d30-3555-4593-919c-6f7581ac0a5d",
   "metadata": {},
   "outputs": [],
   "source": []
  },
  {
   "cell_type": "code",
   "execution_count": 33,
   "id": "94a5de27",
   "metadata": {},
   "outputs": [],
   "source": [
    "clse_print_labels = ['1. Close', '2. Know each other', \"3. Don't know each other\", \"4. Don't like each other\"]\n",
    "auth_print_labels = ['0. Very respect', '1. Respect', '2. Normal', '3. Not respect']"
   ]
  },
  {
   "cell_type": "code",
   "execution_count": 39,
   "id": "388acee1",
   "metadata": {},
   "outputs": [],
   "source": [
    "import re\n",
    "from itertools import groupby\n",
    "import emoji\n",
    "from pythainlp.util import countthai\n",
    "from tqdm import tqdm\n",
    "\n",
    "from pythainlp.tokenize import word_tokenize\n",
    "\n",
    "def rm_reptitive(text):\n",
    "    s = \"\"\n",
    "    groups = groupby(text)\n",
    "    for label, group in groups:\n",
    "        g = list(group)\n",
    "        if len(g) >= 3:\n",
    "            s += f\"{label*3} rep \"\n",
    "        else:\n",
    "            s += \"\".join(g)\n",
    "    return s\n",
    "\n",
    "def remove_space(sent):\n",
    "    newwords = []\n",
    "    for w in sent:\n",
    "        if len(w.strip())==0:\n",
    "            continue\n",
    "        newwords.append(w)\n",
    "    return newwords\n",
    "\n",
    "def analyse_conv_per_person(vocab, texts):    \n",
    "    texts = [t.lower() for t in texts]\n",
    "    texts = [rm_reptitive(t) for t in texts]\n",
    "    words = [word_tokenize(t) for t in texts]\n",
    "    words = [remove_space(w) for w in words]\n",
    "    \n",
    "    wc = {}\n",
    "    for sents in words:\n",
    "        for w in sents:\n",
    "            if w not in vocab:\n",
    "                vocab[w] = 0\n",
    "\n",
    "            if w not in wc:\n",
    "                wc[w] = 0\n",
    "            \n",
    "            vocab[w] += 1\n",
    "            wc[w] += 1\n",
    "    \n",
    "    return vocab, wc\n",
    "\n",
    "\n",
    "def analyse_conversation(df):\n",
    "    wc = []\n",
    "    vocab = {}\n",
    "    labels = []\n",
    "    for idx, row in tqdm(df.iterrows(), total=len(df)):\n",
    "        vocab, ms = analyse_conv_per_person(vocab, row[\"sys\"])\n",
    "        vocab, mu = analyse_conv_per_person(vocab, row[\"user\"])\n",
    "        wc.append((ms, mu))\n",
    "        labels.append(row[\"label\"])\n",
    "    \n",
    "    return vocab, wc, labels"
   ]
  },
  {
   "cell_type": "code",
   "execution_count": 52,
   "id": "56ebc33b",
   "metadata": {},
   "outputs": [],
   "source": [
    "from sklearn.metrics import accuracy_score, precision_recall_fscore_support\n",
    "from sklearn.metrics import mean_squared_error, r2_score\n",
    "import numpy as np\n",
    "from sklearn.naive_bayes import MultinomialNB\n",
    "\n",
    "def get_data(wc, labels, feats, idxs):\n",
    "    X = []\n",
    "    Y = []\n",
    "    for idx in idxs:\n",
    "        _, mu = wc[idx]\n",
    "        label = labels[idx]\n",
    "\n",
    "        vec = []\n",
    "        for w in feats:\n",
    "            if w in mu:\n",
    "                vec.append(mu[w])\n",
    "            else:\n",
    "                vec.append(0)\n",
    "        X.append(vec)\n",
    "        Y.append(label)\n",
    "\n",
    "    return X, Y\n",
    "\n",
    "def train_model(vocab, wc, labels, label_fn):\n",
    "    sorted_tf = sorted(vocab.items(), key=lambda x:-x[1])\n",
    "    \n",
    "    feats = []\n",
    "    for i, (k, v) in enumerate(sorted_tf):\n",
    "        \n",
    "        if i > 5000:    # use only top 5000\n",
    "            break\n",
    "        \n",
    "        if v <= 5:     # use when tf >= 5\n",
    "            break    \n",
    "        feats.append(k)\n",
    "    \n",
    "    idxs = np.arange(0, len(labels), 1)\n",
    "    np.random.shuffle(idxs)\n",
    "    \n",
    "    train_idx, test_idx = np.split(idxs, [int(0.9*len(idxs))])\n",
    "    Xtrain, Ytrain = get_data(wc, labels, feats, train_idx)\n",
    "    Xtest, Ytest = get_data(wc, labels, feats, test_idx)\n",
    "    \n",
    "\n",
    "    clf = MultinomialNB(force_alpha=True)\n",
    "    clf.fit(Xtrain, Ytrain)\n",
    "    \n",
    "    predictions = clf.predict(Xtest)\n",
    "    \n",
    "    true_labels_value = []\n",
    "    predictions_value = []\n",
    "    \n",
    "    for l, p in zip(Ytest, predictions):\n",
    "        if label_fn(l) is None:\n",
    "            continue\n",
    "            \n",
    "        if label_fn(p) is None:\n",
    "            print(p)\n",
    "            \n",
    "        true_labels_value.append(label_fn(l))\n",
    "        predictions_value.append(label_fn(p))\n",
    "        \n",
    "    \n",
    "    p, r, f1, _ = precision_recall_fscore_support(Ytest, predictions, average='macro', zero_division=0)\n",
    "    return {\n",
    "        \"rmse\": np.sqrt(mean_squared_error(true_labels_value, predictions_value)),\n",
    "        \"r2\": r2_score(true_labels_value, predictions_value),\n",
    "        \n",
    "        \"accuracy\": accuracy_score(Ytest, predictions),\n",
    "        \"f1\": f1,\n",
    "        \"precision\": p,\n",
    "        \"recall\": r,\n",
    "    }"
   ]
  },
  {
   "cell_type": "code",
   "execution_count": 53,
   "id": "d71bae7d",
   "metadata": {},
   "outputs": [],
   "source": [
    "def print_accuracy(vocab, wc, labels, label_fn):\n",
    "    eval_metrics = {}\n",
    "    for i in tqdm(range(10)):\n",
    "        metrics = train_model(vocab, wc, labels, label_fn)\n",
    "        for k in metrics:\n",
    "            if k not in eval_metrics:\n",
    "                eval_metrics[k] = []\n",
    "            eval_metrics[k].append(metrics[k])\n",
    "\n",
    "    for k in eval_metrics:\n",
    "        print(f\"{k}: {np.mean(eval_metrics[k]):.3f} ± {np.std(eval_metrics[k]):.3f}\")"
   ]
  },
  {
   "cell_type": "code",
   "execution_count": null,
   "id": "17f7fbd5",
   "metadata": {},
   "outputs": [],
   "source": []
  },
  {
   "cell_type": "code",
   "execution_count": null,
   "id": "6b6f4dea",
   "metadata": {},
   "outputs": [],
   "source": []
  },
  {
   "cell_type": "code",
   "execution_count": 54,
   "id": "369fef84",
   "metadata": {},
   "outputs": [],
   "source": [
    "def closeness_to_vec1(label):\n",
    "    if label == \"1. Close\":\n",
    "        return 1\n",
    "    elif label == \"2. Know each other\":\n",
    "        return 0.5\n",
    "    elif label == \"3. Don't know each other\": \n",
    "        return 0\n",
    "    elif label == \"4. Don't like each other\":\n",
    "        return None\n",
    "    else:\n",
    "        return None\n",
    "\n",
    "def authority_to_vec1(label):\n",
    "    if label == '0. Very respect':\n",
    "        return 1\n",
    "    elif label == '1. Respect': \n",
    "        return 0.5\n",
    "    elif label == '2. Normal':\n",
    "        return 0\n",
    "    elif label == '3. Not respect':\n",
    "        return None\n",
    "    else:\n",
    "        return None\n",
    "    \n",
    "def authority_to_vec2(label):\n",
    "    if label == '0. Very respect':\n",
    "        return None\n",
    "    elif label == '1. Respect': \n",
    "        return 1\n",
    "    elif label == '2. Normal':\n",
    "        return 0.5\n",
    "    elif label == '3. Not respect':\n",
    "        return 0\n",
    "    else:\n",
    "        return None\n",
    "    \n",
    "    "
   ]
  },
  {
   "cell_type": "code",
   "execution_count": 55,
   "id": "b7098221",
   "metadata": {},
   "outputs": [
    {
     "name": "stdout",
     "output_type": "stream",
     "text": [
      "Loaded 1234 records from ./Task1/annotated_conersations.jsonl\n"
     ]
    },
    {
     "name": "stderr",
     "output_type": "stream",
     "text": [
      "100%|████████████████████████████████████████████████████████████████████████████████████████████████████████████████████████████████████████████████████████████████████████████████████████████████████| 1221/1221 [00:03<00:00, 365.46it/s]\n"
     ]
    }
   ],
   "source": [
    "df = get_task1_conver(\"./Task1/annotated_conersations.jsonl\", \"closeness\", skips = [])\n",
    "vocab, wc, labels = analyse_conversation(df)"
   ]
  },
  {
   "cell_type": "code",
   "execution_count": 56,
   "id": "aaf894e7",
   "metadata": {},
   "outputs": [
    {
     "name": "stderr",
     "output_type": "stream",
     "text": [
      "100%|█████████████████████████████████████████████████████████████████████████████████████████████████████████████████████████████████████████████████████████████████████████████████████████████████████████| 10/10 [00:08<00:00,  1.23it/s]"
     ]
    },
    {
     "name": "stdout",
     "output_type": "stream",
     "text": [
      "rmse: 0.337 ± 0.034\n",
      "r2: 0.410 ± 0.134\n",
      "accuracy: 0.684 ± 0.040\n",
      "f1: 0.563 ± 0.077\n",
      "precision: 0.560 ± 0.077\n",
      "recall: 0.578 ± 0.074\n"
     ]
    },
    {
     "name": "stderr",
     "output_type": "stream",
     "text": [
      "\n"
     ]
    }
   ],
   "source": [
    "print_accuracy(vocab, wc, labels, closeness_to_vec1)"
   ]
  },
  {
   "cell_type": "code",
   "execution_count": 60,
   "id": "26ed643c",
   "metadata": {},
   "outputs": [
    {
     "name": "stdout",
     "output_type": "stream",
     "text": [
      "Loaded 2486 records from ./Task2/annotated/annotated.jsonl\n"
     ]
    },
    {
     "name": "stderr",
     "output_type": "stream",
     "text": [
      "100%|████████████████████████████████████████████████████████████████████████████████████████████████████████████████████████████████████████████████████████████████████████████████████████████████████| 1867/1867 [00:02<00:00, 728.82it/s]\n"
     ]
    }
   ],
   "source": [
    "df = get_task2_conver(\"./Task2/annotated/annotated.jsonl\", \"closeness\", skips = [\"4. Don't like each other\"])\n",
    "vocab, wc, labels = analyse_conversation(df)"
   ]
  },
  {
   "cell_type": "code",
   "execution_count": 61,
   "id": "fe67875c",
   "metadata": {},
   "outputs": [
    {
     "name": "stderr",
     "output_type": "stream",
     "text": [
      "100%|█████████████████████████████████████████████████████████████████████████████████████████████████████████████████████████████████████████████████████████████████████████████████████████████████████████| 10/10 [00:12<00:00,  1.20s/it]"
     ]
    },
    {
     "name": "stdout",
     "output_type": "stream",
     "text": [
      "rmse: 0.394 ± 0.027\n",
      "r2: -0.392 ± 0.175\n",
      "accuracy: 0.766 ± 0.033\n",
      "f1: 0.435 ± 0.051\n",
      "precision: 0.480 ± 0.074\n",
      "recall: 0.427 ± 0.042\n"
     ]
    },
    {
     "name": "stderr",
     "output_type": "stream",
     "text": [
      "\n"
     ]
    }
   ],
   "source": [
    "print_accuracy(vocab, wc, labels, closeness_to_vec1)"
   ]
  },
  {
   "cell_type": "code",
   "execution_count": 67,
   "id": "d6fcadd7",
   "metadata": {},
   "outputs": [
    {
     "name": "stdout",
     "output_type": "stream",
     "text": [
      "Loaded 1221 records from ./Task3/annotated/annotated.jsonl\n"
     ]
    },
    {
     "name": "stderr",
     "output_type": "stream",
     "text": [
      "100%|████████████████████████████████████████████████████████████████████████████████████████████████████████████████████████████████████████████████████████████████████████████████████████████████████| 1210/1210 [00:03<00:00, 354.33it/s]\n"
     ]
    }
   ],
   "source": [
    "df = get_task1_conver(\"./Task3/annotated/annotated.jsonl\", \"closeness\", skips = [\"4. Don't like each other\"])\n",
    "vocab, wc, labels = analyse_conversation(df)"
   ]
  },
  {
   "cell_type": "code",
   "execution_count": 68,
   "id": "436ca14f",
   "metadata": {},
   "outputs": [
    {
     "name": "stderr",
     "output_type": "stream",
     "text": [
      "100%|█████████████████████████████████████████████████████████████████████████████████████████████████████████████████████████████████████████████████████████████████████████████████████████████████████████| 10/10 [00:08<00:00,  1.11it/s]"
     ]
    },
    {
     "name": "stdout",
     "output_type": "stream",
     "text": [
      "rmse: 0.232 ± 0.028\n",
      "r2: 0.326 ± 0.114\n",
      "accuracy: 0.793 ± 0.037\n",
      "f1: 0.542 ± 0.022\n",
      "precision: 0.527 ± 0.024\n",
      "recall: 0.559 ± 0.021\n"
     ]
    },
    {
     "name": "stderr",
     "output_type": "stream",
     "text": [
      "\n"
     ]
    }
   ],
   "source": [
    "print_accuracy(vocab, wc, labels, closeness_to_vec1)"
   ]
  },
  {
   "cell_type": "code",
   "execution_count": null,
   "id": "0c752838",
   "metadata": {},
   "outputs": [],
   "source": []
  },
  {
   "cell_type": "code",
   "execution_count": 69,
   "id": "6c424333",
   "metadata": {},
   "outputs": [],
   "source": [
    "# def authority_to_vec1(label):\n",
    "#     if label == '0. Very respect':\n",
    "#         return 1\n",
    "#     elif label == '1. Respect': \n",
    "#         return 0.5\n",
    "#     elif label == '2. Normal':\n",
    "#         return 0\n",
    "#     elif label == '3. Not respect':\n",
    "#         return None\n",
    "#     else:\n",
    "#         return None\n",
    "    \n",
    "# def authority_to_vec2(label):\n",
    "#     if label == '0. Very respect':\n",
    "#         return None\n",
    "#     elif label == '1. Respect': \n",
    "#         return 1\n",
    "#     elif label == '2. Normal':\n",
    "#         return 0.5\n",
    "#     elif label == '3. Not respect':\n",
    "#         return 0\n",
    "#     else:\n",
    "#         return None"
   ]
  },
  {
   "cell_type": "code",
   "execution_count": 72,
   "id": "bf4b02fe",
   "metadata": {},
   "outputs": [
    {
     "name": "stdout",
     "output_type": "stream",
     "text": [
      "Loaded 1234 records from ./Task1/annotated_conersations.jsonl\n"
     ]
    },
    {
     "name": "stderr",
     "output_type": "stream",
     "text": [
      "100%|████████████████████████████████████████████████████████████████████████████████████████████████████████████████████████████████████████████████████████████████████████████████████████████████████| 1220/1220 [00:03<00:00, 369.81it/s]\n"
     ]
    }
   ],
   "source": [
    "df = get_task1_conver(\"./Task1/annotated_conersations.jsonl\", \"authority\", skips = [\"3. Not respect\"])\n",
    "vocab, wc, labels = analyse_conversation(df)"
   ]
  },
  {
   "cell_type": "code",
   "execution_count": 73,
   "id": "d34603ef",
   "metadata": {},
   "outputs": [
    {
     "name": "stderr",
     "output_type": "stream",
     "text": [
      "100%|█████████████████████████████████████████████████████████████████████████████████████████████████████████████████████████████████████████████████████████████████████████████████████████████████████████| 10/10 [00:08<00:00,  1.22it/s]"
     ]
    },
    {
     "name": "stdout",
     "output_type": "stream",
     "text": [
      "rmse: 0.479 ± 0.029\n",
      "r2: -0.500 ± 0.232\n",
      "accuracy: 0.552 ± 0.037\n",
      "f1: 0.470 ± 0.046\n",
      "precision: 0.479 ± 0.049\n",
      "recall: 0.470 ± 0.042\n"
     ]
    },
    {
     "name": "stderr",
     "output_type": "stream",
     "text": [
      "\n"
     ]
    }
   ],
   "source": [
    "print_accuracy(vocab, wc, labels, authority_to_vec1)"
   ]
  },
  {
   "cell_type": "code",
   "execution_count": 74,
   "id": "27b6a4cb",
   "metadata": {},
   "outputs": [
    {
     "name": "stdout",
     "output_type": "stream",
     "text": [
      "Loaded 2486 records from ./Task2/annotated/annotated.jsonl\n"
     ]
    },
    {
     "name": "stderr",
     "output_type": "stream",
     "text": [
      "100%|████████████████████████████████████████████████████████████████████████████████████████████████████████████████████████████████████████████████████████████████████████████████████████████████████| 2344/2344 [00:03<00:00, 727.93it/s]\n"
     ]
    }
   ],
   "source": [
    "df = get_task2_conver(\"./Task2/annotated/annotated.jsonl\", \"authority\", skips = [])\n",
    "vocab, wc, labels = analyse_conversation(df)"
   ]
  },
  {
   "cell_type": "code",
   "execution_count": 75,
   "id": "15a3aea7",
   "metadata": {},
   "outputs": [
    {
     "name": "stderr",
     "output_type": "stream",
     "text": [
      "100%|█████████████████████████████████████████████████████████████████████████████████████████████████████████████████████████████████████████████████████████████████████████████████████████████████████████| 10/10 [00:17<00:00,  1.74s/it]"
     ]
    },
    {
     "name": "stdout",
     "output_type": "stream",
     "text": [
      "rmse: 0.241 ± 0.015\n",
      "r2: 0.195 ± 0.060\n",
      "accuracy: 0.769 ± 0.028\n",
      "f1: 0.678 ± 0.028\n",
      "precision: 0.682 ± 0.026\n",
      "recall: 0.680 ± 0.038\n"
     ]
    },
    {
     "name": "stderr",
     "output_type": "stream",
     "text": [
      "\n"
     ]
    }
   ],
   "source": [
    "print_accuracy(vocab, wc, labels, authority_to_vec2)"
   ]
  },
  {
   "cell_type": "code",
   "execution_count": 76,
   "id": "15aaba3e",
   "metadata": {},
   "outputs": [
    {
     "name": "stdout",
     "output_type": "stream",
     "text": [
      "Loaded 1221 records from ./Task3/annotated/annotated.jsonl\n"
     ]
    },
    {
     "name": "stderr",
     "output_type": "stream",
     "text": [
      "100%|████████████████████████████████████████████████████████████████████████████████████████████████████████████████████████████████████████████████████████████████████████████████████████████████████| 1221/1221 [00:03<00:00, 368.61it/s]\n"
     ]
    }
   ],
   "source": [
    "df = get_task1_conver(\"./Task3/annotated/annotated.jsonl\", \"authority\", skips = [])\n",
    "vocab, wc, labels = analyse_conversation(df)"
   ]
  },
  {
   "cell_type": "code",
   "execution_count": 77,
   "id": "1b1cf706",
   "metadata": {},
   "outputs": [
    {
     "name": "stderr",
     "output_type": "stream",
     "text": [
      "100%|█████████████████████████████████████████████████████████████████████████████████████████████████████████████████████████████████████████████████████████████████████████████████████████████████████████| 10/10 [00:08<00:00,  1.21it/s]"
     ]
    },
    {
     "name": "stdout",
     "output_type": "stream",
     "text": [
      "rmse: 0.202 ± 0.022\n",
      "r2: -0.106 ± 0.175\n",
      "accuracy: 0.837 ± 0.037\n",
      "f1: 0.535 ± 0.051\n",
      "precision: 0.606 ± 0.092\n",
      "recall: 0.543 ± 0.063\n"
     ]
    },
    {
     "name": "stderr",
     "output_type": "stream",
     "text": [
      "\n"
     ]
    }
   ],
   "source": [
    "print_accuracy(vocab, wc, labels, authority_to_vec2)"
   ]
  },
  {
   "cell_type": "code",
   "execution_count": null,
   "id": "e2c8724f",
   "metadata": {},
   "outputs": [],
   "source": []
  },
  {
   "cell_type": "code",
   "execution_count": null,
   "id": "603ef76e",
   "metadata": {},
   "outputs": [],
   "source": []
  },
  {
   "cell_type": "code",
   "execution_count": null,
   "id": "9f964ea9",
   "metadata": {},
   "outputs": [],
   "source": []
  }
 ],
 "metadata": {
  "kernelspec": {
   "display_name": "Python 3 (ipykernel)",
   "language": "python",
   "name": "python3"
  },
  "language_info": {
   "codemirror_mode": {
    "name": "ipython",
    "version": 3
   },
   "file_extension": ".py",
   "mimetype": "text/x-python",
   "name": "python",
   "nbconvert_exporter": "python",
   "pygments_lexer": "ipython3",
   "version": "3.9.7"
  }
 },
 "nbformat": 4,
 "nbformat_minor": 5
}
