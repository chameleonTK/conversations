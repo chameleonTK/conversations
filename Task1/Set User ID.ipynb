{
 "cells": [
  {
   "cell_type": "code",
   "execution_count": 1,
   "id": "f9b08f9a",
   "metadata": {},
   "outputs": [],
   "source": [
    "# import sys\n",
    "# sys.path.append('..')\n",
    "# import pandas as pd\n",
    "# from utils import load_jsonl, dump_jsonl\n",
    "# from utils import authority_to_eng, closeness_to_eng\n",
    "# import numpy as np"
   ]
  },
  {
   "cell_type": "code",
   "execution_count": 2,
   "id": "f8cea61e",
   "metadata": {},
   "outputs": [],
   "source": [
    "# in_dir = \"../Task1/\"\n",
    "# conversations = load_jsonl(f\"{in_dir}/annotated_conersations.jsonl\")"
   ]
  },
  {
   "cell_type": "code",
   "execution_count": 3,
   "id": "b275890a",
   "metadata": {},
   "outputs": [],
   "source": [
    "# for conv in conversations:\n",
    "#     print(\"ROOM ID\", conv[\"room_id\"])\n",
    "\n",
    "#     A = None\n",
    "#     for m in conv[\"messages\"]:\n",
    "#         if A is None:\n",
    "#             A = m[\"user_id\"]\n",
    "            \n",
    "#         if m[\"user_id\"]==A:\n",
    "#             print(m[\"user_id\"], m[\"text\"])\n",
    "#         else:\n",
    "#             print(\"                  \", m[\"user_id\"], m[\"text\"])\n",
    "        \n",
    "#     print(\"=======================\")"
   ]
  },
  {
   "cell_type": "code",
   "execution_count": null,
   "id": "48e10631",
   "metadata": {},
   "outputs": [],
   "source": []
  },
  {
   "cell_type": "code",
   "execution_count": 2,
   "id": "d5e6ca79-33b7-45c4-b99f-7586f961dce7",
   "metadata": {},
   "outputs": [],
   "source": [
    "import pandas as pd"
   ]
  },
  {
   "cell_type": "code",
   "execution_count": 3,
   "id": "47a6847c-cee1-4f8b-bd77-0811f812f3db",
   "metadata": {},
   "outputs": [],
   "source": [
    "labels = pd.read_csv(\"task1_labels.csv\")"
   ]
  },
  {
   "cell_type": "code",
   "execution_count": 4,
   "id": "a43d30bc-f55e-4e02-b131-5335d0e8aa41",
   "metadata": {},
   "outputs": [],
   "source": [
    "cols = {\n",
    "    \"room_id\": 'กรอก Room ID', \n",
    "    \"code\": 'กรอก Code', \n",
    "    \"img\":'อัปโหลดรูปที่แคปมา',\n",
    "    \"topic\":'หัวข้อสนทนา (Topic)',\n",
    "    \"relationship\":'คุณเรียกความสัมพันธ์นี้อย่างไร ? (How do you call your relationship ?)',\n",
    "    \"closeness\":'ให้คะแนนระดับความสนิทสนม ความไว้เนื้อเชื่อใจ (Closeness, Trust and Commitment)',\n",
    "    \"authority\":'ให้คะแนนระดับการให้เกียรติ การให้ความเคารพ (Authority,  and Respect)',\n",
    "    \"url\":'กรอกลิงค์บทสนากรุณากรอก url ในรูปแบบดังนี้ http://181.215.78.221:5000/chat_room/{ตัวเลขห้อง}',\n",
    "    \"ethics\" :\"'ยินยอมเงื่อนไขที่กล่าวมาข้างต้นหรือไม่ ?'\",\n",
    "}"
   ]
  },
  {
   "cell_type": "code",
   "execution_count": 14,
   "id": "3c11022c-d3df-43b7-9662-7f894f2b9bb9",
   "metadata": {},
   "outputs": [],
   "source": [
    "# import urllib.request\n",
    "# from tqdm import tqdm\n",
    "# import os\n",
    "\n",
    "# count = 0\n",
    "# for idx, row in tqdm(labels.iterrows(), total=len(labels)):\n",
    "#     try:\n",
    "#         url = row[cols[\"img\"]]\n",
    "#         roomid = row[cols[\"room_id\"]]\n",
    "#         if os.path.exists(f\"AttachedImages/room_{roomid}.png\"):\n",
    "#             continue\n",
    "#         count += 1\n",
    "# #         urls = url.split(\"https://\")\n",
    "# #         saved = False\n",
    "# #         for u in urls:\n",
    "# #             if not u.startswith(\"www\"):\n",
    "# #                 continue\n",
    "            \n",
    "# #             if u.endswith(\"/\"):\n",
    "# #                 u = u[0:-1]\n",
    "                \n",
    "# #             try:\n",
    "# #                 print(\"https://\"+u)\n",
    "# #                 urllib.request.urlretrieve(\"https://\"+u, f\"AttachedImages/room_{roomid}.png\")\n",
    "# #                 saved = True\n",
    "# #                 break\n",
    "# #             except:\n",
    "# #                 continue\n",
    "# #         if not saved:\n",
    "# #             print(\"Cannot save\", roomid)\n",
    "#     except:\n",
    "#         print(idx, row[cols[\"room_id\"]], row[cols[\"img\"]])\n",
    "        \n",
    "# # count/len(labels)"
   ]
  },
  {
   "cell_type": "code",
   "execution_count": null,
   "id": "a6c7afa7-35fe-49e4-a688-8e641c9f8ccc",
   "metadata": {},
   "outputs": [],
   "source": []
  },
  {
   "cell_type": "code",
   "execution_count": null,
   "id": "1872f3e3-cbbe-4c6e-9307-54b660656dc8",
   "metadata": {},
   "outputs": [],
   "source": []
  }
 ],
 "metadata": {
  "kernelspec": {
   "display_name": "Python 3 (ipykernel)",
   "language": "python",
   "name": "python3"
  },
  "language_info": {
   "codemirror_mode": {
    "name": "ipython",
    "version": 3
   },
   "file_extension": ".py",
   "mimetype": "text/x-python",
   "name": "python",
   "nbconvert_exporter": "python",
   "pygments_lexer": "ipython3",
   "version": "3.9.7"
  }
 },
 "nbformat": 4,
 "nbformat_minor": 5
}
