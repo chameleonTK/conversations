{
 "cells": [
  {
   "cell_type": "code",
   "execution_count": 2,
   "id": "90f61a72-1396-4c74-8558-f80b47a0a39b",
   "metadata": {},
   "outputs": [],
   "source": [
    "import sys\n",
    "sys.path.append('..')"
   ]
  },
  {
   "cell_type": "code",
   "execution_count": 3,
   "id": "a345ff0b",
   "metadata": {},
   "outputs": [],
   "source": [
    "from utils import dump_jsonl, load_jsonl"
   ]
  },
  {
   "cell_type": "code",
   "execution_count": null,
   "id": "f31ca940",
   "metadata": {},
   "outputs": [],
   "source": []
  },
  {
   "cell_type": "code",
   "execution_count": 4,
   "id": "0cfda23a",
   "metadata": {},
   "outputs": [],
   "source": [
    "import pandas as pd\n",
    "\n",
    "users = [\"user1\", \"user2\", \"user3\"]\n",
    "\n",
    "def authority_to_eng(label):\n",
    "    if label == 'B ให้เกียรติ':\n",
    "        return \"1. Respect\"\n",
    "    elif label == 'B ทำตัวปกติ':\n",
    "        return \"2. Normal\"\n",
    "    elif label == 'B ไม่ให้เกียรติกัน':\n",
    "        return \"3. Not respect\"\n",
    "    else:\n",
    "        return None\n",
    "\n",
    "def closeness_to_eng(label):\n",
    "    if label == 'สนิทกันมาก':\n",
    "        return \"1. Close\"\n",
    "    elif label == 'แค่คนรู้จักกัน':\n",
    "        return \"2. Know each other\"\n",
    "    elif label == 'ไม่รู้จักกัน':\n",
    "        return \"3. Don't know each other\"\n",
    "    elif label == 'ไม่ชอบหน้ากัน':\n",
    "        return \"4. Don't like each other\"\n",
    "    else:\n",
    "        return None\n",
    "    \n",
    "    \n",
    "def load_data(filename, column_name, fn=None):\n",
    "    annotated = load_jsonl(filename)\n",
    "    \n",
    "    _df = []\n",
    "    for row in annotated:\n",
    "        if len(row[\"label\"])==0:\n",
    "            label = None\n",
    "        else:\n",
    "            if fn is None:\n",
    "                label = row[\"label\"][0]\n",
    "            else:\n",
    "                label = fn(row[\"label\"][0])\n",
    "\n",
    "        _df.append({\n",
    "            \"text\": row[\"text\"],\n",
    "            \"tweet\": row[\"tweet\"],\n",
    "            column_name: label,\n",
    "#             f\"{column_name}_degree\": to_degree(label)\n",
    "        })\n",
    "    \n",
    "    return pd.DataFrame(_df)"
   ]
  },
  {
   "cell_type": "code",
   "execution_count": null,
   "id": "256ba3ae",
   "metadata": {},
   "outputs": [],
   "source": []
  },
  {
   "cell_type": "markdown",
   "id": "15a6bc89",
   "metadata": {},
   "source": [
    "## Closeness"
   ]
  },
  {
   "cell_type": "code",
   "execution_count": 5,
   "id": "0b6441c5",
   "metadata": {},
   "outputs": [
    {
     "name": "stdout",
     "output_type": "stream",
     "text": [
      "Loaded 1000 records from annotated/v1.0/closeness_1.0/user0.jsonl\n",
      "Loaded 1857 records from annotated/v2.0/closeness_2.0/user0.jsonl\n"
     ]
    }
   ],
   "source": [
    "clos_df = load_data(f\"annotated/v1.0/closeness_1.0/user0.jsonl\", \"closeness\")\n",
    "clos_df1 = clos_df[[\"text\", \"tweet\"]]\n",
    "clos_df = load_data(f\"annotated/v2.0/closeness_2.0/user0.jsonl\", \"closeness\")\n",
    "clos_df2 = clos_df[[\"text\", \"tweet\"]]\n",
    "clos_df = pd.concat([clos_df1, clos_df2])"
   ]
  },
  {
   "cell_type": "code",
   "execution_count": 6,
   "id": "fc519245",
   "metadata": {},
   "outputs": [
    {
     "data": {
      "text/plain": [
       "2817"
      ]
     },
     "execution_count": 6,
     "metadata": {},
     "output_type": "execute_result"
    }
   ],
   "source": [
    "clos_df = clos_df.drop_duplicates(subset=['text'])\n",
    "len(clos_df)"
   ]
  },
  {
   "cell_type": "code",
   "execution_count": 7,
   "id": "8a420021",
   "metadata": {},
   "outputs": [
    {
     "name": "stdout",
     "output_type": "stream",
     "text": [
      "Loaded 1000 records from annotated/v1.0/closeness_1.0/user1.jsonl\n",
      "Loaded 1857 records from annotated/v2.0/closeness_2.0/user1.jsonl\n",
      "2817\n",
      "Loaded 1000 records from annotated/v1.0/closeness_1.0/user2.jsonl\n",
      "Loaded 1857 records from annotated/v2.0/closeness_2.0/user2.jsonl\n",
      "2817\n",
      "Loaded 1000 records from annotated/v1.0/closeness_1.0/user3.jsonl\n",
      "Loaded 1857 records from annotated/v2.0/closeness_2.0/user3.jsonl\n",
      "2817\n"
     ]
    }
   ],
   "source": [
    "for uidx, u in enumerate(users):\n",
    "    df1 = load_data(f\"annotated/v1.0/closeness_1.0/{u}.jsonl\", \"closeness\", closeness_to_eng)\n",
    "    df1.columns = ['text', 'tweet', f'closeness_{uidx+1}']\n",
    "    \n",
    "    df2 = load_data(f\"annotated/v2.0/closeness_2.0/{u}.jsonl\", \"closeness\", closeness_to_eng)\n",
    "    df2.columns = ['text', 'tweet', f'closeness_{uidx+1}']\n",
    "    \n",
    "    df = pd.concat([df1, df2])\n",
    "    df = df.drop_duplicates(subset=['text'])\n",
    "    df = df[['tweet', f'closeness_{uidx+1}']]\n",
    "    \n",
    "    clos_df = pd.merge(clos_df, df, on=\"tweet\", how=\"left\")\n",
    "    print(len(clos_df))"
   ]
  },
  {
   "cell_type": "code",
   "execution_count": null,
   "id": "34d2bb69",
   "metadata": {},
   "outputs": [],
   "source": []
  },
  {
   "cell_type": "code",
   "execution_count": 8,
   "id": "ba594a1a",
   "metadata": {},
   "outputs": [],
   "source": [
    "data_type = []\n",
    "closeness = []\n",
    "\n",
    "for ridx, row in clos_df.iterrows():\n",
    "    if row[\"closeness_1\"]==row[\"closeness_2\"] and row[\"closeness_2\"]==row[\"closeness_3\"]:\n",
    "        data_type.append(\"gold\")\n",
    "        closeness.append(row[\"closeness_1\"])\n",
    "        \n",
    "    elif row[\"closeness_1\"]!=row[\"closeness_2\"] and row[\"closeness_2\"]!=row[\"closeness_3\"] and row[\"closeness_1\"]!=row[\"closeness_3\"]:\n",
    "        data_type.append(\"failed\")\n",
    "        closeness.append(None)\n",
    "    else:\n",
    "        data_type.append(\"silver\")\n",
    "        if row[\"closeness_1\"]==row[\"closeness_2\"]:\n",
    "            closeness.append(row[\"closeness_1\"])\n",
    "        elif row[\"closeness_1\"]==row[\"closeness_3\"]:\n",
    "            closeness.append(row[\"closeness_1\"])\n",
    "        elif row[\"closeness_2\"]==row[\"closeness_3\"]:\n",
    "            closeness.append(row[\"closeness_2\"])\n",
    "        else:\n",
    "            raise Exception(\"Unknow situation\")\n",
    "            \n",
    "clos_df[\"data_type\"] = data_type\n",
    "clos_df[\"closeness\"] = closeness\n",
    "            "
   ]
  },
  {
   "cell_type": "code",
   "execution_count": 9,
   "id": "ce86aab5",
   "metadata": {},
   "outputs": [],
   "source": [
    "# clos_df"
   ]
  },
  {
   "cell_type": "code",
   "execution_count": 10,
   "id": "c3d7db02",
   "metadata": {},
   "outputs": [
    {
     "data": {
      "text/html": [
       "<div>\n",
       "<style scoped>\n",
       "    .dataframe tbody tr th:only-of-type {\n",
       "        vertical-align: middle;\n",
       "    }\n",
       "\n",
       "    .dataframe tbody tr th {\n",
       "        vertical-align: top;\n",
       "    }\n",
       "\n",
       "    .dataframe thead th {\n",
       "        text-align: right;\n",
       "    }\n",
       "</style>\n",
       "<table border=\"1\" class=\"dataframe\">\n",
       "  <thead>\n",
       "    <tr style=\"text-align: right;\">\n",
       "      <th></th>\n",
       "      <th>text</th>\n",
       "    </tr>\n",
       "    <tr>\n",
       "      <th>data_type</th>\n",
       "      <th></th>\n",
       "    </tr>\n",
       "  </thead>\n",
       "  <tbody>\n",
       "    <tr>\n",
       "      <th>failed</th>\n",
       "      <td>435</td>\n",
       "    </tr>\n",
       "    <tr>\n",
       "      <th>gold</th>\n",
       "      <td>1189</td>\n",
       "    </tr>\n",
       "    <tr>\n",
       "      <th>silver</th>\n",
       "      <td>1193</td>\n",
       "    </tr>\n",
       "  </tbody>\n",
       "</table>\n",
       "</div>"
      ],
      "text/plain": [
       "           text\n",
       "data_type      \n",
       "failed      435\n",
       "gold       1189\n",
       "silver     1193"
      ]
     },
     "execution_count": 10,
     "metadata": {},
     "output_type": "execute_result"
    }
   ],
   "source": [
    "clos_df[[\"text\", \"data_type\"]].groupby(\"data_type\").count()"
   ]
  },
  {
   "cell_type": "code",
   "execution_count": 11,
   "id": "f4bd429c",
   "metadata": {},
   "outputs": [],
   "source": [
    "# clos_df[clos_df[\"data_type\"]==\"failed\"]"
   ]
  },
  {
   "cell_type": "code",
   "execution_count": 12,
   "id": "91b03259",
   "metadata": {},
   "outputs": [],
   "source": [
    "# print(clos_df.iloc[999][\"text\"])"
   ]
  },
  {
   "cell_type": "code",
   "execution_count": 13,
   "id": "fb1c309a",
   "metadata": {},
   "outputs": [
    {
     "name": "stdout",
     "output_type": "stream",
     "text": [
      "Usable Records: 2382\n"
     ]
    }
   ],
   "source": [
    "print(\"Usable Records:\", len(clos_df[clos_df[\"data_type\"]!=\"failed\"]))"
   ]
  },
  {
   "cell_type": "code",
   "execution_count": 14,
   "id": "3fee0c77",
   "metadata": {},
   "outputs": [
    {
     "data": {
      "text/plain": [
       "<AxesSubplot:>"
      ]
     },
     "execution_count": 14,
     "metadata": {},
     "output_type": "execute_result"
    },
    {
     "data": {
      "image/png": "[encoded data removed]",
      "text/plain": [
       "<Figure size 432x288 with 1 Axes>"
      ]
     },
     "metadata": {
      "needs_background": "light"
     },
     "output_type": "display_data"
    }
   ],
   "source": [
    "clos_df[\"closeness\"].hist(xrot=45)"
   ]
  },
  {
   "cell_type": "code",
   "execution_count": 15,
   "id": "00432fba-e92a-45e0-88cb-40bd29aa8a0b",
   "metadata": {},
   "outputs": [
    {
     "data": {
      "text/html": [
       "<div>\n",
       "<style scoped>\n",
       "    .dataframe tbody tr th:only-of-type {\n",
       "        vertical-align: middle;\n",
       "    }\n",
       "\n",
       "    .dataframe tbody tr th {\n",
       "        vertical-align: top;\n",
       "    }\n",
       "\n",
       "    .dataframe thead th {\n",
       "        text-align: right;\n",
       "    }\n",
       "</style>\n",
       "<table border=\"1\" class=\"dataframe\">\n",
       "  <thead>\n",
       "    <tr style=\"text-align: right;\">\n",
       "      <th></th>\n",
       "      <th>text</th>\n",
       "    </tr>\n",
       "    <tr>\n",
       "      <th>closeness</th>\n",
       "      <th></th>\n",
       "    </tr>\n",
       "  </thead>\n",
       "  <tbody>\n",
       "    <tr>\n",
       "      <th>1. Close</th>\n",
       "      <td>222</td>\n",
       "    </tr>\n",
       "    <tr>\n",
       "      <th>2. Know each other</th>\n",
       "      <td>158</td>\n",
       "    </tr>\n",
       "    <tr>\n",
       "      <th>3. Don't know each other</th>\n",
       "      <td>1487</td>\n",
       "    </tr>\n",
       "    <tr>\n",
       "      <th>4. Don't like each other</th>\n",
       "      <td>257</td>\n",
       "    </tr>\n",
       "  </tbody>\n",
       "</table>\n",
       "</div>"
      ],
      "text/plain": [
       "                          text\n",
       "closeness                     \n",
       "1. Close                   222\n",
       "2. Know each other         158\n",
       "3. Don't know each other  1487\n",
       "4. Don't like each other   257"
      ]
     },
     "execution_count": 15,
     "metadata": {},
     "output_type": "execute_result"
    }
   ],
   "source": [
    "clos_df[[\"text\", \"closeness\"]].groupby(\"closeness\").count()"
   ]
  },
  {
   "cell_type": "code",
   "execution_count": null,
   "id": "22517fc8",
   "metadata": {},
   "outputs": [],
   "source": []
  },
  {
   "cell_type": "markdown",
   "id": "23dc2c27",
   "metadata": {},
   "source": [
    "## Authority"
   ]
  },
  {
   "cell_type": "code",
   "execution_count": 16,
   "id": "f029b40d",
   "metadata": {},
   "outputs": [
    {
     "name": "stdout",
     "output_type": "stream",
     "text": [
      "Loaded 1000 records from annotated/v1.0/authority_1.0/user0.jsonl\n",
      "Loaded 1857 records from annotated/v2.0/authority_2.0/user0.jsonl\n"
     ]
    }
   ],
   "source": [
    "auth_df = load_data(f\"annotated/v1.0/authority_1.0/user0.jsonl\", \"authority\")\n",
    "auth_df1 = auth_df[[\"text\", \"tweet\"]]\n",
    "\n",
    "auth_df = load_data(f\"annotated/v2.0/authority_2.0/user0.jsonl\", \"authority\")\n",
    "auth_df2 = auth_df[[\"text\", \"tweet\"]]\n",
    "\n",
    "\n",
    "auth_df = pd.concat([auth_df1, auth_df2])"
   ]
  },
  {
   "cell_type": "code",
   "execution_count": 17,
   "id": "789c3026-d772-46e7-9db7-1c7ad3f6269e",
   "metadata": {},
   "outputs": [
    {
     "data": {
      "text/plain": [
       "2817"
      ]
     },
     "execution_count": 17,
     "metadata": {},
     "output_type": "execute_result"
    }
   ],
   "source": [
    "auth_df = auth_df.drop_duplicates(subset=['text'])\n",
    "len(auth_df)"
   ]
  },
  {
   "cell_type": "code",
   "execution_count": 18,
   "id": "df8d1c9e-1b3f-4573-8158-a13416de64f1",
   "metadata": {},
   "outputs": [
    {
     "name": "stdout",
     "output_type": "stream",
     "text": [
      "Loaded 1000 records from annotated/v1.0/authority_1.0/user1.jsonl\n",
      "Loaded 1857 records from annotated/v2.0/authority_2.0/user1.jsonl\n",
      "2817\n",
      "Loaded 1000 records from annotated/v1.0/authority_1.0/user2.jsonl\n",
      "Loaded 1857 records from annotated/v2.0/authority_2.0/user2.jsonl\n",
      "2817\n",
      "Loaded 1000 records from annotated/v1.0/authority_1.0/user3.jsonl\n",
      "Loaded 1857 records from annotated/v2.0/authority_2.0/user3.jsonl\n",
      "2817\n"
     ]
    }
   ],
   "source": [
    "for uidx, u in enumerate(['user1', 'user2', 'user3']):\n",
    "    df1 = load_data(f\"annotated/v1.0/authority_1.0/{u}.jsonl\", \"authority\", authority_to_eng)\n",
    "    df1.columns = ['text', 'tweet', f'authority_{uidx+1}']\n",
    "    \n",
    "    df2 = load_data(f\"annotated/v2.0/authority_2.0/{u}.jsonl\", \"authority\", authority_to_eng)\n",
    "    df2.columns = ['text', 'tweet', f'authority_{uidx+1}']\n",
    "    \n",
    "    df = pd.concat([df1, df2])\n",
    "    df = df.drop_duplicates(subset=['text'])\n",
    "    df = df[['tweet', f'authority_{uidx+1}']]\n",
    "    \n",
    "    auth_df = pd.merge(auth_df, df, on=\"tweet\", how=\"left\")\n",
    "    print(len(auth_df))"
   ]
  },
  {
   "cell_type": "code",
   "execution_count": 44,
   "id": "43af8a48",
   "metadata": {},
   "outputs": [],
   "source": [
    "# auth_df.count()"
   ]
  },
  {
   "cell_type": "code",
   "execution_count": 20,
   "id": "a8ef8cd2",
   "metadata": {},
   "outputs": [],
   "source": [
    "data_type = []\n",
    "authority = []\n",
    "\n",
    "for ridx, row in auth_df.iterrows():\n",
    "    if row[\"authority_1\"]==row[\"authority_2\"] and row[\"authority_2\"]==row[\"authority_3\"]:\n",
    "        data_type.append(\"gold\")\n",
    "        authority.append(row[\"authority_1\"])\n",
    "    elif row[\"authority_1\"]!=row[\"authority_2\"] and row[\"authority_2\"]!=row[\"authority_3\"] and row[\"authority_1\"]!=row[\"authority_3\"]:\n",
    "        data_type.append(\"failed\")\n",
    "        authority.append(None)\n",
    "    else:\n",
    "        data_type.append(\"silver\")\n",
    "        if row[\"authority_1\"]==row[\"authority_2\"]:\n",
    "            authority.append(row[\"authority_1\"])\n",
    "        elif row[\"authority_1\"]==row[\"authority_3\"]:\n",
    "            authority.append(row[\"authority_1\"])\n",
    "        elif row[\"authority_2\"]==row[\"authority_3\"]:\n",
    "            authority.append(row[\"authority_2\"])\n",
    "        else:\n",
    "            print(row)\n",
    "            raise Exception(\"Unknow situation\")\n",
    "            \n",
    "auth_df[\"data_type\"] = data_type\n",
    "auth_df[\"authority\"] = authority\n",
    "            "
   ]
  },
  {
   "cell_type": "code",
   "execution_count": 21,
   "id": "e8364afb",
   "metadata": {},
   "outputs": [
    {
     "data": {
      "text/html": [
       "<div>\n",
       "<style scoped>\n",
       "    .dataframe tbody tr th:only-of-type {\n",
       "        vertical-align: middle;\n",
       "    }\n",
       "\n",
       "    .dataframe tbody tr th {\n",
       "        vertical-align: top;\n",
       "    }\n",
       "\n",
       "    .dataframe thead th {\n",
       "        text-align: right;\n",
       "    }\n",
       "</style>\n",
       "<table border=\"1\" class=\"dataframe\">\n",
       "  <thead>\n",
       "    <tr style=\"text-align: right;\">\n",
       "      <th></th>\n",
       "      <th>text</th>\n",
       "    </tr>\n",
       "    <tr>\n",
       "      <th>data_type</th>\n",
       "      <th></th>\n",
       "    </tr>\n",
       "  </thead>\n",
       "  <tbody>\n",
       "    <tr>\n",
       "      <th>failed</th>\n",
       "      <td>500</td>\n",
       "    </tr>\n",
       "    <tr>\n",
       "      <th>gold</th>\n",
       "      <td>313</td>\n",
       "    </tr>\n",
       "    <tr>\n",
       "      <th>silver</th>\n",
       "      <td>2004</td>\n",
       "    </tr>\n",
       "  </tbody>\n",
       "</table>\n",
       "</div>"
      ],
      "text/plain": [
       "           text\n",
       "data_type      \n",
       "failed      500\n",
       "gold        313\n",
       "silver     2004"
      ]
     },
     "execution_count": 21,
     "metadata": {},
     "output_type": "execute_result"
    }
   ],
   "source": [
    "auth_df[[\"text\", \"data_type\"]].groupby(\"data_type\").count()"
   ]
  },
  {
   "cell_type": "code",
   "execution_count": 22,
   "id": "a22a5656",
   "metadata": {},
   "outputs": [
    {
     "data": {
      "text/plain": [
       "<AxesSubplot:>"
      ]
     },
     "execution_count": 22,
     "metadata": {},
     "output_type": "execute_result"
    },
    {
     "data": {
      "image/png": "[encoded data removed]",
      "text/plain": [
       "<Figure size 432x288 with 1 Axes>"
      ]
     },
     "metadata": {
      "needs_background": "light"
     },
     "output_type": "display_data"
    }
   ],
   "source": [
    "auth_df[\"authority\"].hist(xrot=45)"
   ]
  },
  {
   "cell_type": "code",
   "execution_count": 23,
   "id": "149694c7-340f-4779-ab5c-340730753658",
   "metadata": {},
   "outputs": [
    {
     "data": {
      "text/html": [
       "<div>\n",
       "<style scoped>\n",
       "    .dataframe tbody tr th:only-of-type {\n",
       "        vertical-align: middle;\n",
       "    }\n",
       "\n",
       "    .dataframe tbody tr th {\n",
       "        vertical-align: top;\n",
       "    }\n",
       "\n",
       "    .dataframe thead th {\n",
       "        text-align: right;\n",
       "    }\n",
       "</style>\n",
       "<table border=\"1\" class=\"dataframe\">\n",
       "  <thead>\n",
       "    <tr style=\"text-align: right;\">\n",
       "      <th></th>\n",
       "      <th>text</th>\n",
       "    </tr>\n",
       "    <tr>\n",
       "      <th>authority</th>\n",
       "      <th></th>\n",
       "    </tr>\n",
       "  </thead>\n",
       "  <tbody>\n",
       "    <tr>\n",
       "      <th>1. Respect</th>\n",
       "      <td>303</td>\n",
       "    </tr>\n",
       "    <tr>\n",
       "      <th>2. Normal</th>\n",
       "      <td>1403</td>\n",
       "    </tr>\n",
       "    <tr>\n",
       "      <th>3. Not respect</th>\n",
       "      <td>346</td>\n",
       "    </tr>\n",
       "  </tbody>\n",
       "</table>\n",
       "</div>"
      ],
      "text/plain": [
       "                text\n",
       "authority           \n",
       "1. Respect       303\n",
       "2. Normal       1403\n",
       "3. Not respect   346"
      ]
     },
     "execution_count": 23,
     "metadata": {},
     "output_type": "execute_result"
    }
   ],
   "source": [
    "auth_df[[\"text\", \"authority\"]].groupby(\"authority\").count()"
   ]
  },
  {
   "cell_type": "code",
   "execution_count": null,
   "id": "ae571e75",
   "metadata": {},
   "outputs": [],
   "source": []
  },
  {
   "cell_type": "code",
   "execution_count": 24,
   "id": "fb51575a",
   "metadata": {},
   "outputs": [],
   "source": [
    "# auth_df"
   ]
  },
  {
   "cell_type": "markdown",
   "id": "d3e629df-5a26-4c30-a442-1af143baab30",
   "metadata": {},
   "source": [
    "## Export"
   ]
  },
  {
   "cell_type": "code",
   "execution_count": null,
   "id": "eca6e2d8-b83b-4705-89bd-4a765f3941ff",
   "metadata": {},
   "outputs": [],
   "source": []
  },
  {
   "cell_type": "code",
   "execution_count": 25,
   "id": "a17f917f-ce83-47ab-91ad-f7c6b16aed1e",
   "metadata": {},
   "outputs": [],
   "source": [
    "A = clos_df[['text', 'tweet', 'closeness_1', 'closeness_2', 'closeness_3', 'closeness']]\n",
    "B = auth_df[['tweet', 'authority_1', 'authority_2', 'authority_3', 'authority']]"
   ]
  },
  {
   "cell_type": "code",
   "execution_count": 26,
   "id": "ac55f2e7-a2af-45dc-a3b1-72140f039fb4",
   "metadata": {},
   "outputs": [],
   "source": [
    "M = pd.merge(A, B, on=\"tweet\")"
   ]
  },
  {
   "cell_type": "code",
   "execution_count": 27,
   "id": "9d87bbd0",
   "metadata": {},
   "outputs": [
    {
     "data": {
      "text/plain": [
       "2817"
      ]
     },
     "execution_count": 27,
     "metadata": {},
     "output_type": "execute_result"
    }
   ],
   "source": [
    "len(M)"
   ]
  },
  {
   "cell_type": "code",
   "execution_count": null,
   "id": "87fd7d19-59cc-4d9a-9052-b4cf01a38c96",
   "metadata": {},
   "outputs": [],
   "source": []
  },
  {
   "cell_type": "code",
   "execution_count": 32,
   "id": "57d6d47a-f0b7-45a8-a73f-685ac7d9056c",
   "metadata": {},
   "outputs": [
    {
     "name": "stdout",
     "output_type": "stream",
     "text": [
      "Loaded 2907 records from unannotated/v1_unannotated.jsonl\n"
     ]
    }
   ],
   "source": [
    "raw_data = load_jsonl(\"unannotated/v1_unannotated.jsonl\")"
   ]
  },
  {
   "cell_type": "code",
   "execution_count": 33,
   "id": "fcebbe0b-6b42-4d44-a4cb-1a9a4f74f5b1",
   "metadata": {},
   "outputs": [],
   "source": [
    "annotated = []\n",
    "for row in raw_data:\n",
    "    cnt = M[M[\"tweet\"]==row[\"tweet\"]]\n",
    "    if len(cnt)<=0:\n",
    "        continue\n",
    "    \n",
    "    d = cnt.iloc[0].to_dict()\n",
    "    for key in d:\n",
    "        row[key] = d[key]\n",
    "    \n",
    "    if row[\"closeness\"] is None and row[\"authority\"] is None:\n",
    "        continue\n",
    "\n",
    "    annotated.append(row)"
   ]
  },
  {
   "cell_type": "code",
   "execution_count": 34,
   "id": "454eb0e7-0ee4-4cb3-b9e7-5db00a69c240",
   "metadata": {},
   "outputs": [
    {
     "name": "stdout",
     "output_type": "stream",
     "text": [
      "Wrote 2463 records to ./annotated/annotated.jsonl\n"
     ]
    }
   ],
   "source": [
    "dump_jsonl(\"./annotated/annotated.jsonl\", annotated)"
   ]
  },
  {
   "cell_type": "code",
   "execution_count": 35,
   "id": "c4cbb165-9c99-4e7f-8083-cc470b4cddb1",
   "metadata": {},
   "outputs": [],
   "source": [
    "d = pd.DataFrame(annotated)"
   ]
  },
  {
   "cell_type": "code",
   "execution_count": 36,
   "id": "44bdefe5-2fb0-417f-9b89-e29f193ee649",
   "metadata": {},
   "outputs": [],
   "source": [
    "# d = d.dropna(subset=[\"closeness\", \"authority\"], how=\"all\")"
   ]
  },
  {
   "cell_type": "code",
   "execution_count": 38,
   "id": "e8b690ae",
   "metadata": {},
   "outputs": [
    {
     "data": {
      "text/plain": [
       "text              2463\n",
       "label             2463\n",
       "conersation_id    2463\n",
       "messages          2463\n",
       "tweet             2463\n",
       "closeness_1       2421\n",
       "closeness_2       1736\n",
       "closeness_3       2437\n",
       "closeness         2124\n",
       "authority_1        972\n",
       "authority_2       2445\n",
       "authority_3       1651\n",
       "authority         2052\n",
       "dtype: int64"
      ]
     },
     "execution_count": 38,
     "metadata": {},
     "output_type": "execute_result"
    }
   ],
   "source": [
    "d.count()"
   ]
  },
  {
   "cell_type": "code",
   "execution_count": null,
   "id": "b4aa19ef",
   "metadata": {},
   "outputs": [],
   "source": []
  },
  {
   "cell_type": "code",
   "execution_count": null,
   "id": "293c078a",
   "metadata": {},
   "outputs": [],
   "source": []
  },
  {
   "cell_type": "code",
   "execution_count": null,
   "id": "3ec96224",
   "metadata": {},
   "outputs": [],
   "source": []
  }
 ],
 "metadata": {
  "kernelspec": {
   "display_name": "Python 3 (ipykernel)",
   "language": "python",
   "name": "python3"
  },
  "language_info": {
   "codemirror_mode": {
    "name": "ipython",
    "version": 3
   },
   "file_extension": ".py",
   "mimetype": "text/x-python",
   "name": "python",
   "nbconvert_exporter": "python",
   "pygments_lexer": "ipython3",
   "version": "3.9.7"
  }
 },
 "nbformat": 4,
 "nbformat_minor": 5
}
