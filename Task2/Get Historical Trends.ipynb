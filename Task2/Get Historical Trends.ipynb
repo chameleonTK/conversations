{
 "cells": [
  {
   "cell_type": "code",
   "execution_count": 1,
   "id": "d8f75ab8",
   "metadata": {},
   "outputs": [],
   "source": [
    "import requests"
   ]
  },
  {
   "cell_type": "code",
   "execution_count": 2,
   "id": "71a5fdab",
   "metadata": {},
   "outputs": [],
   "source": [
    "import json\n",
    "\n",
    "def dump_jsonl(data, output_path, append=False, progress=False):\n",
    "    \"\"\"\n",
    "    Write list of objects to a JSON lines file.\n",
    "    \"\"\"\n",
    "    mode = 'a+' if append else 'w'\n",
    "    with open(output_path, mode, encoding='utf-8') as f:\n",
    "        if progress:\n",
    "            data = tqdm(data)\n",
    "            \n",
    "        for line in data:\n",
    "            json_record = json.dumps(line, ensure_ascii=False)\n",
    "            f.write(json_record + '\\n')\n",
    "    print('Wrote {} records to {}'.format(len(data), output_path))\n",
    "\n",
    "def load_jsonl(input_path, progress=False) -> list:\n",
    "    \"\"\"\n",
    "    Read list of objects from a JSON lines file.\n",
    "    \"\"\"\n",
    "    data = []\n",
    "    with open(input_path, 'r', encoding='utf-8') as f:\n",
    "        if progress:\n",
    "            f = tqdm(f)\n",
    "            \n",
    "        for line in f:\n",
    "                data.append(json.loads(line.rstrip('\\n|\\r')))\n",
    "            \n",
    "    print('Loaded {} records from {}'.format(len(data), input_path))\n",
    "    return data\n"
   ]
  },
  {
   "cell_type": "code",
   "execution_count": 3,
   "id": "6cc29d32",
   "metadata": {},
   "outputs": [],
   "source": [
    "def get_hashtags(date, hour=9):\n",
    "    resp = requests.get(f\"https://api.exportdata.io/trends/locations/th?date={date}&hour={hour}\")\n",
    "    return resp.json()"
   ]
  },
  {
   "cell_type": "code",
   "execution_count": null,
   "id": "d3597454",
   "metadata": {},
   "outputs": [],
   "source": []
  },
  {
   "cell_type": "code",
   "execution_count": 4,
   "id": "75473dda",
   "metadata": {},
   "outputs": [],
   "source": [
    "# import datetime\n",
    "# import time\n",
    "# from tqdm import tqdm\n",
    "# twitterTrands = []\n",
    "# base = datetime.datetime.today()\n",
    "# numdays = 365\n",
    "\n",
    "\n",
    "# for d in tqdm(range(numdays), total=numdays):\n",
    "#     for h in range(24):\n",
    "#         newdate = base - datetime.timedelta(days=d)\n",
    "#         date = newdate.strftime(\"%Y-%m-%d\")\n",
    "#         hour = h\n",
    "#         resp = get_hashtags(date, hour)\n",
    "\n",
    "#         twitterTrands.append({\n",
    "#             \"date\": date,\n",
    "#             \"hour\": hour,\n",
    "#             \"trends\": resp\n",
    "#         })\n",
    "#         time.sleep(0.01)"
   ]
  },
  {
   "cell_type": "code",
   "execution_count": null,
   "id": "74b06baf",
   "metadata": {},
   "outputs": [],
   "source": []
  },
  {
   "cell_type": "code",
   "execution_count": null,
   "id": "e88d18b9",
   "metadata": {},
   "outputs": [],
   "source": []
  },
  {
   "cell_type": "code",
   "execution_count": null,
   "id": "fcb1c033",
   "metadata": {},
   "outputs": [],
   "source": []
  },
  {
   "cell_type": "code",
   "execution_count": null,
   "id": "ba716285",
   "metadata": {},
   "outputs": [],
   "source": []
  },
  {
   "cell_type": "code",
   "execution_count": 5,
   "id": "e7d9640a",
   "metadata": {},
   "outputs": [],
   "source": [
    "# dump_jsonl(twitterTrands, \"twitter_trends_v2.jsonl\")"
   ]
  },
  {
   "cell_type": "code",
   "execution_count": 6,
   "id": "fbbe2056",
   "metadata": {},
   "outputs": [
    {
     "name": "stdout",
     "output_type": "stream",
     "text": [
      "Loaded 8760 records from twitter_trends_v2.jsonl\n"
     ]
    }
   ],
   "source": [
    "twitterTrands = load_jsonl(\"twitter_trends_v2.jsonl\")"
   ]
  },
  {
   "cell_type": "code",
   "execution_count": 7,
   "id": "b6f20bc1",
   "metadata": {},
   "outputs": [],
   "source": [
    "from collections import defaultdict\n",
    "\n",
    "allTrends = defaultdict(list)\n",
    "cntTweets = defaultdict(int)\n",
    "for d in twitterTrands:\n",
    "    for trend in d[\"trends\"]:\n",
    "        if trend[\"tweet_volume\"] is None:\n",
    "            continue\n",
    "            \n",
    "        allTrends[trend[\"name\"]].append(d[\"date\"])\n",
    "        cntTweets[trend[\"name\"]] += trend[\"tweet_volume\"]\n"
   ]
  },
  {
   "cell_type": "code",
   "execution_count": 8,
   "id": "147aff9b",
   "metadata": {},
   "outputs": [],
   "source": [
    "from datetime import datetime\n",
    "\n",
    "trendTime = {}\n",
    "duration = []\n",
    "for trend in allTrends:\n",
    "    mn, mx = min(allTrends[trend]), max(allTrends[trend])\n",
    "    delta = datetime.strptime(mx, \"%Y-%m-%d\") - datetime.strptime(mn, \"%Y-%m-%d\")\n",
    "    trendTime[trend] = {\n",
    "        \"min\": mn,\n",
    "        \"max\": mx,\n",
    "        \"duration\": delta.days,\n",
    "        \"len\": len(allTrends[trend])\n",
    "    }\n",
    "    \n",
    "    duration.append(delta.days)"
   ]
  },
  {
   "cell_type": "code",
   "execution_count": 9,
   "id": "51464bcb",
   "metadata": {},
   "outputs": [
    {
     "data": {
      "text/html": [
       "<div>\n",
       "<style scoped>\n",
       "    .dataframe tbody tr th:only-of-type {\n",
       "        vertical-align: middle;\n",
       "    }\n",
       "\n",
       "    .dataframe tbody tr th {\n",
       "        vertical-align: top;\n",
       "    }\n",
       "\n",
       "    .dataframe thead th {\n",
       "        text-align: right;\n",
       "    }\n",
       "</style>\n",
       "<table border=\"1\" class=\"dataframe\">\n",
       "  <thead>\n",
       "    <tr style=\"text-align: right;\">\n",
       "      <th></th>\n",
       "      <th>0</th>\n",
       "    </tr>\n",
       "  </thead>\n",
       "  <tbody>\n",
       "    <tr>\n",
       "      <th>count</th>\n",
       "      <td>14034.00000</td>\n",
       "    </tr>\n",
       "    <tr>\n",
       "      <th>mean</th>\n",
       "      <td>1336191.92848</td>\n",
       "    </tr>\n",
       "    <tr>\n",
       "      <th>std</th>\n",
       "      <td>3146674.50826</td>\n",
       "    </tr>\n",
       "    <tr>\n",
       "      <th>min</th>\n",
       "      <td>85.80333</td>\n",
       "    </tr>\n",
       "    <tr>\n",
       "      <th>25%</th>\n",
       "      <td>101667.67391</td>\n",
       "    </tr>\n",
       "    <tr>\n",
       "      <th>50%</th>\n",
       "      <td>394144.00000</td>\n",
       "    </tr>\n",
       "    <tr>\n",
       "      <th>75%</th>\n",
       "      <td>1225557.25000</td>\n",
       "    </tr>\n",
       "    <tr>\n",
       "      <th>max</th>\n",
       "      <td>81393354.00000</td>\n",
       "    </tr>\n",
       "  </tbody>\n",
       "</table>\n",
       "</div>"
      ],
      "text/plain": [
       "                   0\n",
       "count    14034.00000\n",
       "mean   1336191.92848\n",
       "std    3146674.50826\n",
       "min         85.80333\n",
       "25%     101667.67391\n",
       "50%     394144.00000\n",
       "75%    1225557.25000\n",
       "max   81393354.00000"
      ]
     },
     "execution_count": 9,
     "metadata": {},
     "output_type": "execute_result"
    }
   ],
   "source": [
    "# Number of tweets from a hashtag\n",
    "\n",
    "import pandas as pd\n",
    "pd.set_option('display.float_format', lambda x: '%.5f' % x)\n",
    "df_describe = pd.DataFrame([cntTweets[t]/trendTime[t][\"duration\"] for t in cntTweets if trendTime[t][\"duration\"]>0])\n",
    "df_describe.describe()"
   ]
  },
  {
   "cell_type": "code",
   "execution_count": 10,
   "id": "9b43b2cd",
   "metadata": {},
   "outputs": [
    {
     "data": {
      "text/html": [
       "<div>\n",
       "<style scoped>\n",
       "    .dataframe tbody tr th:only-of-type {\n",
       "        vertical-align: middle;\n",
       "    }\n",
       "\n",
       "    .dataframe tbody tr th {\n",
       "        vertical-align: top;\n",
       "    }\n",
       "\n",
       "    .dataframe thead th {\n",
       "        text-align: right;\n",
       "    }\n",
       "</style>\n",
       "<table border=\"1\" class=\"dataframe\">\n",
       "  <thead>\n",
       "    <tr style=\"text-align: right;\">\n",
       "      <th></th>\n",
       "      <th>0</th>\n",
       "    </tr>\n",
       "  </thead>\n",
       "  <tbody>\n",
       "    <tr>\n",
       "      <th>count</th>\n",
       "      <td>14034.00000</td>\n",
       "    </tr>\n",
       "    <tr>\n",
       "      <th>mean</th>\n",
       "      <td>32.14351</td>\n",
       "    </tr>\n",
       "    <tr>\n",
       "      <th>std</th>\n",
       "      <td>78.82228</td>\n",
       "    </tr>\n",
       "    <tr>\n",
       "      <th>min</th>\n",
       "      <td>1.00000</td>\n",
       "    </tr>\n",
       "    <tr>\n",
       "      <th>25%</th>\n",
       "      <td>1.00000</td>\n",
       "    </tr>\n",
       "    <tr>\n",
       "      <th>50%</th>\n",
       "      <td>1.00000</td>\n",
       "    </tr>\n",
       "    <tr>\n",
       "      <th>75%</th>\n",
       "      <td>3.75000</td>\n",
       "    </tr>\n",
       "    <tr>\n",
       "      <th>max</th>\n",
       "      <td>364.00000</td>\n",
       "    </tr>\n",
       "  </tbody>\n",
       "</table>\n",
       "</div>"
      ],
      "text/plain": [
       "                0\n",
       "count 14034.00000\n",
       "mean     32.14351\n",
       "std      78.82228\n",
       "min       1.00000\n",
       "25%       1.00000\n",
       "50%       1.00000\n",
       "75%       3.75000\n",
       "max     364.00000"
      ]
     },
     "execution_count": 10,
     "metadata": {},
     "output_type": "execute_result"
    }
   ],
   "source": [
    "# How long a tweet is trendy\n",
    "import pandas as pd\n",
    "\n",
    "df_describe = pd.DataFrame([d for d in duration if d>0])\n",
    "df_describe.describe()"
   ]
  },
  {
   "cell_type": "code",
   "execution_count": null,
   "id": "1aafa029",
   "metadata": {},
   "outputs": [],
   "source": [
    "import matplotlib.pyplot as plt\n",
    "import numpy as np\n",
    "\n",
    "_ = plt.hist([d for d in duration if d>0], bins=100)  # arguments are passed to np.histogram\n",
    "plt.title(\"Histogram with 'auto' bins\")\n",
    "plt.show()"
   ]
  },
  {
   "cell_type": "code",
   "execution_count": null,
   "id": "3ce8e279",
   "metadata": {},
   "outputs": [],
   "source": [
    "hashtags = []\n",
    "for trend in trendTime:\n",
    "    if trendTime[trend][\"duration\"] >= 2 and trendTime[trend][\"duration\"] < 78 and trend[0].startswith(\"#\"):\n",
    "        if cntTweets[trend]/trendTime[trend][\"len\"] > 60000:\n",
    "#         if trendTime[trend][\"len\"] > 0.4*trendTime[trend][\"duration\"]:\n",
    "#             print(trend)\n",
    "            hashtags.append((trend, trendTime[trend][\"duration\"], cntTweets[trend]/trendTime[trend][\"len\"]))\n",
    "len(hashtags)"
   ]
  },
  {
   "cell_type": "code",
   "execution_count": null,
   "id": "84373170",
   "metadata": {},
   "outputs": [],
   "source": [
    "hashtags[0:100]"
   ]
  },
  {
   "cell_type": "code",
   "execution_count": null,
   "id": "97ce0514",
   "metadata": {},
   "outputs": [],
   "source": []
  },
  {
   "cell_type": "code",
   "execution_count": null,
   "id": "c8d67921",
   "metadata": {},
   "outputs": [],
   "source": []
  }
 ],
 "metadata": {
  "kernelspec": {
   "display_name": "Python 3 (ipykernel)",
   "language": "python",
   "name": "python3"
  },
  "language_info": {
   "codemirror_mode": {
    "name": "ipython",
    "version": 3
   },
   "file_extension": ".py",
   "mimetype": "text/x-python",
   "name": "python",
   "nbconvert_exporter": "python",
   "pygments_lexer": "ipython3",
   "version": "3.9.7"
  }
 },
 "nbformat": 4,
 "nbformat_minor": 5
}
