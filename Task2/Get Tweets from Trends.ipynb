{
 "cells": [
  {
   "cell_type": "code",
   "execution_count": 1,
   "id": "a6d93813",
   "metadata": {},
   "outputs": [],
   "source": [
    "import requests"
   ]
  },
  {
   "cell_type": "code",
   "execution_count": 2,
   "id": "66913d1c-503f-4c9f-9eae-cfc895ca8f2b",
   "metadata": {},
   "outputs": [],
   "source": [
    "import sys\n",
    "sys.path.append('..')"
   ]
  },
  {
   "cell_type": "code",
   "execution_count": 4,
   "id": "e712b52c-614a-4556-a481-f0bc80b55945",
   "metadata": {},
   "outputs": [],
   "source": [
    "from utils import dump_jsonl, load_jsonl"
   ]
  },
  {
   "cell_type": "code",
   "execution_count": null,
   "id": "bed86b2c",
   "metadata": {},
   "outputs": [],
   "source": []
  },
  {
   "cell_type": "code",
   "execution_count": 8,
   "id": "46c26e2a",
   "metadata": {},
   "outputs": [],
   "source": [
    "def get_hashtags(date, hour=9):\n",
    "    resp = requests.get(f\"https://api.exportdata.io/trends/locations/th?date={date}&hour={hour}\")\n",
    "    return resp.json()"
   ]
  },
  {
   "cell_type": "code",
   "execution_count": null,
   "id": "c5072b35",
   "metadata": {},
   "outputs": [],
   "source": []
  },
  {
   "cell_type": "code",
   "execution_count": null,
   "id": "dfe620b2",
   "metadata": {},
   "outputs": [],
   "source": []
  },
  {
   "cell_type": "code",
   "execution_count": 9,
   "id": "6573ba24",
   "metadata": {},
   "outputs": [],
   "source": [
    "# dump_jsonl(twitterTrands, \"twitter_trends.jsonl\")"
   ]
  },
  {
   "cell_type": "code",
   "execution_count": 10,
   "id": "3df913e7",
   "metadata": {},
   "outputs": [
    {
     "name": "stdout",
     "output_type": "stream",
     "text": [
      "Loaded 365 records from ../twitter_trends.jsonl\n"
     ]
    }
   ],
   "source": [
    "twitterTrands = load_jsonl(\"twitter_trends.jsonl\")"
   ]
  },
  {
   "cell_type": "code",
   "execution_count": 12,
   "id": "aae19280",
   "metadata": {},
   "outputs": [],
   "source": [
    "from collections import defaultdict\n",
    "\n",
    "allTrends = defaultdict(list)\n",
    "cntTweets = defaultdict(int)\n",
    "for d in twitterTrands:\n",
    "    for trend in d[\"trends\"]:\n",
    "        if trend[\"tweet_volume\"] is None:\n",
    "            continue\n",
    "            \n",
    "        allTrends[trend[\"name\"]].append(d[\"date\"])\n",
    "        cntTweets[trend[\"name\"]] += trend[\"tweet_volume\"]\n"
   ]
  },
  {
   "cell_type": "code",
   "execution_count": 13,
   "id": "3cbe32c5",
   "metadata": {},
   "outputs": [],
   "source": [
    "from datetime import datetime\n",
    "\n",
    "trendTime = {}\n",
    "duration = []\n",
    "for trend in allTrends:\n",
    "    mn, mx = min(allTrends[trend]), max(allTrends[trend])\n",
    "    delta = datetime.strptime(mx, \"%Y-%m-%d\") - datetime.strptime(mn, \"%Y-%m-%d\")\n",
    "    trendTime[trend] = {\n",
    "        \"min\": mn,\n",
    "        \"max\": mx,\n",
    "        \"duration\": delta.days,\n",
    "        \"len\": len(allTrends[trend])\n",
    "    }\n",
    "    \n",
    "    duration.append(delta.days)"
   ]
  },
  {
   "cell_type": "code",
   "execution_count": 14,
   "id": "19e4f9d3",
   "metadata": {},
   "outputs": [],
   "source": [
    "# import pandas as pd\n",
    "# pd.set_option('display.float_format', lambda x: '%.5f' % x)\n",
    "# df_describe = pd.DataFrame([cntTweets[t]/trendTime[t][\"duration\"] for t in cntTweets if trendTime[t][\"duration\"]>0])\n",
    "# df_describe.describe()"
   ]
  },
  {
   "cell_type": "code",
   "execution_count": 15,
   "id": "efb507ae",
   "metadata": {},
   "outputs": [],
   "source": [
    "# import pandas as pd\n",
    "\n",
    "# df_describe = pd.DataFrame([d for d in duration if d>0])\n",
    "# df_describe.describe()"
   ]
  },
  {
   "cell_type": "code",
   "execution_count": 16,
   "id": "6971c3a6",
   "metadata": {},
   "outputs": [],
   "source": [
    "# import matplotlib.pyplot as plt\n",
    "# import numpy as np\n",
    "\n",
    "# _ = plt.hist([d for d in duration if d>0], bins=100)  # arguments are passed to np.histogram\n",
    "# plt.title(\"Histogram with 'auto' bins\")\n",
    "# plt.show()"
   ]
  },
  {
   "cell_type": "code",
   "execution_count": 17,
   "id": "cf1d0b46",
   "metadata": {},
   "outputs": [
    {
     "data": {
      "text/plain": [
       "251"
      ]
     },
     "execution_count": 17,
     "metadata": {},
     "output_type": "execute_result"
    }
   ],
   "source": [
    "hashtags = []\n",
    "for trend in trendTime:\n",
    "    if trendTime[trend][\"duration\"] >= 2 and trendTime[trend][\"duration\"] < 78 and trend[0].startswith(\"#\"):\n",
    "        if cntTweets[trend]/trendTime[trend][\"len\"] > 60000:\n",
    "#         if trendTime[trend][\"len\"] > 0.4*trendTime[trend][\"duration\"]:\n",
    "#             print(trend)\n",
    "            hashtags.append((trend, trendTime[trend][\"duration\"], cntTweets[trend]/trendTime[trend][\"len\"]))\n",
    "len(hashtags)"
   ]
  },
  {
   "cell_type": "code",
   "execution_count": 18,
   "id": "9d3b8b72",
   "metadata": {},
   "outputs": [
    {
     "data": {
      "text/plain": [
       "[('#TPOPConcertFest', 2, 278266.0),\n",
       " ('#BrightWinConcert', 12, 184730.5),\n",
       " ('#TheAstronaut', 10, 1782238.3333333333),\n",
       " ('#TEN_Birthday', 6, 715178.6666666666),\n",
       " ('#ENGFA_FinalMGI2022', 2, 270531.6666666667),\n",
       " ('#TXTinBKK', 51, 111095.0),\n",
       " ('#TurnOffTheAlarm', 5, 170127.66666666666),\n",
       " ('#หยุดผูกขาดมือถือ', 9, 122743.0),\n",
       " ('#โตโน่', 14, 206175.0),\n",
       " ('#เกรซซี่', 2, 229004.33333333334)]"
      ]
     },
     "execution_count": 18,
     "metadata": {},
     "output_type": "execute_result"
    }
   ],
   "source": [
    "hashtags[0:10]"
   ]
  },
  {
   "cell_type": "code",
   "execution_count": 19,
   "id": "4288a8e1",
   "metadata": {},
   "outputs": [],
   "source": [
    "# https://stackoverflow.com/questions/65398427/retrieving-specific-conversations-using-tweepy"
   ]
  },
  {
   "cell_type": "code",
   "execution_count": 20,
   "id": "6fb6806b",
   "metadata": {},
   "outputs": [],
   "source": [
    "# !pip install tweepy"
   ]
  },
  {
   "cell_type": "code",
   "execution_count": 21,
   "id": "fae5da81",
   "metadata": {},
   "outputs": [],
   "source": [
    "import tweepy\n",
    "\n",
    "consumer_key = \"*\"\n",
    "consumer_secret = \"*\"\n",
    "bearer_token = \"*\"\n",
    "access_token = \"*\"\n",
    "access_token_secret = \"*\""
   ]
  },
  {
   "cell_type": "code",
   "execution_count": 22,
   "id": "c8b8d369",
   "metadata": {},
   "outputs": [],
   "source": [
    "# client = tweepy.Client(bearer_token, wait_on_rate_limit=True)"
   ]
  },
  {
   "cell_type": "code",
   "execution_count": 23,
   "id": "3f5dad32",
   "metadata": {},
   "outputs": [],
   "source": [
    "# mkdir tweets"
   ]
  },
  {
   "cell_type": "code",
   "execution_count": null,
   "id": "c1729c0c",
   "metadata": {},
   "outputs": [],
   "source": []
  },
  {
   "cell_type": "code",
   "execution_count": null,
   "id": "90c49e28",
   "metadata": {},
   "outputs": [],
   "source": []
  },
  {
   "cell_type": "code",
   "execution_count": null,
   "id": "4f354b0d",
   "metadata": {},
   "outputs": [],
   "source": []
  },
  {
   "cell_type": "code",
   "execution_count": null,
   "id": "54aa1273",
   "metadata": {},
   "outputs": [],
   "source": []
  },
  {
   "cell_type": "code",
   "execution_count": 19,
   "id": "bcceaf1f",
   "metadata": {},
   "outputs": [],
   "source": [
    "# idx = 54\n",
    "# hashtag, _, _ = hashtags[idx]\n",
    "# tweets = get_tweets_from_hashtag(hashtag)\n",
    "# dump_jsonl(tweets, f\"tweets/twitter_trends_{idx}.jsonl\")"
   ]
  },
  {
   "cell_type": "code",
   "execution_count": null,
   "id": "b5ebecd6",
   "metadata": {},
   "outputs": [],
   "source": []
  },
  {
   "cell_type": "markdown",
   "id": "c205ca6c",
   "metadata": {},
   "source": [
    "## Check Tweets Quality in Each Trend"
   ]
  },
  {
   "cell_type": "code",
   "execution_count": 24,
   "id": "cece8007",
   "metadata": {},
   "outputs": [],
   "source": [
    "from pythainlp.util import *\n",
    "import re\n",
    "\n",
    "def norm(text):\n",
    "    return ' '.join(re.sub(\"(@[A-Za-z0-9_]+)|(#[A-Za-z0-9_]+)|(\\w+:\\/\\/\\S+)\",\" \", text).split())\n",
    "\n",
    "df = []\n",
    "for (idx, h) in enumerate(hashtags):\n",
    "    hashtag,_,_ = h\n",
    "    tweets = load_jsonl(f\"tweets_v1/twitter_trends_{idx}.jsonl\", verbose=False)\n",
    "    \n",
    "    th = []\n",
    "    l = []\n",
    "    for tweet in tweets[1:]:\n",
    "        text = tweet[\"data\"][\"text\"]\n",
    "        text = norm(text)\n",
    "        th.append(countthai(text))\n",
    "        l.append(len(text))\n",
    "        \n",
    "#         if countthai(text) < 80:\n",
    "#             print(countthai(text), text)\n",
    "    df.append({\n",
    "        \"hashtag\": hashtag,\n",
    "        \"thai\": sum(th)/len(th),\n",
    "        \"length\": sum(l)/len(l),\n",
    "    })"
   ]
  },
  {
   "cell_type": "code",
   "execution_count": null,
   "id": "33f22c0a",
   "metadata": {},
   "outputs": [],
   "source": [
    "import pandas as pd \n",
    "df = pd.DataFrame(df).sort_values(by=\"thai\", ascending=False)"
   ]
  },
  {
   "cell_type": "code",
   "execution_count": null,
   "id": "78fbab2b",
   "metadata": {},
   "outputs": [],
   "source": [
    "print(\"More Thai\")\n",
    "n = 20\n",
    "pd.set_option(\"max_rows\", n)\n",
    "df.head(n)"
   ]
  },
  {
   "cell_type": "markdown",
   "id": "58228f6d",
   "metadata": {},
   "source": [
    "## Hashtag with less Thainess\n",
    "\n",
    "Ignore them; they are mostly related to K-Pop stars."
   ]
  },
  {
   "cell_type": "code",
   "execution_count": 23,
   "id": "0f39bf1c",
   "metadata": {},
   "outputs": [
    {
     "data": {
      "text/html": [
       "<div>\n",
       "<style scoped>\n",
       "    .dataframe tbody tr th:only-of-type {\n",
       "        vertical-align: middle;\n",
       "    }\n",
       "\n",
       "    .dataframe tbody tr th {\n",
       "        vertical-align: top;\n",
       "    }\n",
       "\n",
       "    .dataframe thead th {\n",
       "        text-align: right;\n",
       "    }\n",
       "</style>\n",
       "<table border=\"1\" class=\"dataframe\">\n",
       "  <thead>\n",
       "    <tr style=\"text-align: right;\">\n",
       "      <th></th>\n",
       "      <th>hashtag</th>\n",
       "      <th>thai</th>\n",
       "      <th>length</th>\n",
       "    </tr>\n",
       "  </thead>\n",
       "  <tbody>\n",
       "    <tr>\n",
       "      <th>98</th>\n",
       "      <td>#YOUNGJAE_SUGAR</td>\n",
       "      <td>76.085798</td>\n",
       "      <td>34.187500</td>\n",
       "    </tr>\n",
       "    <tr>\n",
       "      <th>36</th>\n",
       "      <td>#BurberryxBright</td>\n",
       "      <td>75.342724</td>\n",
       "      <td>86.404040</td>\n",
       "    </tr>\n",
       "    <tr>\n",
       "      <th>18</th>\n",
       "      <td>#안녕BANGKOK</td>\n",
       "      <td>74.461971</td>\n",
       "      <td>125.848485</td>\n",
       "    </tr>\n",
       "    <tr>\n",
       "      <th>160</th>\n",
       "      <td>#วอร์คราฟLV7xZP</td>\n",
       "      <td>74.379534</td>\n",
       "      <td>103.646465</td>\n",
       "    </tr>\n",
       "    <tr>\n",
       "      <th>119</th>\n",
       "      <td>#GOT7_NANANA</td>\n",
       "      <td>74.365080</td>\n",
       "      <td>38.494949</td>\n",
       "    </tr>\n",
       "    <tr>\n",
       "      <th>132</th>\n",
       "      <td>#IGOT7</td>\n",
       "      <td>73.504301</td>\n",
       "      <td>49.212121</td>\n",
       "    </tr>\n",
       "    <tr>\n",
       "      <th>27</th>\n",
       "      <td>#theothersidetour</td>\n",
       "      <td>72.680507</td>\n",
       "      <td>77.151515</td>\n",
       "    </tr>\n",
       "    <tr>\n",
       "      <th>234</th>\n",
       "      <td>#treasure</td>\n",
       "      <td>72.601668</td>\n",
       "      <td>102.438776</td>\n",
       "    </tr>\n",
       "    <tr>\n",
       "      <th>111</th>\n",
       "      <td>#NCTDREAM_Beatbox</td>\n",
       "      <td>71.856087</td>\n",
       "      <td>29.727273</td>\n",
       "    </tr>\n",
       "    <tr>\n",
       "      <th>44</th>\n",
       "      <td>#NYFW</td>\n",
       "      <td>70.817138</td>\n",
       "      <td>49.717172</td>\n",
       "    </tr>\n",
       "    <tr>\n",
       "      <th>96</th>\n",
       "      <td>#JINYOUNG</td>\n",
       "      <td>70.639271</td>\n",
       "      <td>36.222222</td>\n",
       "    </tr>\n",
       "    <tr>\n",
       "      <th>181</th>\n",
       "      <td>#วอร์คราฟLV5xCollaG</td>\n",
       "      <td>70.542628</td>\n",
       "      <td>85.848485</td>\n",
       "    </tr>\n",
       "    <tr>\n",
       "      <th>50</th>\n",
       "      <td>#TOP100KPOPDancer</td>\n",
       "      <td>70.482192</td>\n",
       "      <td>57.343434</td>\n",
       "    </tr>\n",
       "    <tr>\n",
       "      <th>105</th>\n",
       "      <td>#PaiPai_Wonderland2LIVE</td>\n",
       "      <td>70.465167</td>\n",
       "      <td>88.132653</td>\n",
       "    </tr>\n",
       "    <tr>\n",
       "      <th>102</th>\n",
       "      <td>#JUNGWOO</td>\n",
       "      <td>70.213673</td>\n",
       "      <td>47.275510</td>\n",
       "    </tr>\n",
       "    <tr>\n",
       "      <th>154</th>\n",
       "      <td>#1ΞX0</td>\n",
       "      <td>70.126971</td>\n",
       "      <td>56.242424</td>\n",
       "    </tr>\n",
       "    <tr>\n",
       "      <th>175</th>\n",
       "      <td>#HaechanFirstOST</td>\n",
       "      <td>64.633030</td>\n",
       "      <td>53.224490</td>\n",
       "    </tr>\n",
       "    <tr>\n",
       "      <th>248</th>\n",
       "      <td>#MostRequestedLive</td>\n",
       "      <td>63.158042</td>\n",
       "      <td>99.333333</td>\n",
       "    </tr>\n",
       "    <tr>\n",
       "      <th>77</th>\n",
       "      <td>#도시어부4_뱀뱀</td>\n",
       "      <td>61.407738</td>\n",
       "      <td>95.303030</td>\n",
       "    </tr>\n",
       "    <tr>\n",
       "      <th>97</th>\n",
       "      <td>#桃花坞2LIVExPaiPai</td>\n",
       "      <td>58.228382</td>\n",
       "      <td>93.414141</td>\n",
       "    </tr>\n",
       "  </tbody>\n",
       "</table>\n",
       "</div>"
      ],
      "text/plain": [
       "                     hashtag       thai      length\n",
       "98           #YOUNGJAE_SUGAR  76.085798   34.187500\n",
       "36          #BurberryxBright  75.342724   86.404040\n",
       "18                #안녕BANGKOK  74.461971  125.848485\n",
       "160          #วอร์คราฟLV7xZP  74.379534  103.646465\n",
       "119             #GOT7_NANANA  74.365080   38.494949\n",
       "132                   #IGOT7  73.504301   49.212121\n",
       "27         #theothersidetour  72.680507   77.151515\n",
       "234                #treasure  72.601668  102.438776\n",
       "111        #NCTDREAM_Beatbox  71.856087   29.727273\n",
       "44                     #NYFW  70.817138   49.717172\n",
       "96                 #JINYOUNG  70.639271   36.222222\n",
       "181      #วอร์คราฟLV5xCollaG  70.542628   85.848485\n",
       "50         #TOP100KPOPDancer  70.482192   57.343434\n",
       "105  #PaiPai_Wonderland2LIVE  70.465167   88.132653\n",
       "102                 #JUNGWOO  70.213673   47.275510\n",
       "154                    #1ΞX0  70.126971   56.242424\n",
       "175         #HaechanFirstOST  64.633030   53.224490\n",
       "248       #MostRequestedLive  63.158042   99.333333\n",
       "77                 #도시어부4_뱀뱀  61.407738   95.303030\n",
       "97          #桃花坞2LIVExPaiPai  58.228382   93.414141"
      ]
     },
     "execution_count": 23,
     "metadata": {},
     "output_type": "execute_result"
    }
   ],
   "source": [
    "df.tail(20)"
   ]
  },
  {
   "cell_type": "code",
   "execution_count": null,
   "id": "ec18c35a",
   "metadata": {},
   "outputs": [],
   "source": []
  },
  {
   "cell_type": "code",
   "execution_count": null,
   "id": "4a1f3f16",
   "metadata": {},
   "outputs": [],
   "source": []
  },
  {
   "cell_type": "code",
   "execution_count": 24,
   "id": "b49c1aae",
   "metadata": {},
   "outputs": [],
   "source": [
    "hashtags = []\n",
    "for idx, row in df[df[\"thai\"] > 95].iterrows():\n",
    "    if countthai(row[\"hashtag\"]) < 20:\n",
    "        continue\n",
    "    hashtags.append((row[\"hashtag\"], idx))"
   ]
  },
  {
   "cell_type": "code",
   "execution_count": 25,
   "id": "7dd0dcc6",
   "metadata": {},
   "outputs": [
    {
     "data": {
      "text/plain": [
       "53"
      ]
     },
     "execution_count": 25,
     "metadata": {},
     "output_type": "execute_result"
    }
   ],
   "source": [
    "len(hashtags)"
   ]
  },
  {
   "cell_type": "markdown",
   "id": "b43efe98",
   "metadata": {},
   "source": [
    "# Get tweets v2"
   ]
  },
  {
   "cell_type": "code",
   "execution_count": 25,
   "id": "0132abb4",
   "metadata": {},
   "outputs": [],
   "source": [
    "from tqdm import tqdm\n",
    "\n",
    "# Operations: https://developer.twitter.com/en/docs/twitter-api/enterprise/rules-and-filtering/operators-by-product\n",
    "def get_tweets_from_hashtag(hashtag):\n",
    "    query = f\"{hashtag} -is:retweet -is:quote lang:th is:reply\"\n",
    "    start_time = trendTime[hashtag][\"min\"]+\"T00:00:00Z\"\n",
    "    end_time = trendTime[hashtag][\"max\"]+\"T23:59:59Z\"\n",
    "    max_results = 100\n",
    "    fields = \"conversation_id,created_at,author_id\"\n",
    "    resp = client.search_all_tweets(query=query, max_results=max_results, start_time=start_time, end_time=end_time,tweet_fields=fields)\n",
    "    next_token = resp.meta[\"next_token\"] if \"next_token\" in resp.meta else None\n",
    "\n",
    "    \n",
    "    tweets = [{\"next_token\": next_token, \"hashtag\": hashtag}]\n",
    "    for tweet in resp.data:\n",
    "        tweets.append({\n",
    "            \"data\": tweet.data\n",
    "        })\n",
    "    return tweets"
   ]
  },
  {
   "cell_type": "code",
   "execution_count": 26,
   "id": "aaac6c16",
   "metadata": {},
   "outputs": [],
   "source": [
    "# for hashtag, idx in tqdm(hashtags, total=len(hashtags)):\n",
    "#     tweets = get_tweets_from_hashtag(hashtag)\n",
    "#     dump_jsonl(tweets, f\"tweets_v2/twitter_trends_{idx}.jsonl\")"
   ]
  },
  {
   "cell_type": "code",
   "execution_count": null,
   "id": "d14bd4de",
   "metadata": {},
   "outputs": [],
   "source": []
  },
  {
   "cell_type": "code",
   "execution_count": null,
   "id": "7fb87451",
   "metadata": {},
   "outputs": [],
   "source": []
  },
  {
   "cell_type": "code",
   "execution_count": null,
   "id": "55767226",
   "metadata": {},
   "outputs": [],
   "source": []
  },
  {
   "cell_type": "code",
   "execution_count": null,
   "id": "1fbdbfe1",
   "metadata": {},
   "outputs": [],
   "source": []
  },
  {
   "cell_type": "markdown",
   "id": "9033d4dd",
   "metadata": {},
   "source": [
    "## Load Tweets Conversations"
   ]
  },
  {
   "cell_type": "code",
   "execution_count": 27,
   "id": "76dab1ca",
   "metadata": {},
   "outputs": [],
   "source": [
    "cids = defaultdict(list)\n",
    "\n",
    "for hashtag, idx in hashtags:\n",
    "    tweets = load_jsonl(f\"tweets_v2/twitter_trends_{idx}.jsonl\", verbose=False)\n",
    "    assert(hashtag==tweets[0][\"hashtag\"])\n",
    "\n",
    "    for tweet in tweets[1:]:\n",
    "        cid = tweet[\"data\"][\"conversation_id\"]\n",
    "        cids[cid].append((hashtag, idx, tweet[\"data\"][\"created_at\"]))"
   ]
  },
  {
   "cell_type": "code",
   "execution_count": 28,
   "id": "818186b3",
   "metadata": {},
   "outputs": [],
   "source": [
    "# Operations: https://developer.twitter.com/en/docs/twitter-api/enterprise/rules-and-filtering/operators-by-product\n",
    "import time\n",
    "\n",
    "def add_tweets(arr, resp):\n",
    "    if resp.meta[\"result_count\"]==0:\n",
    "        return arr\n",
    "    \n",
    "    for tweet in resp.data:\n",
    "        arr.append(tweet.data)\n",
    "    return arr\n",
    "\n",
    "def get_tweets_in_conversation(conversation_id, query_time):\n",
    "    query = f\"conversation_id:{conversation_id}\"\n",
    "    start_time = (query_time-timedelta(days=2)).strftime(\"%Y-%m-%d\")+\"T00:00:00Z\"\n",
    "    end_time = (query_time+timedelta(days=28)).strftime(\"%Y-%m-%d\")+\"T23:59:59Z\"\n",
    "\n",
    "    max_results = 100\n",
    "    fields = \"conversation_id,author_id,context_annotations,in_reply_to_user_id,referenced_tweets,created_at\"\n",
    "\n",
    "    next_token = None\n",
    "    resp = client.search_all_tweets(query=query, max_results=max_results, start_time=start_time, end_time=end_time,tweet_fields=fields)\n",
    "    tweets = add_tweets([], resp)    \n",
    "    \n",
    "    next_token = resp.meta[\"next_token\"] if \"next_token\" in resp.meta else None\n",
    "    while(next_token is not None):\n",
    "        resp = client.search_all_tweets(query=query, max_results=max_results, start_time=start_time, end_time=end_time, tweet_fields=fields, next_token=next_token)\n",
    "        tweets = add_tweets(tweets, resp)\n",
    "            \n",
    "        next_token = resp.meta[\"next_token\"] if \"next_token\" in resp.meta else None\n",
    "            \n",
    "        time.sleep(1)\n",
    "    return tweets"
   ]
  },
  {
   "cell_type": "code",
   "execution_count": 29,
   "id": "1622a0ba",
   "metadata": {},
   "outputs": [],
   "source": [
    "# from datetime import datetime, timedelta\n",
    "\n",
    "# idx = 0\n",
    "# for conversation_id in tqdm(cids, total=len(cids)):\n",
    "#     idx += 1\n",
    "#     if idx <= 21:\n",
    "#         continue\n",
    "        \n",
    "#     conversation = []\n",
    "#     query = cids[conversation_id]\n",
    "#     start_time = datetime.now()\n",
    "    \n",
    "#     hashtags_in_conv = set()\n",
    "#     for q in query:\n",
    "#         d = datetime.strptime(q[2], \"%Y-%m-%dT%H:%M:%S.000z\")\n",
    "#         start_time = min(start_time, d)\n",
    "#         hashtags_in_conv.add(q[0])\n",
    "#     print(conversation_id, start_time)\n",
    "#     tweets = get_tweets_in_conversation(conversation_id, start_time)\n",
    "#     conversation.append({\n",
    "#         \"tweets\": tweets,\n",
    "#         \"hashtags\": list(hashtags_in_conv),\n",
    "#         \"conversation_id\": conversation_id\n",
    "#     })\n",
    "    \n",
    "\n",
    "#     dump_jsonl(conversation, f\"conversations/conversation_{idx}.jsonl\")\n",
    "\n"
   ]
  },
  {
   "cell_type": "markdown",
   "id": "e9ec0c6b",
   "metadata": {},
   "source": [
    "Twarc2 is much faster!!!"
   ]
  },
  {
   "cell_type": "code",
   "execution_count": 30,
   "id": "8372df30",
   "metadata": {},
   "outputs": [],
   "source": [
    "# !twarc2 conversation 1562406773763772422 --archive > twarc2_conversation.jsonl"
   ]
  },
  {
   "cell_type": "code",
   "execution_count": 31,
   "id": "e45ac58f",
   "metadata": {},
   "outputs": [],
   "source": [
    "# https://twarc-project.readthedocs.io/en/latest/twarc2_en_us/#conversation"
   ]
  },
  {
   "cell_type": "code",
   "execution_count": 32,
   "id": "593c9581",
   "metadata": {},
   "outputs": [],
   "source": [
    "# !twarc2 conversations --archive --no-context-annotations conversation_ids.txt twarc2_conversation.jsonl"
   ]
  },
  {
   "cell_type": "code",
   "execution_count": null,
   "id": "a77458df",
   "metadata": {},
   "outputs": [],
   "source": []
  },
  {
   "cell_type": "code",
   "execution_count": null,
   "id": "3f362151",
   "metadata": {},
   "outputs": [],
   "source": []
  },
  {
   "cell_type": "code",
   "execution_count": null,
   "id": "0dba60cd",
   "metadata": {},
   "outputs": [],
   "source": []
  },
  {
   "cell_type": "code",
   "execution_count": null,
   "id": "7624dda1",
   "metadata": {},
   "outputs": [],
   "source": []
  },
  {
   "cell_type": "code",
   "execution_count": null,
   "id": "4f088be5",
   "metadata": {},
   "outputs": [],
   "source": []
  },
  {
   "cell_type": "markdown",
   "id": "89a59db1",
   "metadata": {},
   "source": [
    "# Get all missing tweets"
   ]
  },
  {
   "cell_type": "code",
   "execution_count": 33,
   "id": "be666fd2",
   "metadata": {},
   "outputs": [
    {
     "name": "stdout",
     "output_type": "stream",
     "text": [
      "Loaded 3391 records from twarc2_conversation.jsonl\n"
     ]
    }
   ],
   "source": [
    "conversations = load_jsonl(\"twarc2_conversation.jsonl\")"
   ]
  },
  {
   "cell_type": "code",
   "execution_count": 34,
   "id": "a65e07b9",
   "metadata": {},
   "outputs": [],
   "source": [
    "def get_tweet_graph(conversation):\n",
    "    \n",
    "    tweet_graph = defaultdict(list)\n",
    "\n",
    "    for tweet in conversation:\n",
    "        for parent_tweet in tweet[\"referenced_tweets\"]:\n",
    "#             if parent_tweet[\"type\"]==\"quoted\":\n",
    "#                 continue\n",
    "            tweet_graph[parent_tweet[\"id\"]].append(tweet[\"id\"])\n",
    "                \n",
    "    return tweet_graph"
   ]
  },
  {
   "cell_type": "code",
   "execution_count": null,
   "id": "a6eb0554",
   "metadata": {},
   "outputs": [],
   "source": []
  },
  {
   "cell_type": "code",
   "execution_count": 11,
   "id": "9a28d9b0",
   "metadata": {},
   "outputs": [
    {
     "name": "stdout",
     "output_type": "stream",
     "text": [
      "Loaded 185750 records from ../tweets.jsonl\n"
     ]
    }
   ],
   "source": [
    "tweets = load_jsonl(f\"tweets.jsonl\")"
   ]
  },
  {
   "cell_type": "code",
   "execution_count": 36,
   "id": "f4ecf121",
   "metadata": {},
   "outputs": [],
   "source": [
    "id2tweet = {}\n",
    "for tweet in tweets:\n",
    "    if tweet is None:\n",
    "        continue\n",
    "        \n",
    "    if type(tweet)==list:\n",
    "        id2tweet[tweet[0][\"value\"]] = tweet[0]\n",
    "        continue\n",
    "\n",
    "    if \"id\" not in tweet:\n",
    "        id2tweet[tweet[\"resource_id\"]] = tweet\n",
    "        continue\n",
    "\n",
    "    id2tweet[tweet[\"id\"]] = tweet\n",
    "    if \"expansions\" in tweet:\n",
    "        for expantion_tweet in tweet[\"expansions\"][\"tweets\"]:\n",
    "            id2tweet[expantion_tweet[\"id\"]] = expantion_tweet\n"
   ]
  },
  {
   "cell_type": "code",
   "execution_count": 37,
   "id": "ed2750d5",
   "metadata": {},
   "outputs": [],
   "source": [
    "missing_tweets_ids = set()"
   ]
  },
  {
   "cell_type": "code",
   "execution_count": 38,
   "id": "f79b4616",
   "metadata": {},
   "outputs": [],
   "source": [
    "for twid in id2tweet:\n",
    "    if id2tweet[twid] is None:\n",
    "        continue\n",
    "        \n",
    "    if \"author_id\" not in id2tweet[twid]:\n",
    "        if \"text\" in id2tweet[twid]:\n",
    "            missing_tweets_ids.add(twid)\n",
    "        else:\n",
    "            continue\n",
    "#             print(id2tweet[twid])\n",
    "#             assert(False)\n"
   ]
  },
  {
   "cell_type": "code",
   "execution_count": 39,
   "id": "691bd11d",
   "metadata": {},
   "outputs": [
    {
     "data": {
      "text/plain": [
       "0"
      ]
     },
     "execution_count": 39,
     "metadata": {},
     "output_type": "execute_result"
    }
   ],
   "source": [
    "len(missing_tweets_ids)"
   ]
  },
  {
   "cell_type": "code",
   "execution_count": 40,
   "id": "5739907d",
   "metadata": {},
   "outputs": [],
   "source": [
    "# for conv in conversations:\n",
    "#     tweet_graph = get_tweet_graph(conv[\"data\"])\n",
    "#     for twid in tweet_graph:\n",
    "#         if twid not in id2tweet:\n",
    "#             missing_tweets_ids.add(twid)\n",
    "            \n",
    "#         for child_twid in tweet_graph[twid]:\n",
    "#             if child_twid not in id2tweet:\n",
    "#                 missing_tweets_ids.add(child_twid)"
   ]
  },
  {
   "cell_type": "code",
   "execution_count": 41,
   "id": "8c0b2a9a",
   "metadata": {},
   "outputs": [],
   "source": [
    "# id2tweet[list(missing_tweets_ids)[0]]"
   ]
  },
  {
   "cell_type": "code",
   "execution_count": 42,
   "id": "72be9df4",
   "metadata": {},
   "outputs": [],
   "source": [
    "# len(missing_tweets_ids), list(missing_tweets_ids)[0]"
   ]
  },
  {
   "cell_type": "code",
   "execution_count": 43,
   "id": "c3d32ac1",
   "metadata": {},
   "outputs": [],
   "source": [
    "# import os\n",
    "# for twid in tqdm(missing_tweets_ids, total=len(missing_tweets_ids)):\n",
    "#     if twid in id2tweet and \"author_id\" in id2tweet[twid]:\n",
    "#         continue\n",
    "        \n",
    "#     stream = os.popen(f'twarc2 tweet --tweet-fields author_id,in_reply_to_user_id,created_at,conversation_id --expansions referenced_tweets.id {twid}')\n",
    "#     output = stream.read()\n",
    "#     output = json.loads(output)\n",
    "#     if \"data\" not in output:\n",
    "#         id2tweet[twid] = output[\"errors\"][0]\n",
    "#         continue\n",
    "        \n",
    "#     assert(len(output[\"data\"])==1)        \n",
    "#     tweet = output[\"data\"][0]\n",
    "\n",
    "    \n",
    "#     if \"includes\" in output:\n",
    "#         tweet[\"expansions\"] = output[\"includes\"]\n",
    "#     id2tweet[twid] = tweet"
   ]
  },
  {
   "cell_type": "code",
   "execution_count": 44,
   "id": "395e498e",
   "metadata": {},
   "outputs": [],
   "source": [
    "# tweets = []\n",
    "# for twid in id2tweet:\n",
    "#     tweets.append(id2tweet[twid])\n",
    "\n",
    "# dump_jsonl(tweets, f\"tweets.jsonl\")"
   ]
  },
  {
   "cell_type": "code",
   "execution_count": null,
   "id": "324db4a2",
   "metadata": {},
   "outputs": [],
   "source": []
  },
  {
   "cell_type": "code",
   "execution_count": null,
   "id": "8c28e8ae",
   "metadata": {},
   "outputs": [],
   "source": []
  },
  {
   "cell_type": "code",
   "execution_count": null,
   "id": "de0388ad",
   "metadata": {},
   "outputs": [],
   "source": []
  },
  {
   "cell_type": "markdown",
   "id": "8aa7338c",
   "metadata": {},
   "source": [
    "## Build Tweet graph"
   ]
  },
  {
   "cell_type": "code",
   "execution_count": 45,
   "id": "7c36c2af",
   "metadata": {},
   "outputs": [],
   "source": [
    "def get_path(curr, tweet_graph):\n",
    "    if curr not in tweet_graph:\n",
    "        return [f\"{curr}\"]\n",
    "\n",
    "    if len(tweet_graph[curr])==0:\n",
    "        return [f\"{curr}\"]\n",
    "\n",
    "    paths = []\n",
    "    for next_tweet in tweet_graph[curr]:\n",
    "        next_paths = get_path(next_tweet, tweet_graph)\n",
    "        for path in next_paths:\n",
    "            paths.append(f\"{curr} > {path}\")\n",
    "    return paths\n"
   ]
  },
  {
   "cell_type": "code",
   "execution_count": 46,
   "id": "5046165c",
   "metadata": {},
   "outputs": [],
   "source": [
    "from collections import defaultdict\n",
    "\n",
    "n_path = 0\n",
    "n_skip = 0\n",
    "\n",
    "path_depth = []\n",
    "user_count = []\n",
    "selected_paths = []\n",
    "for conv in conversations:\n",
    "    tweet_graph = get_tweet_graph(conv[\"data\"])\n",
    "    paths = get_path(conv[\"data\"][0][\"conversation_id\"], tweet_graph)\n",
    "\n",
    "    for p in paths:\n",
    "        n_path += 1\n",
    "        tweetids = p.split(\" > \")\n",
    "        \n",
    "        user_ids_in_conv = set()\n",
    "        for twid in tweetids:\n",
    "            if twid not in id2tweet:\n",
    "                user_ids_in_conv.add(\"deleted\")\n",
    "                continue\n",
    "            elif id2tweet[twid] is None:\n",
    "                user_ids_in_conv.add(\"deleted\")\n",
    "                continue\n",
    "            elif \"author_id\" not in id2tweet[twid]:\n",
    "                user_ids_in_conv.add(\"unknown\")\n",
    "                continue\n",
    "            else:\n",
    "                user_ids_in_conv.add(id2tweet[twid][\"author_id\"])\n",
    "        \n",
    "        nuser = len(user_ids_in_conv)\n",
    "        if \"unknown\" in user_ids_in_conv:\n",
    "            nuser -= 1\n",
    "        \n",
    "        if nuser==1:\n",
    "            n_skip += 1\n",
    "            continue\n",
    "        \n",
    "        if len(tweetids) > 10:\n",
    "            n_skip += 1\n",
    "            continue\n",
    "            \n",
    "        selected_paths.append(tweetids)\n",
    "        path_depth.append(len(tweetids))\n",
    "        user_count.append(nuser)"
   ]
  },
  {
   "cell_type": "code",
   "execution_count": 47,
   "id": "b98633d9",
   "metadata": {},
   "outputs": [
    {
     "data": {
      "text/plain": [
       "(28860, 0.20373874001073053)"
      ]
     },
     "execution_count": 47,
     "metadata": {},
     "output_type": "execute_result"
    }
   ],
   "source": [
    "n_skip, n_skip/n_path"
   ]
  },
  {
   "cell_type": "code",
   "execution_count": 48,
   "id": "610c5eee",
   "metadata": {},
   "outputs": [],
   "source": [
    "# 1562406773763772422 > 1562415185486172160 > 1562439378428841984"
   ]
  },
  {
   "cell_type": "code",
   "execution_count": 49,
   "id": "d1ac9dbf",
   "metadata": {},
   "outputs": [
    {
     "data": {
      "image/png": "[encoded data removed]",
      "text/plain": [
       "<Figure size 432x288 with 1 Axes>"
      ]
     },
     "metadata": {
      "needs_background": "light"
     },
     "output_type": "display_data"
    }
   ],
   "source": [
    "import matplotlib.pyplot as plt\n",
    "import numpy as np\n",
    "\n",
    "_ = plt.hist(path_depth, bins=15, range=(2, 9))  # arguments are passed to np.histogram\n",
    "plt.title(\"Number of Turn in the conversations Histogram\")\n",
    "plt.show()"
   ]
  },
  {
   "cell_type": "code",
   "execution_count": 50,
   "id": "7ef8ab93",
   "metadata": {},
   "outputs": [
    {
     "data": {
      "text/html": [
       "<div>\n",
       "<style scoped>\n",
       "    .dataframe tbody tr th:only-of-type {\n",
       "        vertical-align: middle;\n",
       "    }\n",
       "\n",
       "    .dataframe tbody tr th {\n",
       "        vertical-align: top;\n",
       "    }\n",
       "\n",
       "    .dataframe thead th {\n",
       "        text-align: right;\n",
       "    }\n",
       "</style>\n",
       "<table border=\"1\" class=\"dataframe\">\n",
       "  <thead>\n",
       "    <tr style=\"text-align: right;\">\n",
       "      <th></th>\n",
       "      <th>0</th>\n",
       "    </tr>\n",
       "  </thead>\n",
       "  <tbody>\n",
       "    <tr>\n",
       "      <th>count</th>\n",
       "      <td>112792.000000</td>\n",
       "    </tr>\n",
       "    <tr>\n",
       "      <th>mean</th>\n",
       "      <td>2.265524</td>\n",
       "    </tr>\n",
       "    <tr>\n",
       "      <th>std</th>\n",
       "      <td>0.818117</td>\n",
       "    </tr>\n",
       "    <tr>\n",
       "      <th>min</th>\n",
       "      <td>2.000000</td>\n",
       "    </tr>\n",
       "    <tr>\n",
       "      <th>25%</th>\n",
       "      <td>2.000000</td>\n",
       "    </tr>\n",
       "    <tr>\n",
       "      <th>50%</th>\n",
       "      <td>2.000000</td>\n",
       "    </tr>\n",
       "    <tr>\n",
       "      <th>75%</th>\n",
       "      <td>2.000000</td>\n",
       "    </tr>\n",
       "    <tr>\n",
       "      <th>max</th>\n",
       "      <td>10.000000</td>\n",
       "    </tr>\n",
       "  </tbody>\n",
       "</table>\n",
       "</div>"
      ],
      "text/plain": [
       "                   0\n",
       "count  112792.000000\n",
       "mean        2.265524\n",
       "std         0.818117\n",
       "min         2.000000\n",
       "25%         2.000000\n",
       "50%         2.000000\n",
       "75%         2.000000\n",
       "max        10.000000"
      ]
     },
     "execution_count": 50,
     "metadata": {},
     "output_type": "execute_result"
    }
   ],
   "source": [
    "# How long a tweet is trendy\n",
    "import pandas as pd\n",
    "\n",
    "df_describe = pd.DataFrame(path_depth)\n",
    "df_describe.describe()"
   ]
  },
  {
   "cell_type": "code",
   "execution_count": 51,
   "id": "bd8add55",
   "metadata": {},
   "outputs": [
    {
     "data": {
      "image/png": "[encoded data removed]",
      "text/plain": [
       "<Figure size 432x288 with 1 Axes>"
      ]
     },
     "metadata": {
      "needs_background": "light"
     },
     "output_type": "display_data"
    }
   ],
   "source": [
    "_ = plt.hist(user_count, bins=15, range=(2, 9))  # arguments are passed to np.histogram\n",
    "plt.title(\"Number of User in the conversations Histogram\")\n",
    "plt.show()"
   ]
  },
  {
   "cell_type": "code",
   "execution_count": 52,
   "id": "021d64df",
   "metadata": {},
   "outputs": [
    {
     "data": {
      "text/plain": [
       "112792"
      ]
     },
     "execution_count": 52,
     "metadata": {},
     "output_type": "execute_result"
    }
   ],
   "source": [
    "len(selected_paths)"
   ]
  },
  {
   "cell_type": "code",
   "execution_count": 53,
   "id": "fc907646",
   "metadata": {},
   "outputs": [
    {
     "name": "stdout",
     "output_type": "stream",
     "text": [
      "['1494709112596463623', '1494709377173159936', '1494709755570712577']\n",
      "['1494666125610995717', '1494689151224250370', '1494689237668884484', '1494689332099416070', '1494697211485368322', '1494698761180037121', '1494700222819504128', '1494700400737665025']\n",
      "['1494669085770063875', '1494675110963208193', '1494675211332952065']\n",
      "['1494669085770063875', '1494672044809940994', '1494672276750360576']\n",
      "['1494663886746042378', '1494724547891064833']\n",
      "['1494669910798061571', '1494670444192219136']\n",
      "['1494667726077394947', '1494668050783555588']\n",
      "['1494635468251488257', '1494640414942707714', '1494644267372847107', '1494644390362742787', '1494644552694583299']\n",
      "['1494642086246699012', '1494642550279311360', '1494645760893149186']\n",
      "['1494623928806895618', '1494624355485380608']\n"
     ]
    }
   ],
   "source": [
    "for path in selected_paths[0:10]:\n",
    "    print(path)"
   ]
  },
  {
   "cell_type": "code",
   "execution_count": null,
   "id": "6b316f45",
   "metadata": {},
   "outputs": [],
   "source": []
  },
  {
   "cell_type": "code",
   "execution_count": null,
   "id": "0670d2d4",
   "metadata": {},
   "outputs": [],
   "source": []
  },
  {
   "cell_type": "code",
   "execution_count": null,
   "id": "7708fe5d",
   "metadata": {},
   "outputs": [],
   "source": []
  },
  {
   "cell_type": "markdown",
   "id": "0bd9781b",
   "metadata": {},
   "source": [
    "# Export for annotations"
   ]
  },
  {
   "cell_type": "code",
   "execution_count": 61,
   "id": "8a296e05",
   "metadata": {},
   "outputs": [],
   "source": [
    "import random\n",
    "import re\n",
    "\n",
    "def htmlspecialchars(text):\n",
    "    return (\n",
    "        text.replace(\"&amp;\", \"&\").\n",
    "        replace(\"&quot;\", '\"').\n",
    "        replace(\"&lt;\", \"<\").\n",
    "        replace(\"&gt;\", \">\")\n",
    "    )\n",
    "\n",
    "rows = []\n",
    "for path in selected_paths:\n",
    "    \n",
    "    text = []\n",
    "    userid = {}\n",
    "    skip = False\n",
    "    if len(path) <= 2:\n",
    "        continue\n",
    "        \n",
    "    tweets_in_path = []\n",
    "    for twid in path:\n",
    "        if twid not in id2tweet:\n",
    "            skip = True\n",
    "            break\n",
    "            \n",
    "        tweet = id2tweet[twid]\n",
    "        if tweet is None:\n",
    "            skip = True\n",
    "            break\n",
    "            \n",
    "        if \"author_id\" not in tweet:\n",
    "            # text.append((\"unknown\", tweet[\"text\"]))\n",
    "            skip = True\n",
    "            break\n",
    "        \n",
    "        tweets_in_path.append(tweet)\n",
    "        userid[tweet[\"author_id\"]] = True\n",
    "        text.append((tweet[\"author_id\"], tweet[\"text\"]))\n",
    "        \n",
    "    if skip:\n",
    "        continue\n",
    "        \n",
    "    userid2name = {\"unknown\":\"???\"}\n",
    "    \n",
    "    if len(userid) > 2:\n",
    "        continue\n",
    "        \n",
    "    for idx, u in enumerate(userid):\n",
    "        userid2name[u] = chr(ord(\"A\")+idx)\n",
    "    \n",
    "    if text[0][0] == text[1][0]: \n",
    "        continue\n",
    "        \n",
    "    s = \"\"\n",
    "    for t in text:\n",
    "        tt = ' '.join(re.sub(\"(@[A-Za-z0-9_]+)|(\\w+:\\/\\/\\S+)\",\" \", t[1]).split())\n",
    "        tt = htmlspecialchars(tt)\n",
    "        s += f\"{userid2name[t[0]]}: {tt}\\n\\n\"\n",
    "    \n",
    "#     conv_id = None\n",
    "#     messages = []\n",
    "#     for tweet in tweets_in_path:\n",
    "#         conv_id = tweet[\"conversation_id\"]\n",
    "#         text = tweet[\"text\"]\n",
    "#         text = re.sub(\"(\\w+:\\/\\/\\S+)\",\"[URL]\", text)\n",
    "#         text = re.sub(\"(@[A-Za-z0-9_]+)\",\"[USR]\", text)\n",
    "#         text = htmlspecialchars(text)\n",
    "        \n",
    "#         messages.append({\n",
    "#             \"tweet_id\": tweet[\"id\"],\n",
    "#             \"user_id\": tweet[\"author_id\"],\n",
    "#             \"text\": text,\n",
    "#             \"created_at\": tweet[\"created_at\"],\n",
    "#         })\n",
    "        \n",
    "    rows.append({\n",
    "        \"text\": s,\n",
    "        \"label\": [],\n",
    "#         \"conersation_id\": conv_id,\n",
    "#         \"messages\": messages,\n",
    "        \"tweet\": f\"https://twitter.com/i/web/status/{path[-1]}\"\n",
    "    })\n",
    "    \n",
    "random.Random(41).shuffle(rows)"
   ]
  },
  {
   "cell_type": "code",
   "execution_count": 62,
   "id": "30305d1d",
   "metadata": {},
   "outputs": [
    {
     "data": {
      "text/plain": [
       "2907"
      ]
     },
     "execution_count": 62,
     "metadata": {},
     "output_type": "execute_result"
    }
   ],
   "source": [
    "len(rows)"
   ]
  },
  {
   "cell_type": "code",
   "execution_count": 60,
   "id": "ee989c8c-5de2-4e00-aaa3-e9b446cbb747",
   "metadata": {},
   "outputs": [
    {
     "name": "stderr",
     "output_type": "stream",
     "text": [
      "100%|████████████████████████████████████| 2907/2907 [00:00<00:00, 46591.45it/s]"
     ]
    },
    {
     "name": "stdout",
     "output_type": "stream",
     "text": [
      "Wrote 2907 records to v1_unannotated.jsonl\n"
     ]
    },
    {
     "name": "stderr",
     "output_type": "stream",
     "text": [
      "\n"
     ]
    }
   ],
   "source": [
    "dump_jsonl(\"unannotated/v1_unannotated.jsonl\", rows, append=False, progress=True)"
   ]
  },
  {
   "cell_type": "code",
   "execution_count": null,
   "id": "59abe020-8a76-4984-98c8-1a9460bfe7d6",
   "metadata": {},
   "outputs": [],
   "source": []
  },
  {
   "cell_type": "code",
   "execution_count": 57,
   "id": "bc03a1e7",
   "metadata": {},
   "outputs": [],
   "source": [
    "# from tqdm import tqdm\n",
    "\n",
    "# dump_jsonl(rows, \"unannotated/v1_unannotated.jsonl\", append=False, progress=True)\n",
    "# dump_jsonl(rows[0:20], \"unannotated/v1_unannotated_p1.jsonl\", append=False, progress=True)\n",
    "# dump_jsonl(rows[20:50], \"unannotated/v1_unannotated_p2.jsonl\", append=False, progress=True)\n",
    "# dump_jsonl(rows[50:1050], \"unannotated/v1_unannotated_p3.jsonl\", append=False, progress=True)\n"
   ]
  },
  {
   "cell_type": "code",
   "execution_count": 58,
   "id": "49d2124f",
   "metadata": {},
   "outputs": [],
   "source": [
    "# dump_jsonl(rows[1050:], \"unannotated/v1_unannotated_p4.jsonl\", append=False, progress=True)"
   ]
  },
  {
   "cell_type": "code",
   "execution_count": null,
   "id": "a2246953",
   "metadata": {},
   "outputs": [],
   "source": []
  },
  {
   "cell_type": "code",
   "execution_count": null,
   "id": "33224233",
   "metadata": {},
   "outputs": [],
   "source": []
  },
  {
   "cell_type": "code",
   "execution_count": null,
   "id": "d26ee79f",
   "metadata": {},
   "outputs": [],
   "source": []
  },
  {
   "cell_type": "code",
   "execution_count": null,
   "id": "48767c0f",
   "metadata": {},
   "outputs": [],
   "source": []
  }
 ],
 "metadata": {
  "kernelspec": {
   "display_name": "Python 3 (ipykernel)",
   "language": "python",
   "name": "python3"
  },
  "language_info": {
   "codemirror_mode": {
    "name": "ipython",
    "version": 3
   },
   "file_extension": ".py",
   "mimetype": "text/x-python",
   "name": "python",
   "nbconvert_exporter": "python",
   "pygments_lexer": "ipython3",
   "version": "3.9.7"
  }
 },
 "nbformat": 4,
 "nbformat_minor": 5
}
