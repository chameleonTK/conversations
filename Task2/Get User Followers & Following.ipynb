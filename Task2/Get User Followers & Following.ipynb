{
 "cells": [
  {
   "cell_type": "code",
   "execution_count": 1,
   "id": "a6d93813",
   "metadata": {},
   "outputs": [],
   "source": [
    "import requests"
   ]
  },
  {
   "cell_type": "code",
   "execution_count": 2,
   "id": "bed86b2c",
   "metadata": {},
   "outputs": [],
   "source": [
    "import json\n",
    "\n",
    "def dump_jsonl(data, output_path, append=False, progress=False):\n",
    "    \"\"\"\n",
    "    Write list of objects to a JSON lines file.\n",
    "    \"\"\"\n",
    "    mode = 'a+' if append else 'w'\n",
    "    with open(output_path, mode, encoding='utf-8') as f:\n",
    "        if progress:\n",
    "            data = tqdm(data)\n",
    "            \n",
    "        for line in data:\n",
    "            json_record = json.dumps(line, ensure_ascii=False)\n",
    "            f.write(json_record + '\\n')\n",
    "    print('Wrote {} records to {}'.format(len(data), output_path))\n",
    "\n",
    "def load_jsonl(input_path, verbose=True, progress=False) -> list:\n",
    "    \"\"\"\n",
    "    Read list of objects from a JSON lines file.\n",
    "    \"\"\"\n",
    "    data = []\n",
    "    with open(input_path, 'r', encoding='utf-8') as f:\n",
    "        if progress:\n",
    "            f = tqdm(f)\n",
    "            \n",
    "        for line in f:\n",
    "                data.append(json.loads(line.rstrip('\\n|\\r')))\n",
    "    \n",
    "    if verbose:\n",
    "        print('Loaded {} records from {}'.format(len(data), input_path))\n",
    "        \n",
    "    return data\n"
   ]
  },
  {
   "cell_type": "code",
   "execution_count": 3,
   "id": "6fb6806b",
   "metadata": {},
   "outputs": [],
   "source": [
    "# !pip install tweepy"
   ]
  },
  {
   "cell_type": "code",
   "execution_count": 4,
   "id": "fae5da81",
   "metadata": {},
   "outputs": [],
   "source": [
    "import tweepy\n",
    "\n",
    "consumer_key = \"*\"\n",
    "consumer_secret = \"*\"\n",
    "bearer_token = \"*\"\n",
    "access_token = \"*\"\n",
    "access_token_secret = \"*\""
   ]
  },
  {
   "cell_type": "code",
   "execution_count": 5,
   "id": "c8b8d369",
   "metadata": {},
   "outputs": [],
   "source": [
    "client = tweepy.Client(bearer_token, wait_on_rate_limit=True)"
   ]
  },
  {
   "cell_type": "code",
   "execution_count": null,
   "id": "59fbb52a",
   "metadata": {},
   "outputs": [],
   "source": []
  },
  {
   "cell_type": "markdown",
   "id": "89a59db1",
   "metadata": {},
   "source": [
    "# Load conversations"
   ]
  },
  {
   "cell_type": "code",
   "execution_count": 6,
   "id": "be666fd2",
   "metadata": {},
   "outputs": [
    {
     "name": "stdout",
     "output_type": "stream",
     "text": [
      "Loaded 3391 records from twarc2_conversation.jsonl\n"
     ]
    }
   ],
   "source": [
    "conversations = load_jsonl(\"twarc2_conversation.jsonl\")"
   ]
  },
  {
   "cell_type": "code",
   "execution_count": 7,
   "id": "a65e07b9",
   "metadata": {},
   "outputs": [],
   "source": [
    "def get_tweet_graph(conversation):\n",
    "    \n",
    "    tweet_graph = defaultdict(list)\n",
    "\n",
    "    for tweet in conversation:\n",
    "        for parent_tweet in tweet[\"referenced_tweets\"]:\n",
    "#             if parent_tweet[\"type\"]==\"quoted\":\n",
    "#                 continue\n",
    "            tweet_graph[parent_tweet[\"id\"]].append(tweet[\"id\"])\n",
    "                \n",
    "    return tweet_graph"
   ]
  },
  {
   "cell_type": "code",
   "execution_count": null,
   "id": "a6eb0554",
   "metadata": {},
   "outputs": [],
   "source": []
  },
  {
   "cell_type": "code",
   "execution_count": 8,
   "id": "9a28d9b0",
   "metadata": {},
   "outputs": [
    {
     "name": "stdout",
     "output_type": "stream",
     "text": [
      "Loaded 185750 records from conversations/tweets_v2.jsonl\n"
     ]
    }
   ],
   "source": [
    "tweets = load_jsonl(f\"conversations/tweets_v2.jsonl\")"
   ]
  },
  {
   "cell_type": "code",
   "execution_count": 9,
   "id": "f4ecf121",
   "metadata": {},
   "outputs": [],
   "source": [
    "id2tweet = {}\n",
    "for tweet in tweets:\n",
    "    if tweet is None:\n",
    "        continue\n",
    "        \n",
    "    if type(tweet)==list:\n",
    "        id2tweet[tweet[0][\"value\"]] = tweet[0]\n",
    "        continue\n",
    "\n",
    "    if \"id\" not in tweet:\n",
    "        id2tweet[tweet[\"resource_id\"]] = tweet\n",
    "        continue\n",
    "\n",
    "    id2tweet[tweet[\"id\"]] = tweet\n",
    "    if \"expansions\" in tweet:\n",
    "        for expantion_tweet in tweet[\"expansions\"][\"tweets\"]:\n",
    "            id2tweet[expantion_tweet[\"id\"]] = expantion_tweet\n"
   ]
  },
  {
   "cell_type": "code",
   "execution_count": null,
   "id": "c3d32ac1",
   "metadata": {},
   "outputs": [],
   "source": []
  },
  {
   "cell_type": "markdown",
   "id": "8aa7338c",
   "metadata": {},
   "source": [
    "## Build Tweet graph"
   ]
  },
  {
   "cell_type": "code",
   "execution_count": 10,
   "id": "7c36c2af",
   "metadata": {},
   "outputs": [],
   "source": [
    "def get_path(curr, tweet_graph):\n",
    "    if curr not in tweet_graph:\n",
    "        return [f\"{curr}\"]\n",
    "\n",
    "    if len(tweet_graph[curr])==0:\n",
    "        return [f\"{curr}\"]\n",
    "\n",
    "    paths = []\n",
    "    for next_tweet in tweet_graph[curr]:\n",
    "        next_paths = get_path(next_tweet, tweet_graph)\n",
    "        for path in next_paths:\n",
    "            paths.append(f\"{curr} > {path}\")\n",
    "    return paths\n"
   ]
  },
  {
   "cell_type": "code",
   "execution_count": 11,
   "id": "5046165c",
   "metadata": {},
   "outputs": [],
   "source": [
    "from collections import defaultdict\n",
    "\n",
    "n_path = 0\n",
    "n_skip = 0\n",
    "\n",
    "path_depth = []\n",
    "user_count = []\n",
    "selected_paths = []\n",
    "for conv in conversations:\n",
    "    tweet_graph = get_tweet_graph(conv[\"data\"])\n",
    "    paths = get_path(conv[\"data\"][0][\"conversation_id\"], tweet_graph)\n",
    "\n",
    "    for p in paths:\n",
    "        n_path += 1\n",
    "        tweetids = p.split(\" > \")\n",
    "        \n",
    "        user_ids_in_conv = set()\n",
    "        for twid in tweetids:\n",
    "            if twid not in id2tweet:\n",
    "                user_ids_in_conv.add(\"deleted\")\n",
    "                continue\n",
    "            elif id2tweet[twid] is None:\n",
    "                user_ids_in_conv.add(\"deleted\")\n",
    "                continue\n",
    "            elif \"author_id\" not in id2tweet[twid]:\n",
    "                user_ids_in_conv.add(\"unknown\")\n",
    "                continue\n",
    "            else:\n",
    "                user_ids_in_conv.add(id2tweet[twid][\"author_id\"])\n",
    "        \n",
    "        nuser = len(user_ids_in_conv)\n",
    "        if \"unknown\" in user_ids_in_conv:\n",
    "            nuser -= 1\n",
    "        \n",
    "        if nuser==1:\n",
    "            n_skip += 1\n",
    "            continue\n",
    "        \n",
    "        if len(tweetids) > 10:\n",
    "            n_skip += 1\n",
    "            continue\n",
    "            \n",
    "        selected_paths.append(tweetids)\n",
    "        path_depth.append(len(tweetids))\n",
    "        user_count.append(nuser)"
   ]
  },
  {
   "cell_type": "code",
   "execution_count": null,
   "id": "b98633d9",
   "metadata": {},
   "outputs": [],
   "source": []
  },
  {
   "cell_type": "markdown",
   "id": "0bd9781b",
   "metadata": {},
   "source": [
    "# Export for annotations"
   ]
  },
  {
   "cell_type": "code",
   "execution_count": 12,
   "id": "8a296e05",
   "metadata": {},
   "outputs": [],
   "source": [
    "import random\n",
    "import re\n",
    "\n",
    "def htmlspecialchars(text):\n",
    "    return (\n",
    "        text.replace(\"&amp;\", \"&\").\n",
    "        replace(\"&quot;\", '\"').\n",
    "        replace(\"&lt;\", \"<\").\n",
    "        replace(\"&gt;\", \">\")\n",
    "    )\n",
    "\n",
    "rows = []\n",
    "for path in selected_paths:\n",
    "    \n",
    "    text = []\n",
    "    userid = {}\n",
    "    skip = False\n",
    "    if len(path) <= 2:\n",
    "        continue\n",
    "        \n",
    "    for twid in path:\n",
    "        if twid not in id2tweet:\n",
    "            skip = True\n",
    "            break\n",
    "            \n",
    "        tweet = id2tweet[twid]\n",
    "        if tweet is None:\n",
    "            skip = True\n",
    "            break\n",
    "            \n",
    "        if \"author_id\" not in tweet:\n",
    "            # text.append((\"unknown\", tweet[\"text\"]))\n",
    "            skip = True\n",
    "            break\n",
    "        \n",
    "        \n",
    "        userid[tweet[\"author_id\"]] = True\n",
    "        text.append((tweet[\"author_id\"], tweet[\"text\"]))\n",
    "        \n",
    "    if skip:\n",
    "        continue\n",
    "        \n",
    "    userid2name = {\"unknown\":\"???\"}\n",
    "    \n",
    "    if len(userid) > 2:\n",
    "        continue\n",
    "        \n",
    "    for idx, u in enumerate(userid):\n",
    "        userid2name[u] = chr(ord(\"A\")+idx)\n",
    "    \n",
    "    if text[0][0] == text[1][0]: \n",
    "        continue\n",
    "        \n",
    "    s = \"\"\n",
    "    for t in text:\n",
    "        tt = ' '.join(re.sub(\"(@[A-Za-z0-9_]+)|(\\w+:\\/\\/\\S+)\",\" \", t[1]).split())\n",
    "        tt = htmlspecialchars(tt)\n",
    "        s += f\"{userid2name[t[0]]}: {tt}\\n\\n\"\n",
    "\n",
    "    rows.append({\n",
    "        \"text\": s,\n",
    "        \"label\": [],\n",
    "        \"tweet\": f\"https://twitter.com/i/web/status/{path[-1]}\",\n",
    "        \"user\": set([t[0] for t in text])\n",
    "    })\n",
    "    \n",
    "random.Random(41).shuffle(rows)"
   ]
  },
  {
   "cell_type": "code",
   "execution_count": 13,
   "id": "30305d1d",
   "metadata": {},
   "outputs": [
    {
     "data": {
      "text/plain": [
       "2907"
      ]
     },
     "execution_count": 13,
     "metadata": {},
     "output_type": "execute_result"
    }
   ],
   "source": [
    "len(rows)"
   ]
  },
  {
   "cell_type": "code",
   "execution_count": 14,
   "id": "bc03a1e7",
   "metadata": {},
   "outputs": [
    {
     "data": {
      "text/plain": [
       "{'text': 'A: ใครอารมณ์ดี มาดูคลิปนี้ ไม่ถึงนาที คิ้วขมวดแบบอยากต่อยกำแพง\\n\\nB: \\n\\nB: \\n\\nB: \\n\\n',\n",
       " 'label': [],\n",
       " 'tweet': 'https://twitter.com/i/web/status/1583442127739973632',\n",
       " 'user': {'423283880', '999556736854867968'}}"
      ]
     },
     "execution_count": 14,
     "metadata": {},
     "output_type": "execute_result"
    }
   ],
   "source": [
    "rows[50]"
   ]
  },
  {
   "cell_type": "code",
   "execution_count": null,
   "id": "49d2124f",
   "metadata": {},
   "outputs": [],
   "source": []
  },
  {
   "cell_type": "markdown",
   "id": "18b54315",
   "metadata": {},
   "source": [
    "# Fetch Followers "
   ]
  },
  {
   "cell_type": "code",
   "execution_count": 62,
   "id": "adf297e7",
   "metadata": {},
   "outputs": [],
   "source": [
    "userids = set()\n",
    "for row in rows[:1050]:\n",
    "    userids.update(row[\"user\"])"
   ]
  },
  {
   "cell_type": "code",
   "execution_count": null,
   "id": "f81c9736",
   "metadata": {},
   "outputs": [],
   "source": []
  },
  {
   "cell_type": "code",
   "execution_count": 63,
   "id": "f7d2a3d2",
   "metadata": {},
   "outputs": [],
   "source": [
    "from os import listdir\n",
    "from os.path import isfile, join\n",
    "\n",
    "users = {}\n",
    "\n",
    "path = \"./followings/\"\n",
    "for f in listdir(path):\n",
    "    if isfile(join(path, f)) and f.endswith(\".json\"):\n",
    "        uid = f[:-5]\n",
    "        users[uid] = True"
   ]
  },
  {
   "cell_type": "code",
   "execution_count": 64,
   "id": "50106428",
   "metadata": {},
   "outputs": [],
   "source": [
    "# following => acoount that you follow\n",
    "# follower => acoount that follow you"
   ]
  },
  {
   "cell_type": "code",
   "execution_count": null,
   "id": "ac20f752",
   "metadata": {},
   "outputs": [],
   "source": []
  },
  {
   "cell_type": "code",
   "execution_count": 67,
   "id": "9e79fa1c",
   "metadata": {},
   "outputs": [
    {
     "data": {
      "text/plain": [
       "0.9985683607730852"
      ]
     },
     "execution_count": 67,
     "metadata": {},
     "output_type": "execute_result"
    }
   ],
   "source": [
    "len(users)/len(userids)"
   ]
  },
  {
   "cell_type": "code",
   "execution_count": 68,
   "id": "33224233",
   "metadata": {},
   "outputs": [
    {
     "name": "stderr",
     "output_type": "stream",
     "text": [
      "100%|█████████████████████████████████████████████████████████████████████████████████████████████████████████████████████████████████████████████████████████████████████████████████████████████████| 1397/1397 [00:00<00:00, 687808.74it/s]\n"
     ]
    }
   ],
   "source": [
    "import os\n",
    "from tqdm import tqdm\n",
    "\n",
    "cmd = []\n",
    "for uid in tqdm(userids, total=len(userids)):\n",
    "    if uid in users:\n",
    "        continue\n",
    "        \n",
    "#     stream = os.popen(f'twarc2 following --limit 500 --hide-progress {uid} followings/{uid}.json')\n",
    "#     output = stream.read()\n",
    "#     output = json.loads(output)\n",
    "\n",
    "#     stream = os.popen(f'twarc2 followers --limit 10 --hide-progress {uid} followers/{uid}.json')\n",
    "#     output = stream.read()\n",
    "#     output = json.loads(output)\n",
    "\n",
    "    cmd.append(f'twarc2 following --limit 500 {uid} followings/{uid}.json')\n",
    "    cmd.append(f'twarc2 followers --limit 10 {uid} followers/{uid}.json')\n",
    "#     users[uid] = True"
   ]
  },
  {
   "cell_type": "code",
   "execution_count": 69,
   "id": "1844ad84",
   "metadata": {},
   "outputs": [],
   "source": [
    "with open(\"get_user_info.sh\", \"w\") as fin:\n",
    "    fin.write(\"#!/bin/bash\\n\")\n",
    "    for c in cmd:\n",
    "        fin.write(c+\"\\n\")"
   ]
  },
  {
   "cell_type": "code",
   "execution_count": 70,
   "id": "ca107966",
   "metadata": {},
   "outputs": [
    {
     "data": {
      "text/plain": [
       "1395"
      ]
     },
     "execution_count": 70,
     "metadata": {},
     "output_type": "execute_result"
    }
   ],
   "source": [
    "len(users)"
   ]
  },
  {
   "cell_type": "code",
   "execution_count": null,
   "id": "556146aa",
   "metadata": {},
   "outputs": [],
   "source": []
  },
  {
   "cell_type": "code",
   "execution_count": null,
   "id": "ce9aa571",
   "metadata": {},
   "outputs": [],
   "source": []
  }
 ],
 "metadata": {
  "kernelspec": {
   "display_name": "Python 3 (ipykernel)",
   "language": "python",
   "name": "python3"
  },
  "language_info": {
   "codemirror_mode": {
    "name": "ipython",
    "version": 3
   },
   "file_extension": ".py",
   "mimetype": "text/x-python",
   "name": "python",
   "nbconvert_exporter": "python",
   "pygments_lexer": "ipython3",
   "version": "3.9.7"
  }
 },
 "nbformat": 4,
 "nbformat_minor": 5
}
