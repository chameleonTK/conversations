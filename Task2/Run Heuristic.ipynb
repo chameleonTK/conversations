{
 "cells": [
  {
   "cell_type": "code",
   "execution_count": 1,
   "id": "e6412a41",
   "metadata": {},
   "outputs": [],
   "source": [
    "import json\n",
    "\n",
    "def dump_jsonl(data, output_path, append=False, progress=False):\n",
    "    \"\"\"\n",
    "    Write list of objects to a JSON lines file.\n",
    "    \"\"\"\n",
    "    mode = 'a+' if append else 'w'\n",
    "    with open(output_path, mode, encoding='utf-8') as f:\n",
    "        if progress:\n",
    "            data = tqdm(data)\n",
    "            \n",
    "        for line in data:\n",
    "            json_record = json.dumps(line, ensure_ascii=False)\n",
    "            f.write(json_record + '\\n')\n",
    "    print('Wrote {} records to {}'.format(len(data), output_path))\n",
    "\n",
    "def load_jsonl(input_path, verbose=True, progress=False) -> list:\n",
    "    \"\"\"\n",
    "    Read list of objects from a JSON lines file.\n",
    "    \"\"\"\n",
    "    data = []\n",
    "    with open(input_path, 'r', encoding='utf-8') as f:\n",
    "        if progress:\n",
    "            f = tqdm(f)\n",
    "            \n",
    "        for line in f:\n",
    "                data.append(json.loads(line.rstrip('\\n|\\r')))\n",
    "    \n",
    "    if verbose:\n",
    "        print('Loaded {} records from {}'.format(len(data), input_path))\n",
    "        \n",
    "    return data\n"
   ]
  },
  {
   "cell_type": "markdown",
   "id": "93c8bc1d",
   "metadata": {},
   "source": [
    "# Load conversaions"
   ]
  },
  {
   "cell_type": "code",
   "execution_count": 2,
   "id": "0888c504",
   "metadata": {},
   "outputs": [
    {
     "name": "stdout",
     "output_type": "stream",
     "text": [
      "Loaded 3391 records from twarc2_conversation.jsonl\n"
     ]
    }
   ],
   "source": [
    "conversations = load_jsonl(\"twarc2_conversation.jsonl\")"
   ]
  },
  {
   "cell_type": "code",
   "execution_count": 3,
   "id": "34bd528a",
   "metadata": {},
   "outputs": [
    {
     "name": "stdout",
     "output_type": "stream",
     "text": [
      "Loaded 185750 records from conversations/tweets_v2.jsonl\n"
     ]
    }
   ],
   "source": [
    "tweets = load_jsonl(f\"conversations/tweets_v2.jsonl\")"
   ]
  },
  {
   "cell_type": "code",
   "execution_count": 4,
   "id": "d64cebc7",
   "metadata": {},
   "outputs": [],
   "source": [
    "id2tweet = {}\n",
    "for tweet in tweets:\n",
    "    if tweet is None:\n",
    "        continue\n",
    "        \n",
    "    if type(tweet)==list:\n",
    "        id2tweet[tweet[0][\"value\"]] = tweet[0]\n",
    "        continue\n",
    "\n",
    "    if \"id\" not in tweet:\n",
    "        id2tweet[tweet[\"resource_id\"]] = tweet\n",
    "        continue\n",
    "\n",
    "    id2tweet[tweet[\"id\"]] = tweet\n",
    "    if \"expansions\" in tweet:\n",
    "        for expantion_tweet in tweet[\"expansions\"][\"tweets\"]:\n",
    "            id2tweet[expantion_tweet[\"id\"]] = expantion_tweet\n"
   ]
  },
  {
   "cell_type": "markdown",
   "id": "49ad2400",
   "metadata": {},
   "source": [
    "## Get conversation graph"
   ]
  },
  {
   "cell_type": "code",
   "execution_count": 6,
   "id": "56bfbcf3",
   "metadata": {},
   "outputs": [],
   "source": [
    "def get_tweet_graph(conversation):\n",
    "    \n",
    "    tweet_graph = defaultdict(list)\n",
    "\n",
    "    for tweet in conversation:\n",
    "        for parent_tweet in tweet[\"referenced_tweets\"]:\n",
    "#             if parent_tweet[\"type\"]==\"quoted\":\n",
    "#                 continue\n",
    "            tweet_graph[parent_tweet[\"id\"]].append(tweet[\"id\"])\n",
    "                \n",
    "    return tweet_graph\n",
    "\n",
    "def get_path(curr, tweet_graph):\n",
    "    if curr not in tweet_graph:\n",
    "        return [f\"{curr}\"]\n",
    "\n",
    "    if len(tweet_graph[curr])==0:\n",
    "        return [f\"{curr}\"]\n",
    "\n",
    "    paths = []\n",
    "    for next_tweet in tweet_graph[curr]:\n",
    "        next_paths = get_path(next_tweet, tweet_graph)\n",
    "        for path in next_paths:\n",
    "            paths.append(f\"{curr} > {path}\")\n",
    "    return paths"
   ]
  },
  {
   "cell_type": "code",
   "execution_count": 7,
   "id": "94aab907",
   "metadata": {},
   "outputs": [],
   "source": [
    "from collections import defaultdict\n",
    "\n",
    "n_path = 0\n",
    "n_skip = 0\n",
    "\n",
    "path_depth = []\n",
    "user_count = []\n",
    "selected_paths = []\n",
    "for conv in conversations:\n",
    "    tweet_graph = get_tweet_graph(conv[\"data\"])\n",
    "    paths = get_path(conv[\"data\"][0][\"conversation_id\"], tweet_graph)\n",
    "\n",
    "    for p in paths:\n",
    "        n_path += 1\n",
    "        tweetids = p.split(\" > \")\n",
    "        \n",
    "        user_ids_in_conv = set()\n",
    "        for twid in tweetids:\n",
    "            if twid not in id2tweet:\n",
    "                user_ids_in_conv.add(\"deleted\")\n",
    "                continue\n",
    "            elif id2tweet[twid] is None:\n",
    "                user_ids_in_conv.add(\"deleted\")\n",
    "                continue\n",
    "            elif \"author_id\" not in id2tweet[twid]:\n",
    "                user_ids_in_conv.add(\"unknown\")\n",
    "                continue\n",
    "            else:\n",
    "                user_ids_in_conv.add(id2tweet[twid][\"author_id\"])\n",
    "        \n",
    "        nuser = len(user_ids_in_conv)\n",
    "        if \"unknown\" in user_ids_in_conv:\n",
    "            nuser -= 1\n",
    "        \n",
    "        if nuser==1:\n",
    "            n_skip += 1\n",
    "            continue\n",
    "        \n",
    "        if len(tweetids) > 10:\n",
    "            n_skip += 1\n",
    "            continue\n",
    "            \n",
    "        selected_paths.append(tweetids)\n",
    "        path_depth.append(len(tweetids))\n",
    "        user_count.append(nuser)"
   ]
  },
  {
   "cell_type": "code",
   "execution_count": 28,
   "id": "878b6671",
   "metadata": {},
   "outputs": [],
   "source": [
    "import random\n",
    "import re\n",
    "\n",
    "def htmlspecialchars(text):\n",
    "    return (\n",
    "        text.replace(\"&amp;\", \"&\").\n",
    "        replace(\"&quot;\", '\"').\n",
    "        replace(\"&lt;\", \"<\").\n",
    "        replace(\"&gt;\", \">\")\n",
    "    )\n",
    "\n",
    "rows = []\n",
    "for path in selected_paths:\n",
    "    \n",
    "    text = []\n",
    "    userid = {}\n",
    "    skip = False\n",
    "    if len(path) <= 2:\n",
    "        continue\n",
    "        \n",
    "    for twid in path:\n",
    "        if twid not in id2tweet:\n",
    "            skip = True\n",
    "            break\n",
    "            \n",
    "        tweet = id2tweet[twid]\n",
    "        if tweet is None:\n",
    "            skip = True\n",
    "            break\n",
    "            \n",
    "        if \"author_id\" not in tweet:\n",
    "            # text.append((\"unknown\", tweet[\"text\"]))\n",
    "            skip = True\n",
    "            break\n",
    "        \n",
    "        \n",
    "        userid[tweet[\"author_id\"]] = True\n",
    "        text.append((tweet[\"author_id\"], tweet[\"text\"]))\n",
    "        \n",
    "    if skip:\n",
    "        continue\n",
    "        \n",
    "    userid2name = {\"unknown\":\"???\"}\n",
    "    \n",
    "    if len(userid) > 2:\n",
    "        continue\n",
    "        \n",
    "    for idx, u in enumerate(userid):\n",
    "        userid2name[u] = chr(ord(\"A\")+idx)\n",
    "    \n",
    "    if text[0][0] == text[1][0]: \n",
    "        continue\n",
    "        \n",
    "    s = \"\"\n",
    "    for t in text:\n",
    "        tt = ' '.join(re.sub(\"(@[A-Za-z0-9_]+)|(\\w+:\\/\\/\\S+)\",\" \", t[1]).split())\n",
    "        tt = htmlspecialchars(tt)\n",
    "        s += f\"{userid2name[t[0]]}: {tt}\\n\\n\"\n",
    "\n",
    "    rows.append({\n",
    "        \"text\": s,\n",
    "        \"label\": [],\n",
    "        \"path\": \">\".join(path),\n",
    "        \"tweet\": f\"https://twitter.com/i/web/status/{path[-1]}\",\n",
    "        \"user\": set([t[0] for t in text])\n",
    "    })\n",
    "    \n",
    "random.Random(41).shuffle(rows)"
   ]
  },
  {
   "cell_type": "code",
   "execution_count": 29,
   "id": "9bc024be",
   "metadata": {},
   "outputs": [
    {
     "data": {
      "text/plain": [
       "{'text': 'A: ใครอารมณ์ดี มาดูคลิปนี้ ไม่ถึงนาที คิ้วขมวดแบบอยากต่อยกำแพง\\n\\nB: \\n\\nB: \\n\\nB: \\n\\n',\n",
       " 'label': [],\n",
       " 'path': '1582717046650830848>1583441018363338753>1583441668979585024>1583442127739973632',\n",
       " 'tweet': 'https://twitter.com/i/web/status/1583442127739973632',\n",
       " 'user': {'423283880', '999556736854867968'}}"
      ]
     },
     "execution_count": 29,
     "metadata": {},
     "output_type": "execute_result"
    }
   ],
   "source": [
    "rows[50]"
   ]
  },
  {
   "cell_type": "code",
   "execution_count": 34,
   "id": "17eac47c",
   "metadata": {},
   "outputs": [],
   "source": [
    "import pandas as pd\n",
    "\n",
    "_df = []\n",
    "for row in rows:\n",
    "    _df.append({\n",
    "        \"text\": row[\"text\"],\n",
    "        \"tweet\": row[\"tweet\"],\n",
    "        \"path\": row[\"path\"],\n",
    "        \n",
    "    })\n",
    "    \n",
    "df = pd.DataFrame(_df)"
   ]
  },
  {
   "cell_type": "code",
   "execution_count": null,
   "id": "eca4bb3c",
   "metadata": {},
   "outputs": [],
   "source": []
  },
  {
   "cell_type": "markdown",
   "id": "b59fa2e5",
   "metadata": {},
   "source": [
    "## Load Annotated"
   ]
  },
  {
   "cell_type": "code",
   "execution_count": 16,
   "id": "d315c29e",
   "metadata": {},
   "outputs": [
    {
     "name": "stdout",
     "output_type": "stream",
     "text": [
      "Loaded 1000 records from annotated/v1.0/authority_1.0/arm.jsonl\n"
     ]
    }
   ],
   "source": []
  },
  {
   "cell_type": "code",
   "execution_count": 47,
   "id": "d05c6f03",
   "metadata": {},
   "outputs": [
    {
     "data": {
      "text/plain": [
       "<function pandas.core.dtypes.missing.isna(obj)>"
      ]
     },
     "execution_count": 47,
     "metadata": {},
     "output_type": "execute_result"
    }
   ],
   "source": []
  },
  {
   "cell_type": "code",
   "execution_count": 53,
   "id": "9df2f20a",
   "metadata": {},
   "outputs": [
    {
     "name": "stdout",
     "output_type": "stream",
     "text": [
      "Loaded 1000 records from annotated/v1.0/authority_1.0/arm.jsonl\n"
     ]
    }
   ],
   "source": [
    "_df = []\n",
    "annotated = load_jsonl(\"annotated/v1.0/authority_1.0/arm.jsonl\")\n",
    "\n",
    "def authority_to_degree(label):\n",
    "    if label == 'B ให้เกียรติ':\n",
    "        return 1\n",
    "    elif label == 'B ทำตัวปกติ':\n",
    "        return 0.5\n",
    "    elif label == 'B ไม่ให้เกียรติกัน':\n",
    "        return 0\n",
    "    else:\n",
    "        return None\n",
    "    \n",
    "for row in annotated:\n",
    "    if len(row[\"label\"])==0:\n",
    "        continue\n",
    "        \n",
    "    _df.append({\n",
    "        \"text\": row[\"text\"],\n",
    "        \"tweet\": row[\"tweet\"],\n",
    "        \"authority\": row[\"label\"][0],\n",
    "        \"authority_degree\": authority_to_degree(row[\"label\"][0])\n",
    "    })\n",
    "    \n",
    "    \n",
    "    \n",
    "auth_df = pd.DataFrame(_df)"
   ]
  },
  {
   "cell_type": "code",
   "execution_count": 54,
   "id": "466b2704",
   "metadata": {},
   "outputs": [
    {
     "name": "stdout",
     "output_type": "stream",
     "text": [
      "\u001b[34mauthority_1.0\u001b[m\u001b[m/ \u001b[34mcloseness_1.0\u001b[m\u001b[m/\r\n"
     ]
    }
   ],
   "source": [
    "ls annotated/v1.0/"
   ]
  },
  {
   "cell_type": "code",
   "execution_count": 62,
   "id": "c8198ed8",
   "metadata": {},
   "outputs": [
    {
     "name": "stdout",
     "output_type": "stream",
     "text": [
      "Loaded 1000 records from annotated/v1.0/closeness_1.0/arm.jsonl\n"
     ]
    }
   ],
   "source": [
    "_df = []\n",
    "annotated = load_jsonl(\"annotated/v1.0/closeness_1.0/arm.jsonl\")\n",
    "\n",
    "def closeness_to_degree(label):\n",
    "    if label == 'สนิทกันมาก':\n",
    "        return 1\n",
    "    elif label == 'แค่คนรู้จักกัน':\n",
    "        return 0.75\n",
    "    elif label == 'ไม่รู้จักกัน':\n",
    "        return 0.5\n",
    "    elif label == 'ไม่ชอบหน้ากัน':\n",
    "        return 0\n",
    "    else:\n",
    "        return None\n",
    "    \n",
    "for row in annotated:\n",
    "    if len(row[\"label\"])==0:\n",
    "        continue\n",
    "        \n",
    "    _df.append({\n",
    "#         \"text\": row[\"text\"],\n",
    "        \"tweet\": row[\"tweet\"],\n",
    "        \"closeness\": row[\"label\"][0],\n",
    "        \"closeness_degree\": closeness_to_degree(row[\"label\"][0])\n",
    "    })\n",
    "    \n",
    "    \n",
    "    \n",
    "close_df = pd.DataFrame(_df)"
   ]
  },
  {
   "cell_type": "code",
   "execution_count": 63,
   "id": "6954ca34",
   "metadata": {},
   "outputs": [],
   "source": [
    "annotated_df = pd.merge(auth_df, close_df, on=\"tweet\")"
   ]
  },
  {
   "cell_type": "code",
   "execution_count": 71,
   "id": "30940288",
   "metadata": {},
   "outputs": [],
   "source": [
    "assert(annotated_df[\"tweet\"].nunique()==len(annotated_df))"
   ]
  },
  {
   "cell_type": "code",
   "execution_count": 75,
   "id": "24f3cad0",
   "metadata": {},
   "outputs": [
    {
     "data": {
      "text/plain": [
       "Index(['text', 'tweet', 'path'], dtype='object')"
      ]
     },
     "execution_count": 75,
     "metadata": {},
     "output_type": "execute_result"
    }
   ],
   "source": [
    "df.columns"
   ]
  },
  {
   "cell_type": "code",
   "execution_count": 80,
   "id": "357a1380",
   "metadata": {},
   "outputs": [],
   "source": [
    "merged_df = pd.merge(df, annotated_df.drop([\"text\"], axis=1), on=\"tweet\", how=\"left\")"
   ]
  },
  {
   "cell_type": "code",
   "execution_count": 92,
   "id": "fdad919c",
   "metadata": {},
   "outputs": [],
   "source": [
    "# len(merged_df[~pd.isna(merged_df[\"authority\"])])"
   ]
  },
  {
   "cell_type": "code",
   "execution_count": null,
   "id": "4010789b",
   "metadata": {},
   "outputs": [],
   "source": []
  },
  {
   "cell_type": "markdown",
   "id": "765926ba",
   "metadata": {},
   "source": [
    "# Load Users"
   ]
  },
  {
   "cell_type": "code",
   "execution_count": null,
   "id": "9c99b8b7",
   "metadata": {},
   "outputs": [],
   "source": []
  },
  {
   "cell_type": "code",
   "execution_count": null,
   "id": "dbf5c2aa",
   "metadata": {},
   "outputs": [],
   "source": []
  },
  {
   "cell_type": "code",
   "execution_count": null,
   "id": "e1e10730",
   "metadata": {},
   "outputs": [],
   "source": []
  },
  {
   "cell_type": "markdown",
   "id": "dc5c04e9",
   "metadata": {},
   "source": [
    "## Run Heuristic"
   ]
  },
  {
   "cell_type": "code",
   "execution_count": null,
   "id": "106f53b9",
   "metadata": {},
   "outputs": [],
   "source": []
  },
  {
   "cell_type": "code",
   "execution_count": 141,
   "id": "c5f4490b",
   "metadata": {},
   "outputs": [
    {
     "data": {
      "text/plain": [
       "0    0.000000\n",
       "1    0.041667\n",
       "2         NaN\n",
       "3    0.000000\n",
       "4    0.372881\n",
       "5    0.009091\n",
       "6    0.000000\n",
       "7    0.059406\n",
       "8    0.269841\n",
       "9    0.014451\n",
       "dtype: float64"
      ]
     },
     "execution_count": 141,
     "metadata": {},
     "output_type": "execute_result"
    }
   ],
   "source": [
    "import json\n",
    "def load_jsonfile(filename):\n",
    "    data = None\n",
    "    try:\n",
    "        with open(filename, encoding=\"utf-8\") as fin:\n",
    "            data = json.load(fin)\n",
    "        \n",
    "        if \"meta\" not in data:\n",
    "            raise Exception(\"ERROR\")\n",
    "    except:\n",
    "        data = {\n",
    "            \"data\": [],\n",
    "            \"meta\": {\"result_count\": 0}\n",
    "        }\n",
    "        \n",
    "    return data\n",
    "\n",
    "def getUserAB(row):\n",
    "    twids = row[\"path\"].split(\">\")\n",
    "    userA = id2tweet[twids[0]][\"author_id\"]\n",
    "    userB = None\n",
    "    \n",
    "    for twid in twids:\n",
    "        uid = id2tweet[twid][\"author_id\"]\n",
    "        if uid != userA:\n",
    "            userB = uid\n",
    "    return userA, userB\n",
    "\n",
    "def estimate_closeness(row):\n",
    "    userA, userB = getUserAB(row)\n",
    "    friendA = load_jsonfile(f\"./followings/{userA}.json\")\n",
    "    friendB = load_jsonfile(f\"./followings/{userB}.json\")\n",
    "\n",
    "    NA = friendA[\"meta\"][\"result_count\"]\n",
    "    NB = friendB[\"meta\"][\"result_count\"]\n",
    "    \n",
    "    if NA==0 or NB==0:\n",
    "        return None\n",
    "    \n",
    "    fuidA = set()\n",
    "    for friend in friendA[\"data\"]:\n",
    "        fuidA.add(friend[\"id\"])\n",
    "    \n",
    "    fuidB = set()\n",
    "    for friend in friendB[\"data\"]:\n",
    "        fuidB.add(friend[\"id\"])\n",
    "\n",
    "    common_friends = fuidA.intersection(fuidB)\n",
    "    \n",
    "    # scale len(common_friends) because data is sampled\n",
    "    if NB<=500:\n",
    "        ncommon = len(common_friends)*NA/len(friendA[\"data\"])  \n",
    "    elif NA <=500:\n",
    "        ncommon = len(common_friends)*NB/len(friendB[\"data\"])\n",
    "    else:\n",
    "        if NB > NA:\n",
    "            ncommon = len(common_friends)*NA/len(friendA[\"data\"]) \n",
    "        else:\n",
    "            ncommon = len(common_friends)*NB/len(friendB[\"data\"])\n",
    "            \n",
    "    return ncommon/min(NA, NB)\n",
    "\n",
    "merged_df.head(10).apply(estimate_closeness, axis=1)"
   ]
  },
  {
   "cell_type": "code",
   "execution_count": 146,
   "id": "1c61bae8",
   "metadata": {},
   "outputs": [
    {
     "data": {
      "text/plain": [
       "0         NaN\n",
       "1    0.897778\n",
       "2    0.307692\n",
       "3    1.000000\n",
       "4    0.685000\n",
       "5    0.340000\n",
       "6    0.008219\n",
       "7    1.000000\n",
       "8    0.872000\n",
       "9    0.884250\n",
       "dtype: float64"
      ]
     },
     "execution_count": 146,
     "metadata": {},
     "output_type": "execute_result"
    }
   ],
   "source": [
    "def estimate_authority(row):\n",
    "    userA, userB = getUserAB(row)\n",
    "    friendA = load_jsonfile(f\"./followers/{userA}.json\")\n",
    "    friendB = load_jsonfile(f\"./followers/{userB}.json\")\n",
    "    \n",
    "    NA = friendA[\"meta\"][\"result_count\"]\n",
    "    NB = friendB[\"meta\"][\"result_count\"]\n",
    "\n",
    "    if NA==0 or NB==0:\n",
    "        return None\n",
    "    \n",
    "    return min(NB/NA, 1)\n",
    "\n",
    "merged_df.head(10).apply(estimate_authority, axis=1)"
   ]
  },
  {
   "cell_type": "code",
   "execution_count": 144,
   "id": "d7f43de4",
   "metadata": {},
   "outputs": [],
   "source": [
    "merged_df[\"est_closeness\"] = merged_df.apply(estimate_closeness, axis=1)"
   ]
  },
  {
   "cell_type": "code",
   "execution_count": 147,
   "id": "376a4781",
   "metadata": {},
   "outputs": [],
   "source": [
    "merged_df[\"est_authority\"] = merged_df.apply(estimate_authority, axis=1)"
   ]
  },
  {
   "cell_type": "code",
   "execution_count": null,
   "id": "f59ebbc5",
   "metadata": {},
   "outputs": [],
   "source": [
    "\"DONE\""
   ]
  },
  {
   "cell_type": "code",
   "execution_count": 150,
   "id": "8e599f3e",
   "metadata": {},
   "outputs": [],
   "source": [
    "valid_df = merged_df.dropna()"
   ]
  },
  {
   "cell_type": "code",
   "execution_count": 160,
   "id": "f6d8dcc5",
   "metadata": {},
   "outputs": [],
   "source": [
    "from scipy import stats"
   ]
  },
  {
   "cell_type": "code",
   "execution_count": 158,
   "id": "6b2620e5",
   "metadata": {},
   "outputs": [
    {
     "data": {
      "text/plain": [
       "SpearmanrResult(correlation=0.09667214581380294, pvalue=0.007982501899180601)"
      ]
     },
     "execution_count": 158,
     "metadata": {},
     "output_type": "execute_result"
    }
   ],
   "source": [
    "stats.spearmanr(valid_df[\"closeness_degree\"].values, valid_df[\"est_closeness\"].values)"
   ]
  },
  {
   "cell_type": "code",
   "execution_count": 159,
   "id": "47423761",
   "metadata": {},
   "outputs": [
    {
     "data": {
      "text/plain": [
       "SpearmanrResult(correlation=0.0784956330538063, pvalue=0.03137399152280078)"
      ]
     },
     "execution_count": 159,
     "metadata": {},
     "output_type": "execute_result"
    }
   ],
   "source": [
    "stats.spearmanr(valid_df[\"authority_degree\"].values, valid_df[\"est_authority\"].values)"
   ]
  },
  {
   "cell_type": "code",
   "execution_count": 164,
   "id": "7a643bfa",
   "metadata": {},
   "outputs": [],
   "source": [
    "# valid_df.groupby(\"closeness_degree\").average([\"est_closeness\"])"
   ]
  },
  {
   "cell_type": "code",
   "execution_count": 168,
   "id": "1b4159bf",
   "metadata": {},
   "outputs": [
    {
     "data": {
      "text/plain": [
       "array([[<AxesSubplot:title={'center':'0.0'}>,\n",
       "        <AxesSubplot:title={'center':'0.5'}>],\n",
       "       [<AxesSubplot:title={'center':'0.75'}>,\n",
       "        <AxesSubplot:title={'center':'1.0'}>]], dtype=object)"
      ]
     },
     "execution_count": 168,
     "metadata": {},
     "output_type": "execute_result"
    },
    {
     "data": {
      "image/png": "[encoded data removed]",
      "text/plain": [
       "<Figure size 432x288 with 4 Axes>"
      ]
     },
     "metadata": {
      "needs_background": "light"
     },
     "output_type": "display_data"
    }
   ],
   "source": [
    "valid_df['est_closeness'].hist(by=valid_df['closeness_degree'], range=(0, 1))"
   ]
  },
  {
   "cell_type": "code",
   "execution_count": 169,
   "id": "523833cd",
   "metadata": {},
   "outputs": [
    {
     "data": {
      "text/plain": [
       "array([[<AxesSubplot:title={'center':'0.0'}>,\n",
       "        <AxesSubplot:title={'center':'0.5'}>],\n",
       "       [<AxesSubplot:title={'center':'1.0'}>, <AxesSubplot:>]],\n",
       "      dtype=object)"
      ]
     },
     "execution_count": 169,
     "metadata": {},
     "output_type": "execute_result"
    },
    {
     "data": {
      "image/png": "[encoded data removed]",
      "text/plain": [
       "<Figure size 432x288 with 4 Axes>"
      ]
     },
     "metadata": {
      "needs_background": "light"
     },
     "output_type": "display_data"
    }
   ],
   "source": [
    "valid_df['est_authority'].hist(by=valid_df['authority_degree'], range=(0, 1))"
   ]
  },
  {
   "cell_type": "code",
   "execution_count": null,
   "id": "5cc0305c",
   "metadata": {},
   "outputs": [],
   "source": []
  }
 ],
 "metadata": {
  "kernelspec": {
   "display_name": "Python 3 (ipykernel)",
   "language": "python",
   "name": "python3"
  },
  "language_info": {
   "codemirror_mode": {
    "name": "ipython",
    "version": 3
   },
   "file_extension": ".py",
   "mimetype": "text/x-python",
   "name": "python",
   "nbconvert_exporter": "python",
   "pygments_lexer": "ipython3",
   "version": "3.9.7"
  }
 },
 "nbformat": 4,
 "nbformat_minor": 5
}
