{
 "cells": [
  {
   "cell_type": "code",
   "execution_count": 1,
   "id": "90f61a72-1396-4c74-8558-f80b47a0a39b",
   "metadata": {},
   "outputs": [],
   "source": [
    "import sys\n",
    "sys.path.append('..')"
   ]
  },
  {
   "cell_type": "code",
   "execution_count": 2,
   "id": "a345ff0b",
   "metadata": {},
   "outputs": [],
   "source": [
    "from utils import dump_jsonl, load_jsonl"
   ]
  },
  {
   "cell_type": "code",
   "execution_count": null,
   "id": "f31ca940",
   "metadata": {},
   "outputs": [],
   "source": []
  },
  {
   "cell_type": "code",
   "execution_count": 3,
   "id": "0cfda23a",
   "metadata": {},
   "outputs": [],
   "source": [
    "import pandas as pd\n",
    "\n",
    "users = [\"user1\", \"user2\", \"user3\"]\n",
    "\n",
    "def authority_to_eng(label):\n",
    "    if label == 'B ให้เกียรติ':\n",
    "        return \"1. Respect\"\n",
    "    elif label == 'B ทำตัวปกติ':\n",
    "        return \"2. Normal\"\n",
    "    elif label == 'B ไม่ให้เกียรติกัน':\n",
    "        return \"3. Not respect\"\n",
    "    else:\n",
    "        return None\n",
    "\n",
    "def closeness_to_eng(label):\n",
    "    if label == 'สนิทกันมาก':\n",
    "        return \"1. Close\"\n",
    "    elif label == 'สนิทกัน':\n",
    "        return \"1. Close\"\n",
    "    elif label == 'แค่คนรู้จักกัน':\n",
    "        return \"2. Know each other\"\n",
    "    elif label == 'ไม่รู้จักกัน':\n",
    "        return \"3. Don't know each other\"\n",
    "    elif label == 'ไม่ชอบหน้ากัน':\n",
    "        return \"4. Don't like each other\"\n",
    "    else:\n",
    "        return None\n",
    "    \n",
    "    \n",
    "def load_data(filename, column_name, fn=None):\n",
    "    annotated = load_jsonl(filename)\n",
    "    \n",
    "    _df = []\n",
    "    for row in annotated:\n",
    "        \n",
    "        if len(row[\"label\"])==0:\n",
    "            label = None\n",
    "        else:\n",
    "            if fn is None:\n",
    "                label = row[\"label\"][0]\n",
    "            else:\n",
    "                label = fn(row[\"label\"][0])\n",
    "\n",
    "        _df.append({\n",
    "            \"text\": row[\"text\"],\n",
    "            \"text_id\": row[\"id\"],\n",
    "            \"ref_idx\": row[\"idx\"],\n",
    "            column_name: label,\n",
    "        })\n",
    "    \n",
    "    return pd.DataFrame(_df)"
   ]
  },
  {
   "cell_type": "code",
   "execution_count": null,
   "id": "256ba3ae",
   "metadata": {},
   "outputs": [],
   "source": []
  },
  {
   "cell_type": "code",
   "execution_count": null,
   "id": "7a16a4a6-3165-4d7d-a061-9454b7670c6a",
   "metadata": {},
   "outputs": [],
   "source": []
  },
  {
   "cell_type": "code",
   "execution_count": 4,
   "id": "30120dc6-c5e7-46a8-b9e7-5f15cb0f537d",
   "metadata": {},
   "outputs": [],
   "source": [
    "\n",
    "\n",
    "def get_label_type(out_df, key):\n",
    "    \n",
    "    data_type = []\n",
    "    labels = []\n",
    "\n",
    "    for ridx, row in out_df.iterrows():\n",
    "        if row[f\"{key}_1\"]==row[f\"{key}_2\"] and row[f\"{key}_2\"]==row[f\"{key}_3\"]:\n",
    "            data_type.append(\"gold\")\n",
    "            labels.append(row[f\"{key}_1\"])\n",
    "\n",
    "        elif row[f\"{key}_1\"]!=row[f\"{key}_2\"] and row[f\"{key}_2\"]!=row[f\"{key}_3\"] and row[f\"{key}_1\"]!=row[f\"{key}_3\"]:\n",
    "            data_type.append(\"failed\")\n",
    "            labels.append(None)\n",
    "        else:\n",
    "            data_type.append(\"silver\")\n",
    "            if row[f\"{key}_1\"]==row[f\"{key}_2\"]:\n",
    "                labels.append(row[f\"{key}_1\"])\n",
    "            elif row[f\"{key}_1\"]==row[f\"{key}_3\"]:\n",
    "                labels.append(row[f\"{key}_1\"])\n",
    "            elif row[f\"{key}_2\"]==row[f\"{key}_3\"]:\n",
    "                labels.append(row[f\"{key}_2\"])\n",
    "            else:\n",
    "                raise Exception(\"Unknow situation\")\n",
    "\n",
    "    out_df[\"data_type\"] = data_type\n",
    "    out_df[key] = labels\n",
    "    \n",
    "    return out_df\n",
    "    \n",
    "    \n",
    "def get_data(key, fn):\n",
    "    out_df = load_data(f\"annotated/{key}/user0.jsonl\", key)\n",
    "    out_df = out_df[[\"text\", \"text_id\", \"ref_idx\"]]\n",
    "    \n",
    "    for uidx, u in enumerate(users):\n",
    "        df = load_data(f\"annotated/{key}/{u}.jsonl\", key, fn)\n",
    "        df.columns = ['text', 'text_id', \"ref_idx\", f'{key}_{uidx+1}']\n",
    "\n",
    "    #     df = df.drop_duplicates(subset=['text'])\n",
    "        df = df[['text_id', f'{key}_{uidx+1}']]\n",
    "\n",
    "        out_df = pd.merge(out_df, df, on=\"text_id\", how=\"left\")\n",
    "        print(len(out_df))\n",
    "        \n",
    "        # print(df[f'{key}_{uidx+1}'].unique())\n",
    "    \n",
    "    out_df = get_label_type(out_df, key)\n",
    "    return out_df"
   ]
  },
  {
   "cell_type": "markdown",
   "id": "15a6bc89",
   "metadata": {},
   "source": [
    "## Closeness"
   ]
  },
  {
   "cell_type": "code",
   "execution_count": 5,
   "id": "730ed6a2-3a01-4e4f-93a8-685cfd647ebb",
   "metadata": {},
   "outputs": [
    {
     "name": "stdout",
     "output_type": "stream",
     "text": [
      "Loaded 2639 records from annotated/closeness/user0.jsonl\n",
      "Loaded 2639 records from annotated/closeness/user1.jsonl\n",
      "2639\n",
      "Loaded 2639 records from annotated/closeness/user2.jsonl\n",
      "2639\n",
      "Loaded 2639 records from annotated/closeness/user3.jsonl\n",
      "2639\n"
     ]
    }
   ],
   "source": [
    "clos_df = get_data(\"closeness\", closeness_to_eng)"
   ]
  },
  {
   "cell_type": "code",
   "execution_count": 6,
   "id": "c346ebc5-d010-4af2-988e-6df5404e5dff",
   "metadata": {},
   "outputs": [
    {
     "data": {
      "text/html": [
       "<div>\n",
       "<style scoped>\n",
       "    .dataframe tbody tr th:only-of-type {\n",
       "        vertical-align: middle;\n",
       "    }\n",
       "\n",
       "    .dataframe tbody tr th {\n",
       "        vertical-align: top;\n",
       "    }\n",
       "\n",
       "    .dataframe thead th {\n",
       "        text-align: right;\n",
       "    }\n",
       "</style>\n",
       "<table border=\"1\" class=\"dataframe\">\n",
       "  <thead>\n",
       "    <tr style=\"text-align: right;\">\n",
       "      <th></th>\n",
       "      <th>text</th>\n",
       "      <th>text_id</th>\n",
       "      <th>ref_idx</th>\n",
       "      <th>closeness_1</th>\n",
       "      <th>closeness_2</th>\n",
       "      <th>closeness_3</th>\n",
       "      <th>data_type</th>\n",
       "      <th>closeness</th>\n",
       "    </tr>\n",
       "  </thead>\n",
       "  <tbody>\n",
       "    <tr>\n",
       "      <th>0</th>\n",
       "      <td>B: ที่บ้านเป็นร้านค้าด้วยตอนเช้าแม่ก็จะซื้อกับ...</td>\n",
       "      <td>42479</td>\n",
       "      <td>628</td>\n",
       "      <td>2. Know each other</td>\n",
       "      <td>2. Know each other</td>\n",
       "      <td>2. Know each other</td>\n",
       "      <td>gold</td>\n",
       "      <td>2. Know each other</td>\n",
       "    </tr>\n",
       "    <tr>\n",
       "      <th>1</th>\n",
       "      <td>B: สวัสดี​ค่า\\nA: จ้าา\\nB: พี่ชอบฟังเพลงอะไรไห...</td>\n",
       "      <td>42480</td>\n",
       "      <td>566</td>\n",
       "      <td>2. Know each other</td>\n",
       "      <td>2. Know each other</td>\n",
       "      <td>3. Don't know each other</td>\n",
       "      <td>silver</td>\n",
       "      <td>2. Know each other</td>\n",
       "    </tr>\n",
       "    <tr>\n",
       "      <th>2</th>\n",
       "      <td>A: ใช่ค่ะ\\nA: พังงา\\nB: มีเพื่อนอยู่พังงาเหมือ...</td>\n",
       "      <td>42481</td>\n",
       "      <td>1203</td>\n",
       "      <td>2. Know each other</td>\n",
       "      <td>2. Know each other</td>\n",
       "      <td>2. Know each other</td>\n",
       "      <td>gold</td>\n",
       "      <td>2. Know each other</td>\n",
       "    </tr>\n",
       "    <tr>\n",
       "      <th>3</th>\n",
       "      <td>B: ทักก\\nA: รับค่าา\\nA: เจอกันอีกนะ\\nB: จ้าาา\\...</td>\n",
       "      <td>42482</td>\n",
       "      <td>807</td>\n",
       "      <td>2. Know each other</td>\n",
       "      <td>2. Know each other</td>\n",
       "      <td>3. Don't know each other</td>\n",
       "      <td>silver</td>\n",
       "      <td>2. Know each other</td>\n",
       "    </tr>\n",
       "    <tr>\n",
       "      <th>4</th>\n",
       "      <td>A: ϵ( 'Θ' )϶ปลาปุงปัง\\nB: มังกรเป็นงูมั้ย\\nA: ...</td>\n",
       "      <td>42483</td>\n",
       "      <td>393</td>\n",
       "      <td>1. Close</td>\n",
       "      <td>1. Close</td>\n",
       "      <td>2. Know each other</td>\n",
       "      <td>silver</td>\n",
       "      <td>1. Close</td>\n",
       "    </tr>\n",
       "  </tbody>\n",
       "</table>\n",
       "</div>"
      ],
      "text/plain": [
       "                                                text  text_id  ref_idx  \\\n",
       "0  B: ที่บ้านเป็นร้านค้าด้วยตอนเช้าแม่ก็จะซื้อกับ...    42479      628   \n",
       "1  B: สวัสดี​ค่า\\nA: จ้าา\\nB: พี่ชอบฟังเพลงอะไรไห...    42480      566   \n",
       "2  A: ใช่ค่ะ\\nA: พังงา\\nB: มีเพื่อนอยู่พังงาเหมือ...    42481     1203   \n",
       "3  B: ทักก\\nA: รับค่าา\\nA: เจอกันอีกนะ\\nB: จ้าาา\\...    42482      807   \n",
       "4  A: ϵ( 'Θ' )϶ปลาปุงปัง\\nB: มังกรเป็นงูมั้ย\\nA: ...    42483      393   \n",
       "\n",
       "          closeness_1         closeness_2               closeness_3 data_type  \\\n",
       "0  2. Know each other  2. Know each other        2. Know each other      gold   \n",
       "1  2. Know each other  2. Know each other  3. Don't know each other    silver   \n",
       "2  2. Know each other  2. Know each other        2. Know each other      gold   \n",
       "3  2. Know each other  2. Know each other  3. Don't know each other    silver   \n",
       "4            1. Close            1. Close        2. Know each other    silver   \n",
       "\n",
       "            closeness  \n",
       "0  2. Know each other  \n",
       "1  2. Know each other  \n",
       "2  2. Know each other  \n",
       "3  2. Know each other  \n",
       "4            1. Close  "
      ]
     },
     "execution_count": 6,
     "metadata": {},
     "output_type": "execute_result"
    }
   ],
   "source": [
    "clos_df.head()"
   ]
  },
  {
   "cell_type": "code",
   "execution_count": 7,
   "id": "c3d7db02",
   "metadata": {},
   "outputs": [
    {
     "data": {
      "text/html": [
       "<div>\n",
       "<style scoped>\n",
       "    .dataframe tbody tr th:only-of-type {\n",
       "        vertical-align: middle;\n",
       "    }\n",
       "\n",
       "    .dataframe tbody tr th {\n",
       "        vertical-align: top;\n",
       "    }\n",
       "\n",
       "    .dataframe thead th {\n",
       "        text-align: right;\n",
       "    }\n",
       "</style>\n",
       "<table border=\"1\" class=\"dataframe\">\n",
       "  <thead>\n",
       "    <tr style=\"text-align: right;\">\n",
       "      <th></th>\n",
       "      <th>text</th>\n",
       "    </tr>\n",
       "    <tr>\n",
       "      <th>data_type</th>\n",
       "      <th></th>\n",
       "    </tr>\n",
       "  </thead>\n",
       "  <tbody>\n",
       "    <tr>\n",
       "      <th>failed</th>\n",
       "      <td>50</td>\n",
       "    </tr>\n",
       "    <tr>\n",
       "      <th>gold</th>\n",
       "      <td>1132</td>\n",
       "    </tr>\n",
       "    <tr>\n",
       "      <th>silver</th>\n",
       "      <td>1457</td>\n",
       "    </tr>\n",
       "  </tbody>\n",
       "</table>\n",
       "</div>"
      ],
      "text/plain": [
       "           text\n",
       "data_type      \n",
       "failed       50\n",
       "gold       1132\n",
       "silver     1457"
      ]
     },
     "execution_count": 7,
     "metadata": {},
     "output_type": "execute_result"
    }
   ],
   "source": [
    "clos_df[[\"text\", \"data_type\"]].groupby(\"data_type\").count()"
   ]
  },
  {
   "cell_type": "code",
   "execution_count": 8,
   "id": "fb1c309a",
   "metadata": {},
   "outputs": [
    {
     "name": "stdout",
     "output_type": "stream",
     "text": [
      "Usable Records: 2589\n"
     ]
    }
   ],
   "source": [
    "print(\"Usable Records:\", len(clos_df[clos_df[\"data_type\"]!=\"failed\"]))"
   ]
  },
  {
   "cell_type": "code",
   "execution_count": 9,
   "id": "3fee0c77",
   "metadata": {},
   "outputs": [
    {
     "data": {
      "text/plain": [
       "<AxesSubplot:>"
      ]
     },
     "execution_count": 9,
     "metadata": {},
     "output_type": "execute_result"
    },
    {
     "data": {
      "image/png": "[encoded data removed]",
      "text/plain": [
       "<Figure size 432x288 with 1 Axes>"
      ]
     },
     "metadata": {
      "needs_background": "light"
     },
     "output_type": "display_data"
    }
   ],
   "source": [
    "clos_df[\"closeness\"].hist(xrot=45)"
   ]
  },
  {
   "cell_type": "code",
   "execution_count": 10,
   "id": "00432fba-e92a-45e0-88cb-40bd29aa8a0b",
   "metadata": {},
   "outputs": [
    {
     "data": {
      "text/html": [
       "<div>\n",
       "<style scoped>\n",
       "    .dataframe tbody tr th:only-of-type {\n",
       "        vertical-align: middle;\n",
       "    }\n",
       "\n",
       "    .dataframe tbody tr th {\n",
       "        vertical-align: top;\n",
       "    }\n",
       "\n",
       "    .dataframe thead th {\n",
       "        text-align: right;\n",
       "    }\n",
       "</style>\n",
       "<table border=\"1\" class=\"dataframe\">\n",
       "  <thead>\n",
       "    <tr style=\"text-align: right;\">\n",
       "      <th></th>\n",
       "      <th>text</th>\n",
       "    </tr>\n",
       "    <tr>\n",
       "      <th>closeness</th>\n",
       "      <th></th>\n",
       "    </tr>\n",
       "  </thead>\n",
       "  <tbody>\n",
       "    <tr>\n",
       "      <th>1. Close</th>\n",
       "      <td>830</td>\n",
       "    </tr>\n",
       "    <tr>\n",
       "      <th>2. Know each other</th>\n",
       "      <td>1208</td>\n",
       "    </tr>\n",
       "    <tr>\n",
       "      <th>3. Don't know each other</th>\n",
       "      <td>353</td>\n",
       "    </tr>\n",
       "    <tr>\n",
       "      <th>4. Don't like each other</th>\n",
       "      <td>25</td>\n",
       "    </tr>\n",
       "  </tbody>\n",
       "</table>\n",
       "</div>"
      ],
      "text/plain": [
       "                          text\n",
       "closeness                     \n",
       "1. Close                   830\n",
       "2. Know each other        1208\n",
       "3. Don't know each other   353\n",
       "4. Don't like each other    25"
      ]
     },
     "execution_count": 10,
     "metadata": {},
     "output_type": "execute_result"
    }
   ],
   "source": [
    "clos_df[[\"text\", \"closeness\"]].groupby(\"closeness\").count()"
   ]
  },
  {
   "cell_type": "code",
   "execution_count": null,
   "id": "22517fc8",
   "metadata": {},
   "outputs": [],
   "source": []
  },
  {
   "cell_type": "markdown",
   "id": "23dc2c27",
   "metadata": {},
   "source": [
    "## Authority"
   ]
  },
  {
   "cell_type": "code",
   "execution_count": 11,
   "id": "f029b40d",
   "metadata": {},
   "outputs": [
    {
     "name": "stdout",
     "output_type": "stream",
     "text": [
      "Loaded 2639 records from annotated/authority/user0.jsonl\n",
      "Loaded 2639 records from annotated/authority/user1.jsonl\n",
      "2639\n",
      "Loaded 2639 records from annotated/authority/user2.jsonl\n",
      "2639\n",
      "Loaded 2639 records from annotated/authority/user3.jsonl\n",
      "2639\n"
     ]
    }
   ],
   "source": [
    "auth_df = get_data(\"authority\", authority_to_eng)"
   ]
  },
  {
   "cell_type": "code",
   "execution_count": 12,
   "id": "789c3026-d772-46e7-9db7-1c7ad3f6269e",
   "metadata": {},
   "outputs": [
    {
     "data": {
      "text/plain": [
       "2637"
      ]
     },
     "execution_count": 12,
     "metadata": {},
     "output_type": "execute_result"
    }
   ],
   "source": [
    "auth_df = auth_df.drop_duplicates(subset=['text'])\n",
    "len(auth_df)"
   ]
  },
  {
   "cell_type": "code",
   "execution_count": 13,
   "id": "e8364afb",
   "metadata": {},
   "outputs": [
    {
     "data": {
      "text/html": [
       "<div>\n",
       "<style scoped>\n",
       "    .dataframe tbody tr th:only-of-type {\n",
       "        vertical-align: middle;\n",
       "    }\n",
       "\n",
       "    .dataframe tbody tr th {\n",
       "        vertical-align: top;\n",
       "    }\n",
       "\n",
       "    .dataframe thead th {\n",
       "        text-align: right;\n",
       "    }\n",
       "</style>\n",
       "<table border=\"1\" class=\"dataframe\">\n",
       "  <thead>\n",
       "    <tr style=\"text-align: right;\">\n",
       "      <th></th>\n",
       "      <th>text</th>\n",
       "    </tr>\n",
       "    <tr>\n",
       "      <th>data_type</th>\n",
       "      <th></th>\n",
       "    </tr>\n",
       "  </thead>\n",
       "  <tbody>\n",
       "    <tr>\n",
       "      <th>failed</th>\n",
       "      <td>21</td>\n",
       "    </tr>\n",
       "    <tr>\n",
       "      <th>gold</th>\n",
       "      <td>1347</td>\n",
       "    </tr>\n",
       "    <tr>\n",
       "      <th>silver</th>\n",
       "      <td>1269</td>\n",
       "    </tr>\n",
       "  </tbody>\n",
       "</table>\n",
       "</div>"
      ],
      "text/plain": [
       "           text\n",
       "data_type      \n",
       "failed       21\n",
       "gold       1347\n",
       "silver     1269"
      ]
     },
     "execution_count": 13,
     "metadata": {},
     "output_type": "execute_result"
    }
   ],
   "source": [
    "auth_df[[\"text\", \"data_type\"]].groupby(\"data_type\").count()"
   ]
  },
  {
   "cell_type": "code",
   "execution_count": 14,
   "id": "a22a5656",
   "metadata": {},
   "outputs": [
    {
     "data": {
      "text/plain": [
       "<AxesSubplot:>"
      ]
     },
     "execution_count": 14,
     "metadata": {},
     "output_type": "execute_result"
    },
    {
     "data": {
      "image/png": "[encoded data removed]",
      "text/plain": [
       "<Figure size 432x288 with 1 Axes>"
      ]
     },
     "metadata": {
      "needs_background": "light"
     },
     "output_type": "display_data"
    }
   ],
   "source": [
    "auth_df[\"authority\"].hist(xrot=45)"
   ]
  },
  {
   "cell_type": "code",
   "execution_count": 15,
   "id": "149694c7-340f-4779-ab5c-340730753658",
   "metadata": {},
   "outputs": [
    {
     "data": {
      "text/html": [
       "<div>\n",
       "<style scoped>\n",
       "    .dataframe tbody tr th:only-of-type {\n",
       "        vertical-align: middle;\n",
       "    }\n",
       "\n",
       "    .dataframe tbody tr th {\n",
       "        vertical-align: top;\n",
       "    }\n",
       "\n",
       "    .dataframe thead th {\n",
       "        text-align: right;\n",
       "    }\n",
       "</style>\n",
       "<table border=\"1\" class=\"dataframe\">\n",
       "  <thead>\n",
       "    <tr style=\"text-align: right;\">\n",
       "      <th></th>\n",
       "      <th>text</th>\n",
       "    </tr>\n",
       "    <tr>\n",
       "      <th>authority</th>\n",
       "      <th></th>\n",
       "    </tr>\n",
       "  </thead>\n",
       "  <tbody>\n",
       "    <tr>\n",
       "      <th>1. Respect</th>\n",
       "      <td>564</td>\n",
       "    </tr>\n",
       "    <tr>\n",
       "      <th>2. Normal</th>\n",
       "      <td>1665</td>\n",
       "    </tr>\n",
       "    <tr>\n",
       "      <th>3. Not respect</th>\n",
       "      <td>214</td>\n",
       "    </tr>\n",
       "  </tbody>\n",
       "</table>\n",
       "</div>"
      ],
      "text/plain": [
       "                text\n",
       "authority           \n",
       "1. Respect       564\n",
       "2. Normal       1665\n",
       "3. Not respect   214"
      ]
     },
     "execution_count": 15,
     "metadata": {},
     "output_type": "execute_result"
    }
   ],
   "source": [
    "auth_df[[\"text\", \"authority\"]].groupby(\"authority\").count()"
   ]
  },
  {
   "cell_type": "code",
   "execution_count": null,
   "id": "ae571e75",
   "metadata": {},
   "outputs": [],
   "source": []
  },
  {
   "cell_type": "code",
   "execution_count": 16,
   "id": "fb51575a",
   "metadata": {},
   "outputs": [],
   "source": [
    "# auth_df"
   ]
  },
  {
   "cell_type": "markdown",
   "id": "d3e629df-5a26-4c30-a442-1af143baab30",
   "metadata": {},
   "source": [
    "## Export"
   ]
  },
  {
   "cell_type": "code",
   "execution_count": 17,
   "id": "eca6e2d8-b83b-4705-89bd-4a765f3941ff",
   "metadata": {},
   "outputs": [
    {
     "data": {
      "text/html": [
       "<div>\n",
       "<style scoped>\n",
       "    .dataframe tbody tr th:only-of-type {\n",
       "        vertical-align: middle;\n",
       "    }\n",
       "\n",
       "    .dataframe tbody tr th {\n",
       "        vertical-align: top;\n",
       "    }\n",
       "\n",
       "    .dataframe thead th {\n",
       "        text-align: right;\n",
       "    }\n",
       "</style>\n",
       "<table border=\"1\" class=\"dataframe\">\n",
       "  <thead>\n",
       "    <tr style=\"text-align: right;\">\n",
       "      <th></th>\n",
       "      <th>text</th>\n",
       "      <th>text_id</th>\n",
       "      <th>ref_idx</th>\n",
       "      <th>closeness_1</th>\n",
       "      <th>closeness_2</th>\n",
       "      <th>closeness_3</th>\n",
       "      <th>data_type</th>\n",
       "      <th>closeness</th>\n",
       "    </tr>\n",
       "  </thead>\n",
       "  <tbody>\n",
       "    <tr>\n",
       "      <th>0</th>\n",
       "      <td>B: ที่บ้านเป็นร้านค้าด้วยตอนเช้าแม่ก็จะซื้อกับ...</td>\n",
       "      <td>42479</td>\n",
       "      <td>628</td>\n",
       "      <td>2. Know each other</td>\n",
       "      <td>2. Know each other</td>\n",
       "      <td>2. Know each other</td>\n",
       "      <td>gold</td>\n",
       "      <td>2. Know each other</td>\n",
       "    </tr>\n",
       "    <tr>\n",
       "      <th>1</th>\n",
       "      <td>B: สวัสดี​ค่า\\nA: จ้าา\\nB: พี่ชอบฟังเพลงอะไรไห...</td>\n",
       "      <td>42480</td>\n",
       "      <td>566</td>\n",
       "      <td>2. Know each other</td>\n",
       "      <td>2. Know each other</td>\n",
       "      <td>3. Don't know each other</td>\n",
       "      <td>silver</td>\n",
       "      <td>2. Know each other</td>\n",
       "    </tr>\n",
       "    <tr>\n",
       "      <th>2</th>\n",
       "      <td>A: ใช่ค่ะ\\nA: พังงา\\nB: มีเพื่อนอยู่พังงาเหมือ...</td>\n",
       "      <td>42481</td>\n",
       "      <td>1203</td>\n",
       "      <td>2. Know each other</td>\n",
       "      <td>2. Know each other</td>\n",
       "      <td>2. Know each other</td>\n",
       "      <td>gold</td>\n",
       "      <td>2. Know each other</td>\n",
       "    </tr>\n",
       "    <tr>\n",
       "      <th>3</th>\n",
       "      <td>B: ทักก\\nA: รับค่าา\\nA: เจอกันอีกนะ\\nB: จ้าาา\\...</td>\n",
       "      <td>42482</td>\n",
       "      <td>807</td>\n",
       "      <td>2. Know each other</td>\n",
       "      <td>2. Know each other</td>\n",
       "      <td>3. Don't know each other</td>\n",
       "      <td>silver</td>\n",
       "      <td>2. Know each other</td>\n",
       "    </tr>\n",
       "    <tr>\n",
       "      <th>4</th>\n",
       "      <td>A: ϵ( 'Θ' )϶ปลาปุงปัง\\nB: มังกรเป็นงูมั้ย\\nA: ...</td>\n",
       "      <td>42483</td>\n",
       "      <td>393</td>\n",
       "      <td>1. Close</td>\n",
       "      <td>1. Close</td>\n",
       "      <td>2. Know each other</td>\n",
       "      <td>silver</td>\n",
       "      <td>1. Close</td>\n",
       "    </tr>\n",
       "    <tr>\n",
       "      <th>...</th>\n",
       "      <td>...</td>\n",
       "      <td>...</td>\n",
       "      <td>...</td>\n",
       "      <td>...</td>\n",
       "      <td>...</td>\n",
       "      <td>...</td>\n",
       "      <td>...</td>\n",
       "      <td>...</td>\n",
       "    </tr>\n",
       "    <tr>\n",
       "      <th>2634</th>\n",
       "      <td>B: สวัสดีค่ะ\\nA: 555 ดีครับ\\nB: ดนตรีคือชีวิต\\...</td>\n",
       "      <td>45113</td>\n",
       "      <td>773</td>\n",
       "      <td>2. Know each other</td>\n",
       "      <td>3. Don't know each other</td>\n",
       "      <td>3. Don't know each other</td>\n",
       "      <td>silver</td>\n",
       "      <td>3. Don't know each other</td>\n",
       "    </tr>\n",
       "    <tr>\n",
       "      <th>2635</th>\n",
       "      <td>B: ดีค่ะ\\nA: ดีฮะ\\nA: อารมณ์ไหนของมึง555\\nB: เ...</td>\n",
       "      <td>45114</td>\n",
       "      <td>529</td>\n",
       "      <td>1. Close</td>\n",
       "      <td>1. Close</td>\n",
       "      <td>1. Close</td>\n",
       "      <td>gold</td>\n",
       "      <td>1. Close</td>\n",
       "    </tr>\n",
       "    <tr>\n",
       "      <th>2636</th>\n",
       "      <td>B: มึง\\nA: เออ ๆ \\nA: ว่า\\nB: ไอตันอะ มันไปออก...</td>\n",
       "      <td>45115</td>\n",
       "      <td>544</td>\n",
       "      <td>1. Close</td>\n",
       "      <td>1. Close</td>\n",
       "      <td>1. Close</td>\n",
       "      <td>gold</td>\n",
       "      <td>1. Close</td>\n",
       "    </tr>\n",
       "    <tr>\n",
       "      <th>2637</th>\n",
       "      <td>B: สวัสดีค่า ชื่อเนมค่ะ\\nA: สวัสดีค่า กิ๊กค่ะ\\...</td>\n",
       "      <td>45116</td>\n",
       "      <td>615</td>\n",
       "      <td>2. Know each other</td>\n",
       "      <td>3. Don't know each other</td>\n",
       "      <td>3. Don't know each other</td>\n",
       "      <td>silver</td>\n",
       "      <td>3. Don't know each other</td>\n",
       "    </tr>\n",
       "    <tr>\n",
       "      <th>2638</th>\n",
       "      <td>B: ตั้งใจเรียนไป๊\\nA: เออๆ\\nA: บาย\\nB: 👋\\n</td>\n",
       "      <td>45117</td>\n",
       "      <td>416</td>\n",
       "      <td>1. Close</td>\n",
       "      <td>1. Close</td>\n",
       "      <td>1. Close</td>\n",
       "      <td>gold</td>\n",
       "      <td>1. Close</td>\n",
       "    </tr>\n",
       "  </tbody>\n",
       "</table>\n",
       "<p>2639 rows × 8 columns</p>\n",
       "</div>"
      ],
      "text/plain": [
       "                                                   text  text_id  ref_idx  \\\n",
       "0     B: ที่บ้านเป็นร้านค้าด้วยตอนเช้าแม่ก็จะซื้อกับ...    42479      628   \n",
       "1     B: สวัสดี​ค่า\\nA: จ้าา\\nB: พี่ชอบฟังเพลงอะไรไห...    42480      566   \n",
       "2     A: ใช่ค่ะ\\nA: พังงา\\nB: มีเพื่อนอยู่พังงาเหมือ...    42481     1203   \n",
       "3     B: ทักก\\nA: รับค่าา\\nA: เจอกันอีกนะ\\nB: จ้าาา\\...    42482      807   \n",
       "4     A: ϵ( 'Θ' )϶ปลาปุงปัง\\nB: มังกรเป็นงูมั้ย\\nA: ...    42483      393   \n",
       "...                                                 ...      ...      ...   \n",
       "2634  B: สวัสดีค่ะ\\nA: 555 ดีครับ\\nB: ดนตรีคือชีวิต\\...    45113      773   \n",
       "2635  B: ดีค่ะ\\nA: ดีฮะ\\nA: อารมณ์ไหนของมึง555\\nB: เ...    45114      529   \n",
       "2636  B: มึง\\nA: เออ ๆ \\nA: ว่า\\nB: ไอตันอะ มันไปออก...    45115      544   \n",
       "2637  B: สวัสดีค่า ชื่อเนมค่ะ\\nA: สวัสดีค่า กิ๊กค่ะ\\...    45116      615   \n",
       "2638         B: ตั้งใจเรียนไป๊\\nA: เออๆ\\nA: บาย\\nB: 👋\\n    45117      416   \n",
       "\n",
       "             closeness_1               closeness_2               closeness_3  \\\n",
       "0     2. Know each other        2. Know each other        2. Know each other   \n",
       "1     2. Know each other        2. Know each other  3. Don't know each other   \n",
       "2     2. Know each other        2. Know each other        2. Know each other   \n",
       "3     2. Know each other        2. Know each other  3. Don't know each other   \n",
       "4               1. Close                  1. Close        2. Know each other   \n",
       "...                  ...                       ...                       ...   \n",
       "2634  2. Know each other  3. Don't know each other  3. Don't know each other   \n",
       "2635            1. Close                  1. Close                  1. Close   \n",
       "2636            1. Close                  1. Close                  1. Close   \n",
       "2637  2. Know each other  3. Don't know each other  3. Don't know each other   \n",
       "2638            1. Close                  1. Close                  1. Close   \n",
       "\n",
       "     data_type                 closeness  \n",
       "0         gold        2. Know each other  \n",
       "1       silver        2. Know each other  \n",
       "2         gold        2. Know each other  \n",
       "3       silver        2. Know each other  \n",
       "4       silver                  1. Close  \n",
       "...        ...                       ...  \n",
       "2634    silver  3. Don't know each other  \n",
       "2635      gold                  1. Close  \n",
       "2636      gold                  1. Close  \n",
       "2637    silver  3. Don't know each other  \n",
       "2638      gold                  1. Close  \n",
       "\n",
       "[2639 rows x 8 columns]"
      ]
     },
     "execution_count": 17,
     "metadata": {},
     "output_type": "execute_result"
    }
   ],
   "source": [
    "clos_df"
   ]
  },
  {
   "cell_type": "code",
   "execution_count": 18,
   "id": "a17f917f-ce83-47ab-91ad-f7c6b16aed1e",
   "metadata": {},
   "outputs": [],
   "source": [
    "A = clos_df[['text', 'ref_idx', 'closeness_1', 'closeness_2', 'closeness_3', 'closeness']]\n",
    "B = auth_df[['text', 'authority_1', 'authority_2', 'authority_3', 'authority']]"
   ]
  },
  {
   "cell_type": "code",
   "execution_count": 19,
   "id": "ac55f2e7-a2af-45dc-a3b1-72140f039fb4",
   "metadata": {},
   "outputs": [],
   "source": [
    "M = pd.merge(A, B, on=\"text\")"
   ]
  },
  {
   "cell_type": "code",
   "execution_count": 20,
   "id": "9d87bbd0",
   "metadata": {},
   "outputs": [
    {
     "name": "stdout",
     "output_type": "stream",
     "text": [
      "Wrote 2639 records to ./annotated/raw_annotated.jsonl\n"
     ]
    }
   ],
   "source": [
    "annotated = []\n",
    "for idx, row in M.iterrows():\n",
    "    messages = row[\"text\"].split(\"\\n\")\n",
    "    row[\"text\"] = messages\n",
    "    annotated.append({ **row })\n",
    "\n",
    "dump_jsonl(\"./annotated/raw_annotated.jsonl\", annotated)"
   ]
  },
  {
   "cell_type": "code",
   "execution_count": 21,
   "id": "87fd7d19-59cc-4d9a-9052-b4cf01a38c96",
   "metadata": {},
   "outputs": [],
   "source": [
    "# M[\"closeness\"].isna().sum()"
   ]
  },
  {
   "cell_type": "markdown",
   "id": "3a3ca605-99ef-4d45-8c89-6e45eb3cfed8",
   "metadata": {},
   "source": [
    "#### Map with original data"
   ]
  },
  {
   "cell_type": "code",
   "execution_count": null,
   "id": "7036d537-e433-4888-b74c-f563786276e8",
   "metadata": {},
   "outputs": [],
   "source": []
  },
  {
   "cell_type": "code",
   "execution_count": 24,
   "id": "57d6d47a-f0b7-45a8-a73f-685ac7d9056c",
   "metadata": {},
   "outputs": [
    {
     "name": "stdout",
     "output_type": "stream",
     "text": [
      "Loaded 1234 records from ../Task1/annotated_conersations.jsonl\n"
     ]
    }
   ],
   "source": [
    "original_data = load_jsonl(\"../Task1/annotated_conersations.jsonl\")"
   ]
  },
  {
   "cell_type": "code",
   "execution_count": 33,
   "id": "fcebbe0b-6b42-4d44-a4cb-1a9a4f74f5b1",
   "metadata": {},
   "outputs": [],
   "source": [
    "\n",
    "def match_with_original(ori, row):\n",
    "    ori = original_data[row[\"ref_idx\"]]\n",
    "    ori_messages = [m[\"text\"] for m in ori[\"messages\"]]\n",
    "    \n",
    "    messages = row[\"text\"].split(\"\\n\")\n",
    "    notmatched = 0\n",
    "    for m in messages:\n",
    "        if m[3:] not in ori_messages:\n",
    "            notmatched += 1\n",
    "    notmatched -=1\n",
    "    \n",
    "    return notmatched==0"
   ]
  },
  {
   "cell_type": "code",
   "execution_count": 34,
   "id": "28d7e819-2d68-42bc-8085-49549c8b1c66",
   "metadata": {},
   "outputs": [],
   "source": [
    "AUTHORITY_LABELS = [\"1. Respect\", \"2. Normal\", \"3. Not respect\"]\n",
    "CLOSENESS_LABELS = [\"1. Close\", \"2. Know each other\", \"3. Don't know each other\", \"4. Don't like each other\"]"
   ]
  },
  {
   "cell_type": "code",
   "execution_count": null,
   "id": "208303ae-ae8c-4f7f-90f8-95dcc7f2dc69",
   "metadata": {},
   "outputs": [],
   "source": []
  },
  {
   "cell_type": "code",
   "execution_count": 46,
   "id": "764ad8e7-0174-49df-9753-f6f63b52ff84",
   "metadata": {},
   "outputs": [],
   "source": [
    "# Note: one conversation will be splitted and annotated in several parts"
   ]
  },
  {
   "cell_type": "code",
   "execution_count": null,
   "id": "ea7685eb-84c9-4fd6-bb06-60e03f9db89d",
   "metadata": {},
   "outputs": [],
   "source": []
  },
  {
   "cell_type": "code",
   "execution_count": 63,
   "id": "9fcf7671-ffd4-4848-a9e0-9f4b9c86314e",
   "metadata": {},
   "outputs": [],
   "source": [
    "\n",
    "# get the most common label from list\n",
    "def get_label_from_annotaed_sections(lst):\n",
    "    return max(set(lst), key=lst.count)\n",
    "\n",
    "nerror = {}\n",
    "annotated = []\n",
    "for idx, conv in enumerate(original_data):\n",
    "    rows = M[M[\"ref_idx\"]==idx]\n",
    "    \n",
    "    clos_labels = []\n",
    "    auth_labels = []\n",
    "    for _, row in rows.iterrows():\n",
    "        if not match_with_original(conv, row):\n",
    "            print(\"ERROR??\")\n",
    "        \n",
    "        clos_labels.append(row[\"closeness_1\"])\n",
    "        clos_labels.append(row[\"closeness_2\"])\n",
    "        clos_labels.append(row[\"closeness_3\"])\n",
    "        \n",
    "        auth_labels.append(row[\"authority_1\"])\n",
    "        auth_labels.append(row[\"authority_2\"])\n",
    "        auth_labels.append(row[\"authority_3\"])\n",
    "        \n",
    "        # if pd.isna(row[\"authority_3\"]):\n",
    "        #     print(rows)\n",
    "        #     assert(False)\n",
    "            \n",
    "        for col in [\"closeness_1\", \"closeness_2\", \"closeness_3\", \"authority_1\", \"authority_2\", \"authority_3\"]:\n",
    "            if col+\"_list\" not in conv:\n",
    "                conv[col+\"_list\"] = []\n",
    "                \n",
    "            conv[col+\"_list\"].append(row[col])\n",
    "    \n",
    "    clos_labels = [l for l in clos_labels if l is not None]\n",
    "    auth_labels = [l for l in auth_labels if l is not None]\n",
    "    \n",
    "    ## I mistakenly ignore conversation where closeness label from task1 is None \n",
    "    ## So, #data is smaller that it should be\n",
    "    \n",
    "    if len(clos_labels)==0 or len(auth_labels)==0:\n",
    "        continue\n",
    "    \n",
    "    conv[\"closeness\"] = get_label_from_annotaed_sections(clos_labels)\n",
    "    conv[\"authority\"] = get_label_from_annotaed_sections(clos_labels)\n",
    "    \n",
    "    \n",
    "    for col in [\"closeness_1\", \"closeness_2\", \"closeness_3\", \"authority_1\", \"authority_2\", \"authority_3\"]:\n",
    "        if col not in nerror:\n",
    "            nerror[col] = 0\n",
    "            \n",
    "        labels = [l for l in conv[col+\"_list\"] if l is not None] \n",
    "        if len(labels)==0:\n",
    "            nerror[col] += 1\n",
    "            conv[col] = None\n",
    "        else:    \n",
    "            conv[col] = get_label_from_annotaed_sections(labels)\n",
    "            if conv[col] is None:\n",
    "                nerror[col] += 1\n",
    "                \n",
    "        del conv[col+\"_list\"]\n",
    "    \n",
    "    # conv[\"closeness_labels\"] = cnt_clos_labels\n",
    "    # conv[\"authority_labels\"] = cnt_auth_labels\n",
    "\n",
    "    annotated.append(conv)"
   ]
  },
  {
   "cell_type": "code",
   "execution_count": 64,
   "id": "4804ab18-930e-485e-9411-960919364c78",
   "metadata": {},
   "outputs": [
    {
     "name": "stdout",
     "output_type": "stream",
     "text": [
      "Wrote 1221 records to ./annotated/annotated.jsonl\n"
     ]
    }
   ],
   "source": [
    "dump_jsonl(\"./annotated/annotated.jsonl\", annotated)"
   ]
  },
  {
   "cell_type": "code",
   "execution_count": 65,
   "id": "fd627c39-8ed4-44f7-afd8-87e00faca253",
   "metadata": {},
   "outputs": [
    {
     "data": {
      "text/plain": [
       "{'closeness_1': 2,\n",
       " 'closeness_2': 0,\n",
       " 'closeness_3': 1,\n",
       " 'authority_1': 12,\n",
       " 'authority_2': 0,\n",
       " 'authority_3': 0}"
      ]
     },
     "execution_count": 65,
     "metadata": {},
     "output_type": "execute_result"
    }
   ],
   "source": [
    "nerror"
   ]
  },
  {
   "cell_type": "code",
   "execution_count": 98,
   "id": "454eb0e7-0ee4-4cb3-b9e7-5db00a69c240",
   "metadata": {},
   "outputs": [],
   "source": []
  },
  {
   "cell_type": "code",
   "execution_count": 85,
   "id": "c4cbb165-9c99-4e7f-8083-cc470b4cddb1",
   "metadata": {},
   "outputs": [],
   "source": []
  },
  {
   "cell_type": "code",
   "execution_count": 88,
   "id": "44bdefe5-2fb0-417f-9b89-e29f193ee649",
   "metadata": {},
   "outputs": [],
   "source": [
    "# d = d.dropna(subset=[\"closeness\", \"authority\"], how=\"all\")"
   ]
  },
  {
   "cell_type": "code",
   "execution_count": 90,
   "id": "e8b690ae",
   "metadata": {},
   "outputs": [],
   "source": [
    "# d"
   ]
  },
  {
   "cell_type": "code",
   "execution_count": null,
   "id": "b4aa19ef",
   "metadata": {},
   "outputs": [],
   "source": []
  },
  {
   "cell_type": "code",
   "execution_count": null,
   "id": "293c078a",
   "metadata": {},
   "outputs": [],
   "source": []
  },
  {
   "cell_type": "code",
   "execution_count": null,
   "id": "3ec96224",
   "metadata": {},
   "outputs": [],
   "source": []
  }
 ],
 "metadata": {
  "kernelspec": {
   "display_name": "Python 3 (ipykernel)",
   "language": "python",
   "name": "python3"
  },
  "language_info": {
   "codemirror_mode": {
    "name": "ipython",
    "version": 3
   },
   "file_extension": ".py",
   "mimetype": "text/x-python",
   "name": "python",
   "nbconvert_exporter": "python",
   "pygments_lexer": "ipython3",
   "version": "3.9.7"
  }
 },
 "nbformat": 4,
 "nbformat_minor": 5
}
