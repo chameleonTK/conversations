{
 "cells": [
  {
   "cell_type": "code",
   "execution_count": 3,
   "id": "76016863",
   "metadata": {},
   "outputs": [],
   "source": [
    "import sys\n",
    "sys.path.append('..')\n",
    "\n",
    "import pandas as pd\n",
    "from utils import load_jsonl, dump_jsonl\n",
    "import numpy as np"
   ]
  },
  {
   "cell_type": "code",
   "execution_count": null,
   "id": "1fccc5cc",
   "metadata": {},
   "outputs": [],
   "source": []
  },
  {
   "cell_type": "code",
   "execution_count": 4,
   "id": "a6fef316",
   "metadata": {},
   "outputs": [],
   "source": [
    "def get_task1_conver(in_dir, col_label, skips=[]):\n",
    "    conversations = load_jsonl(f\"{in_dir}/annotated_conersations.jsonl\")\n",
    "    \n",
    "    \n",
    "    def to_message_str(messages, users):\n",
    "        text = \"\"\n",
    "        for m in messages:\n",
    "            \n",
    "            if users[m['user_id']] == \"SYS\":\n",
    "                text += \"A: \"+ m['text']+\"\\n\"\n",
    "            else:\n",
    "                text += \"B: \"+ m['text']+\"\\n\"\n",
    "                \n",
    "        return text\n",
    "        \n",
    "    newdata = []\n",
    "    for idx, row in enumerate(conversations):\n",
    "        row[\"messages\"].sort(key=lambda x: x[\"date_created\"], reverse=False)\n",
    "        \n",
    "        users = {}\n",
    "        for m in row[\"messages\"]:\n",
    "            if m[\"user_id\"] not in users:\n",
    "#                 username = \"USR\"+str(len(users)+1) if len(users.keys())==0 else \"SYS\"\n",
    "                username = \"USR\" if len(users.keys())==0 else \"SYS\"\n",
    "                users[m[\"user_id\"]] = username\n",
    "                \n",
    "#         if len(users)>2:\n",
    "#             print(\"More than 1 users\", len(users))\n",
    "        \n",
    "        \n",
    "        messages = row[\"messages\"]\n",
    "        \n",
    "        ##### SPLIT THEM INTO A SMALLER CHUNK SO THEY ARE EASIER TO ANNOTATE #######\n",
    "        chunk_size = 20\n",
    "        for i in range(0, len(messages), chunk_size):\n",
    "            sub_messages = messages[i:i+chunk_size]\n",
    "            text = to_message_str(sub_messages, users)\n",
    "            \n",
    "            \n",
    "            # !!! this if should be removed !!!\n",
    "            if pd.isna(row[col_label]):\n",
    "                continue\n",
    "            \n",
    "            if row[col_label] in skips:\n",
    "                continue\n",
    "                \n",
    "            newdata.append({\n",
    "                \"text\": text,\n",
    "#                 \"label\": label,\n",
    "                \"idx\": idx,\n",
    "                \"nturn\": len(sub_messages)\n",
    "            })\n",
    "        \n",
    "    n_val = int(len(newdata)*0.05)\n",
    "    n_test = n_val\n",
    "    \n",
    "    test = newdata[0:n_test]\n",
    "    val = newdata[n_test:n_test+n_val]\n",
    "    train = newdata[n_test+n_val:]\n",
    "    \n",
    "    return pd.DataFrame(newdata).sample(frac=1, random_state=42)"
   ]
  },
  {
   "cell_type": "code",
   "execution_count": 9,
   "id": "8c8b0b0d",
   "metadata": {},
   "outputs": [
    {
     "name": "stdout",
     "output_type": "stream",
     "text": [
      "Loaded 1234 records from ../../Task1//annotated_conersations.jsonl\n"
     ]
    }
   ],
   "source": [
    "df = get_task1_conver(\"../../Task1/\", \"closeness\", skips = [])"
   ]
  },
  {
   "cell_type": "code",
   "execution_count": null,
   "id": "ef9586f5-3b38-44a6-9311-baaf446113ff",
   "metadata": {},
   "outputs": [],
   "source": []
  },
  {
   "cell_type": "code",
   "execution_count": null,
   "id": "29f7e057",
   "metadata": {},
   "outputs": [
    {
     "data": {
      "text/plain": [
       "2639"
      ]
     },
     "execution_count": 7,
     "metadata": {},
     "output_type": "execute_result"
    }
   ],
   "source": [
    "# unnotated = []  \n",
    "# for idx, row in df.iterrows():\n",
    "#     # print(row[\"text\"])\n",
    "#     unnotated.append({\n",
    "#         \"text\": row[\"text\"],\n",
    "#         \"idx\": row[\"idx\"],\n",
    "#         \"label\": []\n",
    "#     })\n",
    "# dump_jsonl(\"v3_unannotated.jsonl\", unnotated)"
   ]
  },
  {
   "cell_type": "code",
   "execution_count": 40,
   "id": "1319167f",
   "metadata": {},
   "outputs": [],
   "source": [
    "# print(unnotated[0][\"text\"])"
   ]
  },
  {
   "cell_type": "code",
   "execution_count": null,
   "id": "5d6e294b",
   "metadata": {},
   "outputs": [],
   "source": []
  }
 ],
 "metadata": {
  "kernelspec": {
   "display_name": "Python 3 (ipykernel)",
   "language": "python",
   "name": "python3"
  },
  "language_info": {
   "codemirror_mode": {
    "name": "ipython",
    "version": 3
   },
   "file_extension": ".py",
   "mimetype": "text/x-python",
   "name": "python",
   "nbconvert_exporter": "python",
   "pygments_lexer": "ipython3",
   "version": "3.9.7"
  }
 },
 "nbformat": 4,
 "nbformat_minor": 5
}
